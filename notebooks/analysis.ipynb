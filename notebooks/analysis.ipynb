{
 "cells": [
  {
   "cell_type": "code",
   "execution_count": null,
   "id": "85995f4f",
   "metadata": {},
   "outputs": [
    {
     "name": "stdout",
     "output_type": "stream",
     "text": [
      "✅ Project root: /Users/sudip/hull_tactical_market_prediction_using_hyperopt\n",
      "✅ Src exists: True\n"
     ]
    }
   ],
   "source": [
    "import sys\n",
    "from pathlib import Path\n",
    "\n",
    "# Add project root to path\n",
    "project_root = Path().resolve().parent  # Notebooks are in notebooks/, go up one level\n",
    "sys.path.insert(0, str(project_root))\n",
    "\n",
    "# Add venv packages\n",
    "venv_path = project_root / \"venv/lib/python3.13/site-packages\"\n",
    "if venv_path.exists():\n",
    "    sys.path.insert(0, str(venv_path))\n",
    "\n",
    "import numpy as np\n",
    "import polars as pl\n",
    "from sklearn.preprocessing import StandardScaler\n",
    "import matplotlib.pyplot as plt\n",
    "import matplotlib as mpl\n",
    "\n",
    "# Set matplotlib backend for notebook\n",
    "%matplotlib inline\n",
    "plt.style.use('seaborn-v0_8-darkgrid')\n",
    "mpl.rcParams['figure.figsize'] = (12, 6)\n",
    "\n",
    "print(f\"✅ Project root: {project_root}\")\n",
    "print(f\"✅ Src exists: {(project_root / 'src').exists()}\")\n",
    "print(f\"✅ Matplotlib version: {mpl.__version__}\")"
   ]
  },
  {
   "cell_type": "code",
   "execution_count": 8,
   "id": "d816427e",
   "metadata": {},
   "outputs": [
    {
     "name": "stderr",
     "output_type": "stream",
     "text": [
      "/Users/sudip/hull_tactical_market_prediction_using_hyperopt/venv/lib/python3.13/site-packages/tqdm/auto.py:21: TqdmWarning: IProgress not found. Please update jupyter and ipywidgets. See https://ipywidgets.readthedocs.io/en/stable/user_install.html\n",
      "  from .autonotebook import tqdm as notebook_tqdm\n"
     ]
    }
   ],
   "source": [
    "# --- Import your modules ---\n",
    "from src.features import create_advanced_features, select_features\n",
    "from src.models.elastic_net import ElasticNetModel\n",
    "from src.models.lightgbm_model import LightGBMModel\n",
    "from src.models.xgboost_model import XGBoostModel\n",
    "from src.models.ensemble import EnsembleModel\n",
    "from evaluation import score"
   ]
  },
  {
   "cell_type": "code",
   "execution_count": null,
   "id": "92ef98bf",
   "metadata": {},
   "outputs": [],
   "source": [
    "# --- Visualize Results ---\n",
    "\n",
    "def plot_model_predictions(signals_dict):\n",
    "    \"\"\"Plot predictions from all models.\"\"\"\n",
    "    fig, axes = plt.subplots(len(signals_dict), 1, figsize=(14, 4*len(signals_dict)))\n",
    "    \n",
    "    if len(signals_dict) == 1:\n",
    "        axes = [axes]\n",
    "    \n",
    "    for i, (name, signals) in enumerate(signals_dict.items()):\n",
    "        axes[i].plot(signals, marker='o', linewidth=2, label=name)\n",
    "        axes[i].set_title(f'{name} Predictions', fontsize=14, fontweight='bold')\n",
    "        axes[i].set_xlabel('Test Sample Index')\n",
    "        axes[i].set_ylabel('Signal Value')\n",
    "        axes[i].axhline(y=1.0, color='r', linestyle='--', alpha=0.5, label='Neutral')\n",
    "        axes[i].axhspan(0, 2, alpha=0.1, color='green', label='Valid Range')\n",
    "        axes[i].legend()\n",
    "        axes[i].grid(True, alpha=0.3)\n",
    "    \n",
    "    plt.tight_layout()\n",
    "    plt.savefig('artifacts/predictions_comparison.png', dpi=300, bbox_inches='tight')\n",
    "    print(\"✅ Saved predictions plot to artifacts/predictions_comparison.png\")\n",
    "    plt.show()\n",
    "\n",
    "def plot_feature_importance(feature_importance, top_n=20):\n",
    "    \"\"\"Plot feature importance.\"\"\"\n",
    "    sorted_features = sorted(feature_importance.items(), key=lambda x: x[1], reverse=True)[:top_n]\n",
    "    features, importances = zip(*sorted_features)\n",
    "    \n",
    "    plt.figure(figsize=(12, 8))\n",
    "    plt.barh(range(len(features)), importances, color='steelblue')\n",
    "    plt.yticks(range(len(features)), features)\n",
    "    plt.xlabel('Importance Score', fontsize=12)\n",
    "    plt.title(f'Top {top_n} Feature Importance (LightGBM)', fontsize=14, fontweight='bold')\n",
    "    plt.gca().invert_yaxis()\n",
    "    plt.grid(True, alpha=0.3, axis='x')\n",
    "    plt.tight_layout()\n",
    "    \n",
    "    # Ensure artifacts directory exists\n",
    "    Path('artifacts').mkdir(exist_ok=True)\n",
    "    plt.savefig('artifacts/feature_importance.png', dpi=300, bbox_inches='tight')\n",
    "    print(f\"✅ Saved feature importance plot to artifacts/feature_importance.png\")\n",
    "    plt.show()\n",
    "\n",
    "def plot_model_comparison(signals_dict):\n",
    "    \"\"\"Compare models side by side.\"\"\"\n",
    "    fig, axes = plt.subplots(1, 2, figsize=(16, 6))\n",
    "    \n",
    "    # Plot 1: Predictions comparison\n",
    "    for name, signals in signals_dict.items():\n",
    "        axes[0].plot(signals, marker='o', label=name, linewidth=2, markersize=8)\n",
    "    axes[0].set_title('Model Predictions Comparison', fontsize=14, fontweight='bold')\n",
    "    axes[0].set_xlabel('Test Sample Index')\n",
    "    axes[0].set_ylabel('Signal Value')\n",
    "    axes[0].axhline(y=1.0, color='r', linestyle='--', alpha=0.5, label='Neutral')\n",
    "    axes[0].legend()\n",
    "    axes[0].grid(True, alpha=0.3)\n",
    "    \n",
    "    # Plot 2: Signal distribution\n",
    "    for name, signals in signals_dict.items():\n",
    "        axes[1].hist(signals, alpha=0.6, label=name, bins=20)\n",
    "    axes[1].set_title('Signal Distribution', fontsize=14, fontweight='bold')\n",
    "    axes[1].set_xlabel('Signal Value')\n",
    "    axes[1].set_ylabel('Frequency')\n",
    "    axes[1].axvline(x=1.0, color='r', linestyle='--', alpha=0.5, label='Neutral')\n",
    "    axes[1].legend()\n",
    "    axes[1].grid(True, alpha=0.3)\n",
    "    \n",
    "    plt.tight_layout()\n",
    "    Path('artifacts').mkdir(exist_ok=True)\n",
    "    plt.savefig('artifacts/model_comparison.png', dpi=300, bbox_inches='tight')\n",
    "    print(\"✅ Saved comparison plot to artifacts/model_comparison.png\")\n",
    "    plt.show()\n"
   ]
  },
  {
   "cell_type": "code",
   "execution_count": null,
   "id": "054cda5e",
   "metadata": {},
   "outputs": [],
   "source": [
    "# --- Visualize Training Results ---\n",
    "\n",
    "# Plot model predictions\n",
    "plot_model_predictions(all_signals)\n",
    "\n",
    "# Plot model comparison\n",
    "plot_model_comparison(all_signals)\n",
    "\n",
    "# Plot feature importance if available\n",
    "try:\n",
    "    lgbm_model = results['LightGBM'][0]\n",
    "    feature_importance = lgbm_model.get_feature_importance()\n",
    "    plot_feature_importance(feature_importance, top_n=20)\n",
    "except Exception as e:\n",
    "    print(f\"Could not plot feature importance: {e}\")\n"
   ]
  },
  {
   "cell_type": "code",
   "execution_count": 9,
   "id": "1a9f0303",
   "metadata": {},
   "outputs": [],
   "source": [
    "def load_data(data_path: Path):\n",
    "    \"\"\"Load and preprocess data.\"\"\"\n",
    "    print(\"Loading data...\")\n",
    "    \n",
    "    train = (\n",
    "        pl.read_csv(data_path / \"train.csv\")\n",
    "        .rename({'market_forward_excess_returns': 'target'})\n",
    "        .with_columns(pl.exclude('date_id').cast(pl.Float64, strict=False))\n",
    "        .head(-10)\n",
    "    )\n",
    "    \n",
    "    test = (\n",
    "        pl.read_csv(data_path / \"test.csv\")\n",
    "        .rename({'lagged_forward_returns': 'target'})\n",
    "        .with_columns(pl.exclude('date_id').cast(pl.Float64, strict=False))\n",
    "    )\n",
    "    \n",
    "    print(f\"Train shape: {train.shape}, Test shape: {test.shape}\")\n",
    "    return train, test"
   ]
  },
  {
   "cell_type": "code",
   "execution_count": 10,
   "id": "55555295",
   "metadata": {},
   "outputs": [],
   "source": [
    "def create_features(df: pl.DataFrame) -> pl.DataFrame:\n",
    "    \"\"\"Create features from raw data.\"\"\"\n",
    "    print(\"Creating features...\")\n",
    "    \n",
    "    vars_to_keep = [\"S2\", \"E2\", \"E3\", \"P9\", \"S1\", \"S5\", \"I2\", \"P8\", \"P10\", \"P12\", \"P13\"]\n",
    "    \n",
    "    # Create basic features\n",
    "    df = df.with_columns([\n",
    "        (pl.col(\"I2\") - pl.col(\"I1\")).alias(\"U1\") if all(c in df.columns for c in [\"I2\", \"I1\"]) else pl.lit(None),\n",
    "        (pl.col(\"M11\") / ((pl.col(\"I2\") + pl.col(\"I9\") + pl.col(\"I7\")) / 3)).alias(\"U2\") if all(c in df.columns for c in [\"M11\", \"I2\", \"I9\", \"I7\"]) else pl.lit(None)\n",
    "    ])\n",
    "    \n",
    "    df = df.select([\"date_id\", \"target\"] + vars_to_keep + [\"U1\", \"U2\"])\n",
    "    \n",
    "    # Fill nulls\n",
    "    feature_cols = [col for col in df.columns if col not in ['date_id', 'target']]\n",
    "    df = df.with_columns([\n",
    "        pl.col(col).fill_null(pl.col(col).ewm_mean(com=0.5))\n",
    "        for col in feature_cols\n",
    "    ])\n",
    "    \n",
    "    # Create advanced features\n",
    "    df = create_advanced_features(df, feature_cols)\n",
    "    \n",
    "    return df.drop_nulls()"
   ]
  },
  {
   "cell_type": "code",
   "execution_count": 11,
   "id": "50368d89",
   "metadata": {},
   "outputs": [],
   "source": [
    "def prepare_data(train: pl.DataFrame, test: pl.DataFrame):\n",
    "    \"\"\"Prepare train and test datasets.\"\"\"\n",
    "    print(\"Preparing data...\")\n",
    "    \n",
    "    # Join and create features\n",
    "    common_columns = [col for col in train.columns if col in test.columns]\n",
    "    df = pl.concat([train.select(common_columns), test.select(common_columns)], how=\"vertical\")\n",
    "    \n",
    "    df = create_features(df)\n",
    "    \n",
    "    # Split back\n",
    "    train_date_ids = set(train.get_column('date_id'))\n",
    "    test_date_ids = set(test.get_column('date_id'))\n",
    "    \n",
    "    train_df = df.filter(pl.col('date_id').is_in(list(train_date_ids)))\n",
    "    test_df = df.filter(pl.col('date_id').is_in(list(test_date_ids)))\n",
    "    \n",
    "    # Get features\n",
    "    feature_cols = select_features(train_df, method='all')\n",
    "    print(f\"Number of features: {len(feature_cols)}\")\n",
    "    \n",
    "    # Prepare X and y\n",
    "    X_train = train_df.select(feature_cols).to_numpy()\n",
    "    y_train = train_df.get_column('target').to_numpy()\n",
    "    \n",
    "    X_test = test_df.select(feature_cols).to_numpy()\n",
    "    y_test = test_df.get_column('target').to_numpy()\n",
    "    \n",
    "    # Scale features\n",
    "    scaler = StandardScaler()\n",
    "    X_train = scaler.fit_transform(X_train)\n",
    "    X_test = scaler.transform(X_test)\n",
    "    \n",
    "    return X_train, y_train, X_test, y_test, scaler, feature_cols, test_df"
   ]
  },
  {
   "cell_type": "code",
   "execution_count": 12,
   "id": "45d51335",
   "metadata": {},
   "outputs": [],
   "source": [
    "def evaluate_model(name: str, predictions: np.ndarray, test_data: pl.DataFrame):\n",
    "    \"\"\"Evaluate model performance.\"\"\"\n",
    "    print(f\"\\nEvaluating {name}...\")\n",
    "    \n",
    "    # Clip predictions to [0, 2] range\n",
    "    signals = np.clip(predictions * 400 + 1, 0.0, 2.0)\n",
    "    \n",
    "    print(f\"Signal range: [{signals.min():.4f}, {signals.max():.4f}]\")\n",
    "    print(f\"Signal mean: {signals.mean():.4f}\")\n",
    "    \n",
    "    return signals"
   ]
  },
  {
   "cell_type": "code",
   "execution_count": 13,
   "id": "07022d10",
   "metadata": {},
   "outputs": [],
   "source": [
    "def train_all_models(X_train, y_train, X_test, optimize=True):\n",
    "    \"\"\"Train all models and return predictions.\"\"\"\n",
    "    results = {}\n",
    "    \n",
    "    # ElasticNet\n",
    "    print(\"\\n\" + \"=\"*50)\n",
    "    print(\"Training ElasticNet...\")\n",
    "    print(\"=\"*50)\n",
    "    enet = ElasticNetModel(n_trials=20 if optimize else 0)\n",
    "    enet.fit(X_train, y_train, optimize=optimize)\n",
    "    results['ElasticNet'] = (enet, enet.predict(X_test))\n",
    "    \n",
    "    # LightGBM\n",
    "    print(\"\\n\" + \"=\"*50)\n",
    "    print(\"Training LightGBM...\")\n",
    "    print(\"=\"*50)\n",
    "    lgbm = LightGBMModel(n_trials=20 if optimize else 0)\n",
    "    lgbm.fit(X_train, y_train, optimize=optimize)\n",
    "    results['LightGBM'] = (lgbm, lgbm.predict(X_test))\n",
    "    \n",
    "    # XGBoost\n",
    "    print(\"\\n\" + \"=\"*50)\n",
    "    print(\"Training XGBoost...\")\n",
    "    print(\"=\"*50)\n",
    "    xgb_model = XGBoostModel(n_trials=20 if optimize else 0)\n",
    "    xgb_model.fit(X_train, y_train, optimize=optimize)\n",
    "    results['XGBoost'] = (xgb_model, xgb_model.predict(X_test))\n",
    "    \n",
    "    # Ensemble (simple average)\n",
    "    print(\"\\n\" + \"=\"*50)\n",
    "    print(\"Training Ensemble...\")\n",
    "    print(\"=\"*50)\n",
    "    ensemble_models = [enet, lgbm, xgb_model]\n",
    "    ensemble = EnsembleModel(ensemble_models, weights=[0.3, 0.35, 0.35])\n",
    "    ensemble.fit(X_train, y_train, optimize=False)\n",
    "    results['Ensemble'] = (ensemble, ensemble.predict(X_test))\n",
    "    \n",
    "    return results"
   ]
  },
  {
   "cell_type": "code",
   "execution_count": 14,
   "id": "df900207",
   "metadata": {},
   "outputs": [],
   "source": [
    "def main():\n",
    "    \"\"\"Main training function.\"\"\"\n",
    "    print(\"=\"*70)\n",
    "    print(\"Hull Tactical Market Prediction - Advanced Training\")\n",
    "    print(\"=\"*70)\n",
    "    \n",
    "    # Paths\n",
    "    data_path = Path('/Users/sudip/hull_tactical_market_prediction_using_hyperopt/input/hull-tactical-market-prediction/')\n",
    "    \n",
    "    # Load data\n",
    "    train, test = load_data(data_path)\n",
    "    \n",
    "    # Prepare data\n",
    "    X_train, y_train, X_test, y_test, scaler, feature_cols, test_df = prepare_data(train, test)\n",
    "    \n",
    "    print(f\"\\nData shapes:\")\n",
    "    print(f\"X_train: {X_train.shape}, y_train: {y_train.shape}\")\n",
    "    print(f\"X_test: {X_test.shape}, y_test: {y_test.shape}\")\n",
    "    \n",
    "    # Train models\n",
    "    results = train_all_models(X_train, y_train, X_test, optimize=True)\n",
    "    \n",
    "    # Evaluate models\n",
    "    print(\"\\n\" + \"=\"*70)\n",
    "    print(\"Model Evaluation Results\")\n",
    "    print(\"=\"*70)\n",
    "    \n",
    "    all_signals = {}\n",
    "    for name, (model, predictions) in results.items():\n",
    "        signals = evaluate_model(name, predictions, test_df)\n",
    "        all_signals[name] = signals\n",
    "    \n",
    "    # Feature importance\n",
    "    print(\"\\n\" + \"=\"*70)\n",
    "    print(\"Feature Importance (LightGBM)\")\n",
    "    print(\"=\"*70)\n",
    "    try:\n",
    "        lgbm_model = results['LightGBM'][0]\n",
    "        feature_importance = lgbm_model.get_feature_importance()\n",
    "        # Sort by importance\n",
    "        sorted_features = sorted(feature_importance.items(), key=lambda x: x[1], reverse=True)\n",
    "        for i, (feature, importance) in enumerate(sorted_features[:10]):\n",
    "            print(f\"{i+1}. {feature}: {importance:.4f}\")\n",
    "    except Exception as e:\n",
    "        print(f\"Could not get feature importance: {e}\")\n",
    "    \n",
    "    return results, all_signals, test_df"
   ]
  },
  {
   "cell_type": "code",
   "execution_count": 15,
   "id": "4b803e57",
   "metadata": {},
   "outputs": [
    {
     "name": "stderr",
     "output_type": "stream",
     "text": [
      "[I 2025-10-27 19:30:23,846] A new study created in memory with name: no-name-21c5b6ee-f00f-4834-b846-17bb9535d120\n"
     ]
    },
    {
     "name": "stdout",
     "output_type": "stream",
     "text": [
      "======================================================================\n",
      "Hull Tactical Market Prediction - Advanced Training\n",
      "======================================================================\n",
      "Loading data...\n",
      "Train shape: (8980, 98), Test shape: (10, 99)\n",
      "Preparing data...\n",
      "Creating features...\n",
      "Number of features: 88\n",
      "\n",
      "Data shapes:\n",
      "X_train: (7469, 88), y_train: (7469,)\n",
      "X_test: (10, 88), y_test: (10,)\n",
      "\n",
      "==================================================\n",
      "Training ElasticNet...\n",
      "==================================================\n"
     ]
    },
    {
     "name": "stderr",
     "output_type": "stream",
     "text": [
      "Best trial: 0. Best value: 0.0109217:  10%|█         | 2/20 [00:00<00:00, 44.20it/s]"
     ]
    },
    {
     "name": "stdout",
     "output_type": "stream",
     "text": [
      "[I 2025-10-27 19:30:23,873] Trial 0 finished with value: 0.01092168130280988 and parameters: {'alpha': 0.007297800465703231, 'l1_ratio': 0.8266977037498363}. Best is trial 0 with value: 0.01092168130280988.\n",
      "[I 2025-10-27 19:30:23,885] Trial 1 finished with value: 0.01092168130280988 and parameters: {'alpha': 0.01909701656454613, 'l1_ratio': 0.8129398095122538}. Best is trial 0 with value: 0.01092168130280988.\n",
      "[I 2025-10-27 19:30:23,899] Trial 2 finished with value: 0.01092168130280988 and parameters: {'alpha': 0.2077975938957827, 'l1_ratio': 0.22910052531465752}. Best is trial 0 with value: 0.01092168130280988.\n"
     ]
    },
    {
     "name": "stderr",
     "output_type": "stream",
     "text": [
      "Best trial: 5. Best value: 0.0109063:  50%|█████     | 10/20 [00:00<00:00, 66.67it/s]"
     ]
    },
    {
     "name": "stdout",
     "output_type": "stream",
     "text": [
      "[I 2025-10-27 19:30:23,910] Trial 3 finished with value: 0.01092168130280988 and parameters: {'alpha': 0.2648327121718639, 'l1_ratio': 0.6909656355783854}. Best is trial 0 with value: 0.01092168130280988.\n",
      "[I 2025-10-27 19:30:23,921] Trial 4 finished with value: 0.01092168130280988 and parameters: {'alpha': 0.007925508913528612, 'l1_ratio': 0.37370558686271294}. Best is trial 0 with value: 0.01092168130280988.\n",
      "[I 2025-10-27 19:30:23,948] Trial 5 finished with value: 0.010906337692692822 and parameters: {'alpha': 0.0005276788678482182, 'l1_ratio': 0.6500257835009483}. Best is trial 5 with value: 0.010906337692692822.\n",
      "[I 2025-10-27 19:30:23,958] Trial 6 finished with value: 0.01092168130280988 and parameters: {'alpha': 0.01040969707121935, 'l1_ratio': 0.6340561781545503}. Best is trial 5 with value: 0.010906337692692822.\n",
      "[I 2025-10-27 19:30:23,969] Trial 7 finished with value: 0.01092168130280988 and parameters: {'alpha': 0.018667513306256982, 'l1_ratio': 0.32878892894415}. Best is trial 5 with value: 0.010906337692692822.\n",
      "[I 2025-10-27 19:30:23,980] Trial 8 finished with value: 0.01092168130280988 and parameters: {'alpha': 0.2047077894681455, 'l1_ratio': 0.024325279180035464}. Best is trial 5 with value: 0.010906337692692822.\n",
      "[I 2025-10-27 19:30:23,990] Trial 9 finished with value: 0.01092168130280988 and parameters: {'alpha': 0.17612172551004915, 'l1_ratio': 0.6558827892948681}. Best is trial 5 with value: 0.010906337692692822.\n",
      "[I 2025-10-27 19:30:24,058] Trial 10 finished with value: 0.010947950969187468 and parameters: {'alpha': 0.00010815164574758968, 'l1_ratio': 0.949978747180454}. Best is trial 5 with value: 0.010906337692692822.\n"
     ]
    },
    {
     "name": "stderr",
     "output_type": "stream",
     "text": [
      "Best trial: 5. Best value: 0.0109063:  60%|██████    | 12/20 [00:00<00:00, 66.67it/s]"
     ]
    },
    {
     "name": "stdout",
     "output_type": "stream",
     "text": [
      "[I 2025-10-27 19:30:24,076] Trial 11 finished with value: 0.010907939472471049 and parameters: {'alpha': 0.00044099178706832773, 'l1_ratio': 0.9577941985044933}. Best is trial 5 with value: 0.010906337692692822.\n",
      "[I 2025-10-27 19:30:24,108] Trial 12 finished with value: 0.010908852147510093 and parameters: {'alpha': 0.000223447226672128, 'l1_ratio': 0.9978305129092583}. Best is trial 5 with value: 0.010906337692692822.\n"
     ]
    },
    {
     "name": "stderr",
     "output_type": "stream",
     "text": [
      "Best trial: 16. Best value: 0.0109061:  85%|████████▌ | 17/20 [00:00<00:00, 48.62it/s]"
     ]
    },
    {
     "name": "stdout",
     "output_type": "stream",
     "text": [
      "[I 2025-10-27 19:30:24,129] Trial 13 finished with value: 0.010908338293250663 and parameters: {'alpha': 0.0008309398413537532, 'l1_ratio': 0.5291380850037581}. Best is trial 5 with value: 0.010906337692692822.\n",
      "[I 2025-10-27 19:30:24,141] Trial 14 finished with value: 0.01092168130280988 and parameters: {'alpha': 0.0014932118085687139, 'l1_ratio': 0.7842753106691116}. Best is trial 5 with value: 0.010906337692692822.\n",
      "[I 2025-10-27 19:30:24,157] Trial 15 finished with value: 0.01091111162682901 and parameters: {'alpha': 0.0010183892840771483, 'l1_ratio': 0.502229962105366}. Best is trial 5 with value: 0.010906337692692822.\n",
      "[I 2025-10-27 19:30:24,188] Trial 16 finished with value: 0.010906084784806324 and parameters: {'alpha': 0.0003066385681149447, 'l1_ratio': 0.9201246363462524}. Best is trial 16 with value: 0.010906084784806324.\n",
      "[I 2025-10-27 19:30:24,199] Trial 17 finished with value: 0.01092168130280988 and parameters: {'alpha': 0.0030627254076908157, 'l1_ratio': 0.7394256190138105}. Best is trial 16 with value: 0.010906084784806324.\n"
     ]
    },
    {
     "name": "stderr",
     "output_type": "stream",
     "text": [
      "Best trial: 16. Best value: 0.0109061:  90%|█████████ | 18/20 [00:00<00:00, 48.62it/s]"
     ]
    },
    {
     "name": "stdout",
     "output_type": "stream",
     "text": [
      "[I 2025-10-27 19:30:24,326] Trial 18 finished with value: 0.010935794045357689 and parameters: {'alpha': 0.0001390142448864492, 'l1_ratio': 0.8896440272322742}. Best is trial 16 with value: 0.010906084784806324.\n"
     ]
    },
    {
     "name": "stderr",
     "output_type": "stream",
     "text": [
      "Best trial: 16. Best value: 0.0109061: 100%|██████████| 20/20 [00:00<00:00, 39.23it/s]\n",
      "[I 2025-10-27 19:30:24,373] A new study created in memory with name: no-name-6ce9063f-e753-438e-ad3e-e8201c770af2\n"
     ]
    },
    {
     "name": "stdout",
     "output_type": "stream",
     "text": [
      "[I 2025-10-27 19:30:24,363] Trial 19 finished with value: 0.010909680795786048 and parameters: {'alpha': 0.0003624940028135263, 'l1_ratio': 0.5932748147253148}. Best is trial 16 with value: 0.010906084784806324.\n",
      "Best ElasticNet score: 0.010906\n",
      "Best ElasticNet params: {'alpha': 0.0003066385681149447, 'l1_ratio': 0.9201246363462524}\n",
      "\n",
      "==================================================\n",
      "Training LightGBM...\n",
      "==================================================\n"
     ]
    },
    {
     "name": "stderr",
     "output_type": "stream",
     "text": [
      "  0%|          | 0/20 [00:00<?, ?it/s]"
     ]
    },
    {
     "name": "stdout",
     "output_type": "stream",
     "text": [
      "Training until validation scores don't improve for 10 rounds\n",
      "Early stopping, best iteration is:\n",
      "[77]\tvalid_0's rmse: 0.0106913\n",
      "Training until validation scores don't improve for 10 rounds\n",
      "Early stopping, best iteration is:\n",
      "[77]\tvalid_0's rmse: 0.0120578\n",
      "Training until validation scores don't improve for 10 rounds\n",
      "Early stopping, best iteration is:\n",
      "[75]\tvalid_0's rmse: 0.00802464\n",
      "Training until validation scores don't improve for 10 rounds\n",
      "Early stopping, best iteration is:\n",
      "[80]\tvalid_0's rmse: 0.00889715\n",
      "Training until validation scores don't improve for 10 rounds\n"
     ]
    },
    {
     "name": "stderr",
     "output_type": "stream",
     "text": [
      "Best trial: 0. Best value: 0.00979109:   5%|▌         | 1/20 [00:01<00:21,  1.13s/it]"
     ]
    },
    {
     "name": "stdout",
     "output_type": "stream",
     "text": [
      "Early stopping, best iteration is:\n",
      "[50]\tvalid_0's rmse: 0.00928454\n",
      "[I 2025-10-27 19:30:25,500] Trial 0 finished with value: 0.009791093174357814 and parameters: {'num_leaves': 266, 'learning_rate': 0.043797836072516694, 'feature_fraction': 0.8251812199127648, 'bagging_fraction': 0.6446010418823219, 'bagging_freq': 1, 'min_child_samples': 96, 'reg_alpha': 9.130556948549997e-08, 'reg_lambda': 5.835154003864019e-07}. Best is trial 0 with value: 0.009791093174357814.\n",
      "Training until validation scores don't improve for 10 rounds\n",
      "Early stopping, best iteration is:\n",
      "[35]\tvalid_0's rmse: 0.011285\n",
      "Training until validation scores don't improve for 10 rounds\n",
      "Early stopping, best iteration is:\n",
      "[22]\tvalid_0's rmse: 0.0130917\n",
      "Training until validation scores don't improve for 10 rounds\n",
      "Early stopping, best iteration is:\n",
      "[77]\tvalid_0's rmse: 0.0080043\n",
      "Training until validation scores don't improve for 10 rounds\n",
      "Early stopping, best iteration is:\n",
      "[22]\tvalid_0's rmse: 0.00929121\n",
      "Training until validation scores don't improve for 10 rounds\n"
     ]
    },
    {
     "name": "stderr",
     "output_type": "stream",
     "text": [
      "Best trial: 0. Best value: 0.00979109:  20%|██        | 4/20 [00:07<00:24,  1.51s/it]"
     ]
    },
    {
     "name": "stdout",
     "output_type": "stream",
     "text": [
      "Early stopping, best iteration is:\n",
      "[48]\tvalid_0's rmse: 0.00923389\n",
      "[I 2025-10-27 19:30:31,349] Trial 1 finished with value: 0.010181234060744374 and parameters: {'num_leaves': 187, 'learning_rate': 0.03656018363348467, 'feature_fraction': 0.9372847346152482, 'bagging_fraction': 0.7262157912050081, 'bagging_freq': 7, 'min_child_samples': 6, 'reg_alpha': 4.899748463687668e-06, 'reg_lambda': 0.9263574818175079}. Best is trial 0 with value: 0.009791093174357814.\n",
      "Training until validation scores don't improve for 10 rounds\n",
      "Early stopping, best iteration is:\n",
      "[1]\tvalid_0's rmse: 0.0115297\n",
      "Training until validation scores don't improve for 10 rounds\n",
      "Early stopping, best iteration is:\n",
      "[1]\tvalid_0's rmse: 0.0131698\n",
      "Training until validation scores don't improve for 10 rounds\n",
      "Early stopping, best iteration is:\n",
      "[1]\tvalid_0's rmse: 0.0094017\n",
      "Training until validation scores don't improve for 10 rounds\n",
      "Early stopping, best iteration is:\n",
      "[1]\tvalid_0's rmse: 0.0100652\n",
      "Training until validation scores don't improve for 10 rounds\n",
      "Early stopping, best iteration is:\n",
      "[1]\tvalid_0's rmse: 0.010442\n",
      "[I 2025-10-27 19:30:31,440] Trial 2 finished with value: 0.010921681302723592 and parameters: {'num_leaves': 240, 'learning_rate': 0.08695290527582236, 'feature_fraction': 0.45761228573284485, 'bagging_fraction': 0.6357232246911027, 'bagging_freq': 7, 'min_child_samples': 52, 'reg_alpha': 6.019938760927002, 'reg_lambda': 6.846796588648516}. Best is trial 0 with value: 0.009791093174357814.\n",
      "Training until validation scores don't improve for 10 rounds\n",
      "Early stopping, best iteration is:\n",
      "[1]\tvalid_0's rmse: 0.0115297\n",
      "Training until validation scores don't improve for 10 rounds\n",
      "Early stopping, best iteration is:\n",
      "[1]\tvalid_0's rmse: 0.0131698\n",
      "Training until validation scores don't improve for 10 rounds\n",
      "Early stopping, best iteration is:\n",
      "[1]\tvalid_0's rmse: 0.0094017\n",
      "Training until validation scores don't improve for 10 rounds\n",
      "Early stopping, best iteration is:\n",
      "[1]\tvalid_0's rmse: 0.0100652\n",
      "Training until validation scores don't improve for 10 rounds\n",
      "Early stopping, best iteration is:\n",
      "[1]\tvalid_0's rmse: 0.010442\n",
      "[I 2025-10-27 19:30:31,527] Trial 3 finished with value: 0.010921681302723592 and parameters: {'num_leaves': 144, 'learning_rate': 0.014850098146418085, 'feature_fraction': 0.6268885425219787, 'bagging_fraction': 0.8566385580399788, 'bagging_freq': 2, 'min_child_samples': 29, 'reg_alpha': 6.92516069038809, 'reg_lambda': 0.0007835299881083832}. Best is trial 0 with value: 0.009791093174357814.\n",
      "Training until validation scores don't improve for 10 rounds\n",
      "Early stopping, best iteration is:\n",
      "[4]\tvalid_0's rmse: 0.0113732\n",
      "Training until validation scores don't improve for 10 rounds\n",
      "Early stopping, best iteration is:\n",
      "[13]\tvalid_0's rmse: 0.0125173\n",
      "Training until validation scores don't improve for 10 rounds\n",
      "Early stopping, best iteration is:\n",
      "[27]\tvalid_0's rmse: 0.00785539\n",
      "Training until validation scores don't improve for 10 rounds\n",
      "Early stopping, best iteration is:\n",
      "[15]\tvalid_0's rmse: 0.00904915\n"
     ]
    },
    {
     "name": "stderr",
     "output_type": "stream",
     "text": [
      "Best trial: 0. Best value: 0.00979109:  25%|██▌       | 5/20 [00:08<00:19,  1.32s/it]"
     ]
    },
    {
     "name": "stdout",
     "output_type": "stream",
     "text": [
      "Training until validation scores don't improve for 10 rounds\n",
      "Early stopping, best iteration is:\n",
      "[18]\tvalid_0's rmse: 0.00924902\n",
      "[I 2025-10-27 19:30:32,417] Trial 4 finished with value: 0.010008805269146182 and parameters: {'num_leaves': 53, 'learning_rate': 0.11663051086192758, 'feature_fraction': 0.6912950382002493, 'bagging_fraction': 0.9906634644959341, 'bagging_freq': 5, 'min_child_samples': 27, 'reg_alpha': 2.2402251716440856e-05, 'reg_lambda': 0.0004905196787934269}. Best is trial 0 with value: 0.009791093174357814.\n",
      "Training until validation scores don't improve for 10 rounds\n",
      "Early stopping, best iteration is:\n",
      "[37]\tvalid_0's rmse: 0.0110447\n",
      "Training until validation scores don't improve for 10 rounds\n",
      "Early stopping, best iteration is:\n",
      "[30]\tvalid_0's rmse: 0.0126121\n",
      "Training until validation scores don't improve for 10 rounds\n",
      "Early stopping, best iteration is:\n",
      "[82]\tvalid_0's rmse: 0.00801241\n",
      "Training until validation scores don't improve for 10 rounds\n",
      "Early stopping, best iteration is:\n",
      "[60]\tvalid_0's rmse: 0.00899537\n",
      "Training until validation scores don't improve for 10 rounds\n"
     ]
    },
    {
     "name": "stderr",
     "output_type": "stream",
     "text": [
      "Best trial: 0. Best value: 0.00979109:  30%|███       | 6/20 [00:09<00:18,  1.30s/it]"
     ]
    },
    {
     "name": "stdout",
     "output_type": "stream",
     "text": [
      "Early stopping, best iteration is:\n",
      "[55]\tvalid_0's rmse: 0.00919342\n",
      "[I 2025-10-27 19:30:33,677] Trial 5 finished with value: 0.009971593180347304 and parameters: {'num_leaves': 80, 'learning_rate': 0.04477024921100301, 'feature_fraction': 0.9709296118648515, 'bagging_fraction': 0.5811321899150171, 'bagging_freq': 2, 'min_child_samples': 62, 'reg_alpha': 3.281203915938223e-05, 'reg_lambda': 0.0017547203810618483}. Best is trial 0 with value: 0.009791093174357814.\n",
      "Training until validation scores don't improve for 10 rounds\n",
      "Early stopping, best iteration is:\n",
      "[27]\tvalid_0's rmse: 0.0114896\n",
      "Training until validation scores don't improve for 10 rounds\n",
      "Early stopping, best iteration is:\n",
      "[34]\tvalid_0's rmse: 0.0126678\n",
      "Training until validation scores don't improve for 10 rounds\n",
      "Early stopping, best iteration is:\n",
      "[80]\tvalid_0's rmse: 0.00804183\n",
      "Training until validation scores don't improve for 10 rounds\n",
      "Early stopping, best iteration is:\n",
      "[69]\tvalid_0's rmse: 0.00884516\n",
      "Training until validation scores don't improve for 10 rounds\n"
     ]
    },
    {
     "name": "stderr",
     "output_type": "stream",
     "text": [
      "Best trial: 0. Best value: 0.00979109:  35%|███▌      | 7/20 [00:09<00:13,  1.08s/it]"
     ]
    },
    {
     "name": "stdout",
     "output_type": "stream",
     "text": [
      "Did not meet early stopping. Best iteration is:\n",
      "[98]\tvalid_0's rmse: 0.00908131\n",
      "[I 2025-10-27 19:30:34,235] Trial 6 finished with value: 0.010025695073425555 and parameters: {'num_leaves': 205, 'learning_rate': 0.09652517799894006, 'feature_fraction': 0.7865109482662519, 'bagging_fraction': 0.7787229203141227, 'bagging_freq': 2, 'min_child_samples': 80, 'reg_alpha': 0.6143387625678385, 'reg_lambda': 3.7218676298940167e-07}. Best is trial 0 with value: 0.009791093174357814.\n",
      "Training until validation scores don't improve for 10 rounds\n",
      "Early stopping, best iteration is:\n",
      "[22]\tvalid_0's rmse: 0.0106292\n",
      "Training until validation scores don't improve for 10 rounds\n",
      "Early stopping, best iteration is:\n",
      "[18]\tvalid_0's rmse: 0.0122083\n",
      "Training until validation scores don't improve for 10 rounds\n",
      "Early stopping, best iteration is:\n",
      "[56]\tvalid_0's rmse: 0.00789965\n",
      "Training until validation scores don't improve for 10 rounds\n",
      "Early stopping, best iteration is:\n",
      "[25]\tvalid_0's rmse: 0.00892301\n",
      "Training until validation scores don't improve for 10 rounds\n"
     ]
    },
    {
     "name": "stderr",
     "output_type": "stream",
     "text": [
      "Best trial: 7. Best value: 0.00974495:  40%|████      | 8/20 [00:10<00:12,  1.00s/it]"
     ]
    },
    {
     "name": "stdout",
     "output_type": "stream",
     "text": [
      "Early stopping, best iteration is:\n",
      "[25]\tvalid_0's rmse: 0.00906453\n",
      "[I 2025-10-27 19:30:35,068] Trial 7 finished with value: 0.009744949414541822 and parameters: {'num_leaves': 192, 'learning_rate': 0.13679037421695697, 'feature_fraction': 0.9038749035023207, 'bagging_fraction': 0.8055296143134945, 'bagging_freq': 1, 'min_child_samples': 83, 'reg_alpha': 0.00019776151604743858, 'reg_lambda': 0.006012365575555611}. Best is trial 7 with value: 0.009744949414541822.\n",
      "Training until validation scores don't improve for 10 rounds\n",
      "Early stopping, best iteration is:\n",
      "[1]\tvalid_0's rmse: 0.0115297\n",
      "Training until validation scores don't improve for 10 rounds\n",
      "Early stopping, best iteration is:\n",
      "[1]\tvalid_0's rmse: 0.0131698\n",
      "Training until validation scores don't improve for 10 rounds\n",
      "Early stopping, best iteration is:\n",
      "[79]\tvalid_0's rmse: 0.00927335\n",
      "Training until validation scores don't improve for 10 rounds\n",
      "Early stopping, best iteration is:\n",
      "[56]\tvalid_0's rmse: 0.00986413\n",
      "Training until validation scores don't improve for 10 rounds\n"
     ]
    },
    {
     "name": "stderr",
     "output_type": "stream",
     "text": [
      "Best trial: 7. Best value: 0.00974495:  45%|████▌     | 9/20 [00:10<00:08,  1.28it/s]"
     ]
    },
    {
     "name": "stdout",
     "output_type": "stream",
     "text": [
      "Did not meet early stopping. Best iteration is:\n",
      "[99]\tvalid_0's rmse: 0.0100442\n",
      "[I 2025-10-27 19:30:35,344] Trial 8 finished with value: 0.010776311081312722 and parameters: {'num_leaves': 143, 'learning_rate': 0.01501758648989084, 'feature_fraction': 0.9116951389768777, 'bagging_fraction': 0.5194448423769537, 'bagging_freq': 3, 'min_child_samples': 98, 'reg_alpha': 1.005369478975109, 'reg_lambda': 0.0007943504789387678}. Best is trial 7 with value: 0.009744949414541822.\n",
      "Training until validation scores don't improve for 10 rounds\n",
      "Early stopping, best iteration is:\n",
      "[42]\tvalid_0's rmse: 0.010778\n",
      "Training until validation scores don't improve for 10 rounds\n",
      "Early stopping, best iteration is:\n",
      "[40]\tvalid_0's rmse: 0.0121608\n",
      "Training until validation scores don't improve for 10 rounds\n",
      "Early stopping, best iteration is:\n",
      "[66]\tvalid_0's rmse: 0.00784144\n",
      "Training until validation scores don't improve for 10 rounds\n",
      "Early stopping, best iteration is:\n",
      "[49]\tvalid_0's rmse: 0.00867163\n",
      "Training until validation scores don't improve for 10 rounds\n"
     ]
    },
    {
     "name": "stderr",
     "output_type": "stream",
     "text": [
      "Best trial: 9. Best value: 0.0097243:  50%|█████     | 10/20 [00:11<00:07,  1.28it/s]"
     ]
    },
    {
     "name": "stdout",
     "output_type": "stream",
     "text": [
      "Early stopping, best iteration is:\n",
      "[54]\tvalid_0's rmse: 0.00916955\n",
      "[I 2025-10-27 19:30:36,126] Trial 9 finished with value: 0.009724299391290566 and parameters: {'num_leaves': 292, 'learning_rate': 0.11361596747290696, 'feature_fraction': 0.8345266821166992, 'bagging_fraction': 0.7033808381281593, 'bagging_freq': 4, 'min_child_samples': 82, 'reg_alpha': 0.22526950863841963, 'reg_lambda': 3.7712416390929496e-08}. Best is trial 9 with value: 0.009724299391290566.\n",
      "Training until validation scores don't improve for 10 rounds\n",
      "Early stopping, best iteration is:\n",
      "[12]\tvalid_0's rmse: 0.0107378\n",
      "Training until validation scores don't improve for 10 rounds\n",
      "Early stopping, best iteration is:\n",
      "[24]\tvalid_0's rmse: 0.0122733\n",
      "Training until validation scores don't improve for 10 rounds\n",
      "Early stopping, best iteration is:\n",
      "[13]\tvalid_0's rmse: 0.00808636\n",
      "Training until validation scores don't improve for 10 rounds\n"
     ]
    },
    {
     "name": "stderr",
     "output_type": "stream",
     "text": [
      "Best trial: 9. Best value: 0.0097243:  55%|█████▌    | 11/20 [00:12<00:06,  1.49it/s]"
     ]
    },
    {
     "name": "stdout",
     "output_type": "stream",
     "text": [
      "Early stopping, best iteration is:\n",
      "[15]\tvalid_0's rmse: 0.00943294\n",
      "Training until validation scores don't improve for 10 rounds\n",
      "Early stopping, best iteration is:\n",
      "[18]\tvalid_0's rmse: 0.00949112\n",
      "[I 2025-10-27 19:30:36,535] Trial 10 finished with value: 0.01000429854995514 and parameters: {'num_leaves': 300, 'learning_rate': 0.28858479357643546, 'feature_fraction': 0.531697861852908, 'bagging_fraction': 0.4356081510829514, 'bagging_freq': 5, 'min_child_samples': 60, 'reg_alpha': 0.014504126183152855, 'reg_lambda': 4.662592854346037e-08}. Best is trial 9 with value: 0.009724299391290566.\n",
      "Training until validation scores don't improve for 10 rounds\n",
      "Early stopping, best iteration is:\n",
      "[8]\tvalid_0's rmse: 0.0109878\n",
      "Training until validation scores don't improve for 10 rounds\n",
      "Early stopping, best iteration is:\n",
      "[11]\tvalid_0's rmse: 0.0122323\n",
      "Training until validation scores don't improve for 10 rounds\n",
      "Early stopping, best iteration is:\n",
      "[34]\tvalid_0's rmse: 0.00790028\n",
      "Training until validation scores don't improve for 10 rounds\n",
      "Early stopping, best iteration is:\n",
      "[10]\tvalid_0's rmse: 0.00892472\n",
      "Training until validation scores don't improve for 10 rounds\n"
     ]
    },
    {
     "name": "stderr",
     "output_type": "stream",
     "text": [
      "Best trial: 9. Best value: 0.0097243:  60%|██████    | 12/20 [00:12<00:05,  1.53it/s]"
     ]
    },
    {
     "name": "stdout",
     "output_type": "stream",
     "text": [
      "Early stopping, best iteration is:\n",
      "[18]\tvalid_0's rmse: 0.00936657\n",
      "[I 2025-10-27 19:30:37,155] Trial 11 finished with value: 0.009882324650786803 and parameters: {'num_leaves': 231, 'learning_rate': 0.21808627120044696, 'feature_fraction': 0.8223475351502685, 'bagging_fraction': 0.8291451752685571, 'bagging_freq': 4, 'min_child_samples': 79, 'reg_alpha': 0.0022036897561080603, 'reg_lambda': 3.963468684384549e-06}. Best is trial 9 with value: 0.009724299391290566.\n",
      "Training until validation scores don't improve for 10 rounds\n",
      "Early stopping, best iteration is:\n",
      "[11]\tvalid_0's rmse: 0.0107052\n",
      "Training until validation scores don't improve for 10 rounds\n",
      "Early stopping, best iteration is:\n",
      "[18]\tvalid_0's rmse: 0.0122933\n",
      "Training until validation scores don't improve for 10 rounds\n",
      "Early stopping, best iteration is:\n",
      "[27]\tvalid_0's rmse: 0.00777699\n",
      "Training until validation scores don't improve for 10 rounds\n",
      "Early stopping, best iteration is:\n",
      "[19]\tvalid_0's rmse: 0.00880366\n",
      "Training until validation scores don't improve for 10 rounds\n"
     ]
    },
    {
     "name": "stderr",
     "output_type": "stream",
     "text": [
      "Best trial: 9. Best value: 0.0097243:  65%|██████▌   | 13/20 [00:13<00:04,  1.43it/s]"
     ]
    },
    {
     "name": "stdout",
     "output_type": "stream",
     "text": [
      "Early stopping, best iteration is:\n",
      "[20]\tvalid_0's rmse: 0.00917279\n",
      "[I 2025-10-27 19:30:37,951] Trial 12 finished with value: 0.009750394715881194 and parameters: {'num_leaves': 300, 'learning_rate': 0.18346848464104204, 'feature_fraction': 0.866155294120521, 'bagging_fraction': 0.9191428124654858, 'bagging_freq': 5, 'min_child_samples': 78, 'reg_alpha': 0.02601732051566071, 'reg_lambda': 0.0481431135034593}. Best is trial 9 with value: 0.009724299391290566.\n",
      "Training until validation scores don't improve for 10 rounds\n",
      "Early stopping, best iteration is:\n",
      "[18]\tvalid_0's rmse: 0.0107518\n",
      "Training until validation scores don't improve for 10 rounds\n",
      "Early stopping, best iteration is:\n",
      "[42]\tvalid_0's rmse: 0.0125318\n",
      "Training until validation scores don't improve for 10 rounds\n",
      "Early stopping, best iteration is:\n",
      "[29]\tvalid_0's rmse: 0.00801933\n",
      "Training until validation scores don't improve for 10 rounds\n",
      "Early stopping, best iteration is:\n",
      "[37]\tvalid_0's rmse: 0.00896104\n",
      "Training until validation scores don't improve for 10 rounds\n"
     ]
    },
    {
     "name": "stderr",
     "output_type": "stream",
     "text": [
      "Best trial: 9. Best value: 0.0097243:  70%|███████   | 14/20 [00:14<00:04,  1.30it/s]"
     ]
    },
    {
     "name": "stdout",
     "output_type": "stream",
     "text": [
      "Early stopping, best iteration is:\n",
      "[40]\tvalid_0's rmse: 0.00925871\n",
      "[I 2025-10-27 19:30:38,893] Trial 13 finished with value: 0.00990452839755181 and parameters: {'num_leaves': 98, 'learning_rate': 0.13873559273429212, 'feature_fraction': 0.7373698419723375, 'bagging_fraction': 0.7270753635860288, 'bagging_freq': 1, 'min_child_samples': 70, 'reg_alpha': 0.00044724545429999365, 'reg_lambda': 1.596761663082415e-05}. Best is trial 9 with value: 0.009724299391290566.\n",
      "Training until validation scores don't improve for 10 rounds\n",
      "Early stopping, best iteration is:\n",
      "[9]\tvalid_0's rmse: 0.0114177\n",
      "Training until validation scores don't improve for 10 rounds\n",
      "Early stopping, best iteration is:\n",
      "[33]\tvalid_0's rmse: 0.0122563\n",
      "Training until validation scores don't improve for 10 rounds\n",
      "Early stopping, best iteration is:\n",
      "[32]\tvalid_0's rmse: 0.00820139\n",
      "Training until validation scores don't improve for 10 rounds\n",
      "Early stopping, best iteration is:\n",
      "[69]\tvalid_0's rmse: 0.00894051\n",
      "Training until validation scores don't improve for 10 rounds\n"
     ]
    },
    {
     "name": "stderr",
     "output_type": "stream",
     "text": [
      "Best trial: 9. Best value: 0.0097243:  75%|███████▌  | 15/20 [00:15<00:03,  1.30it/s]"
     ]
    },
    {
     "name": "stdout",
     "output_type": "stream",
     "text": [
      "Early stopping, best iteration is:\n",
      "[68]\tvalid_0's rmse: 0.0091089\n",
      "[I 2025-10-27 19:30:39,660] Trial 14 finished with value: 0.009984960421435523 and parameters: {'num_leaves': 18, 'learning_rate': 0.07406373233812706, 'feature_fraction': 0.9936089132058863, 'bagging_fraction': 0.8398173931180326, 'bagging_freq': 4, 'min_child_samples': 46, 'reg_alpha': 2.742339268344592e-07, 'reg_lambda': 1.0156814182119353e-08}. Best is trial 9 with value: 0.009724299391290566.\n",
      "Training until validation scores don't improve for 10 rounds\n",
      "Early stopping, best iteration is:\n",
      "[90]\tvalid_0's rmse: 0.0109112\n",
      "Training until validation scores don't improve for 10 rounds\n",
      "Did not meet early stopping. Best iteration is:\n",
      "[99]\tvalid_0's rmse: 0.0123882\n",
      "Training until validation scores don't improve for 10 rounds\n",
      "Did not meet early stopping. Best iteration is:\n",
      "[99]\tvalid_0's rmse: 0.00812299\n",
      "Training until validation scores don't improve for 10 rounds\n",
      "Did not meet early stopping. Best iteration is:\n",
      "[92]\tvalid_0's rmse: 0.00900952\n",
      "Training until validation scores don't improve for 10 rounds\n"
     ]
    },
    {
     "name": "stderr",
     "output_type": "stream",
     "text": [
      "Best trial: 9. Best value: 0.0097243:  80%|████████  | 16/20 [00:16<00:03,  1.09it/s]"
     ]
    },
    {
     "name": "stdout",
     "output_type": "stream",
     "text": [
      "Early stopping, best iteration is:\n",
      "[61]\tvalid_0's rmse: 0.0094996\n",
      "[I 2025-10-27 19:30:40,915] Trial 15 finished with value: 0.009986287839823731 and parameters: {'num_leaves': 191, 'learning_rate': 0.022676253985069082, 'feature_fraction': 0.6825267847898925, 'bagging_fraction': 0.6538807776864191, 'bagging_freq': 6, 'min_child_samples': 89, 'reg_alpha': 0.04371275214033094, 'reg_lambda': 0.029511624208841347}. Best is trial 9 with value: 0.009724299391290566.\n",
      "Training until validation scores don't improve for 10 rounds\n",
      "Early stopping, best iteration is:\n",
      "[58]\tvalid_0's rmse: 0.0105663\n",
      "Training until validation scores don't improve for 10 rounds\n",
      "Early stopping, best iteration is:\n",
      "[61]\tvalid_0's rmse: 0.0122869\n",
      "Training until validation scores don't improve for 10 rounds\n",
      "Early stopping, best iteration is:\n",
      "[90]\tvalid_0's rmse: 0.00789346\n",
      "Training until validation scores don't improve for 10 rounds\n",
      "Early stopping, best iteration is:\n",
      "[60]\tvalid_0's rmse: 0.0089278\n",
      "Training until validation scores don't improve for 10 rounds\n"
     ]
    },
    {
     "name": "stderr",
     "output_type": "stream",
     "text": [
      "Best trial: 9. Best value: 0.0097243:  85%|████████▌ | 17/20 [00:18<00:03,  1.08s/it]"
     ]
    },
    {
     "name": "stdout",
     "output_type": "stream",
     "text": [
      "Early stopping, best iteration is:\n",
      "[62]\tvalid_0's rmse: 0.0091823\n",
      "[I 2025-10-27 19:30:42,394] Trial 16 finished with value: 0.009771351819912144 and parameters: {'num_leaves': 261, 'learning_rate': 0.06251310391809903, 'feature_fraction': 0.8882487961240741, 'bagging_fraction': 0.7785158808454317, 'bagging_freq': 3, 'min_child_samples': 88, 'reg_alpha': 0.0008314445758577213, 'reg_lambda': 0.01885372869975598}. Best is trial 9 with value: 0.009724299391290566.\n",
      "Training until validation scores don't improve for 10 rounds\n",
      "Early stopping, best iteration is:\n",
      "[6]\tvalid_0's rmse: 0.011445\n",
      "Training until validation scores don't improve for 10 rounds\n",
      "Early stopping, best iteration is:\n",
      "[15]\tvalid_0's rmse: 0.0123735\n",
      "Training until validation scores don't improve for 10 rounds\n",
      "Early stopping, best iteration is:\n",
      "[28]\tvalid_0's rmse: 0.00805156\n",
      "Training until validation scores don't improve for 10 rounds\n",
      "Early stopping, best iteration is:\n",
      "[8]\tvalid_0's rmse: 0.00910445\n",
      "Training until validation scores don't improve for 10 rounds\n"
     ]
    },
    {
     "name": "stderr",
     "output_type": "stream",
     "text": [
      "Best trial: 9. Best value: 0.0097243:  90%|█████████ | 18/20 [00:19<00:02,  1.13s/it]"
     ]
    },
    {
     "name": "stdout",
     "output_type": "stream",
     "text": [
      "Early stopping, best iteration is:\n",
      "[27]\tvalid_0's rmse: 0.00913161\n",
      "[I 2025-10-27 19:30:43,624] Trial 17 finished with value: 0.010021235842765942 and parameters: {'num_leaves': 123, 'learning_rate': 0.14399061127523732, 'feature_fraction': 0.7652642951007269, 'bagging_fraction': 0.9081639691825264, 'bagging_freq': 3, 'min_child_samples': 39, 'reg_alpha': 3.9120003495911505e-06, 'reg_lambda': 2.7013394106067846e-05}. Best is trial 9 with value: 0.009724299391290566.\n",
      "Training until validation scores don't improve for 10 rounds\n",
      "Early stopping, best iteration is:\n",
      "[18]\tvalid_0's rmse: 0.0109775\n",
      "Training until validation scores don't improve for 10 rounds\n",
      "Early stopping, best iteration is:\n",
      "[8]\tvalid_0's rmse: 0.0126959\n",
      "Training until validation scores don't improve for 10 rounds\n"
     ]
    },
    {
     "name": "stderr",
     "output_type": "stream",
     "text": [
      "Best trial: 9. Best value: 0.0097243:  95%|█████████▌| 19/20 [00:19<00:00,  1.07it/s]"
     ]
    },
    {
     "name": "stdout",
     "output_type": "stream",
     "text": [
      "Early stopping, best iteration is:\n",
      "[78]\tvalid_0's rmse: 0.0079029\n",
      "Training until validation scores don't improve for 10 rounds\n",
      "Early stopping, best iteration is:\n",
      "[13]\tvalid_0's rmse: 0.00892906\n",
      "Training until validation scores don't improve for 10 rounds\n",
      "Early stopping, best iteration is:\n",
      "[13]\tvalid_0's rmse: 0.0093676\n",
      "[I 2025-10-27 19:30:44,100] Trial 18 finished with value: 0.009974592130407486 and parameters: {'num_leaves': 168, 'learning_rate': 0.19451879910491066, 'feature_fraction': 0.6063235400389018, 'bagging_fraction': 0.5567676935179099, 'bagging_freq': 1, 'min_child_samples': 68, 'reg_alpha': 0.17053514679530943, 'reg_lambda': 5.633348028168927e-05}. Best is trial 9 with value: 0.009724299391290566.\n",
      "Training until validation scores don't improve for 10 rounds\n",
      "Early stopping, best iteration is:\n",
      "[56]\tvalid_0's rmse: 0.0109061\n",
      "Training until validation scores don't improve for 10 rounds\n",
      "Did not meet early stopping. Best iteration is:\n",
      "[99]\tvalid_0's rmse: 0.0123155\n",
      "Training until validation scores don't improve for 10 rounds\n",
      "Did not meet early stopping. Best iteration is:\n",
      "[100]\tvalid_0's rmse: 0.00805775\n",
      "Training until validation scores don't improve for 10 rounds\n",
      "Did not meet early stopping. Best iteration is:\n",
      "[100]\tvalid_0's rmse: 0.00891251\n",
      "Training until validation scores don't improve for 10 rounds\n"
     ]
    },
    {
     "name": "stderr",
     "output_type": "stream",
     "text": [
      "Best trial: 9. Best value: 0.0097243: 100%|██████████| 20/20 [00:21<00:00,  1.06s/it]"
     ]
    },
    {
     "name": "stdout",
     "output_type": "stream",
     "text": [
      "Did not meet early stopping. Best iteration is:\n",
      "[99]\tvalid_0's rmse: 0.00926797\n",
      "[I 2025-10-27 19:30:45,661] Trial 19 finished with value: 0.009891975318083742 and parameters: {'num_leaves': 223, 'learning_rate': 0.028120220629234586, 'feature_fraction': 0.8489119232872124, 'bagging_fraction': 0.7729801905872041, 'bagging_freq': 4, 'min_child_samples': 100, 'reg_alpha': 0.0050228005894180925, 'reg_lambda': 0.3247671312010122}. Best is trial 9 with value: 0.009724299391290566.\n",
      "Best LightGBM score: 0.009724\n",
      "Best LightGBM params: {'num_leaves': 292, 'learning_rate': 0.11361596747290696, 'feature_fraction': 0.8345266821166992, 'bagging_fraction': 0.7033808381281593, 'bagging_freq': 4, 'min_child_samples': 82, 'reg_alpha': 0.22526950863841963, 'reg_lambda': 3.7712416390929496e-08}\n"
     ]
    },
    {
     "name": "stderr",
     "output_type": "stream",
     "text": [
      "\n",
      "[I 2025-10-27 19:30:48,426] A new study created in memory with name: no-name-28b6b707-32a2-474f-bdfd-b693e40a13c8\n"
     ]
    },
    {
     "name": "stdout",
     "output_type": "stream",
     "text": [
      "\n",
      "==================================================\n",
      "Training XGBoost...\n",
      "==================================================\n"
     ]
    },
    {
     "name": "stderr",
     "output_type": "stream",
     "text": [
      "Best trial: 0. Best value: 0.0102637:  10%|█         | 2/20 [00:00<00:06,  2.62it/s]"
     ]
    },
    {
     "name": "stdout",
     "output_type": "stream",
     "text": [
      "[I 2025-10-27 19:30:49,187] Trial 0 finished with value: 0.010263655174680548 and parameters: {'max_depth': 4, 'learning_rate': 0.06103149470838381, 'subsample': 0.9017307767053339, 'colsample_bytree': 0.9474817380211158, 'colsample_bylevel': 0.8679799662564859, 'min_child_weight': 4, 'gamma': 3.338133798049978e-08, 'reg_alpha': 1.4719443897201885e-06, 'reg_lambda': 0.002323830295305305}. Best is trial 0 with value: 0.010263655174680548.\n",
      "[I 2025-10-27 19:30:49,303] Trial 1 finished with value: 0.010921682686694799 and parameters: {'max_depth': 4, 'learning_rate': 0.015023685848882936, 'subsample': 0.826441091562693, 'colsample_bytree': 0.42886507204597824, 'colsample_bylevel': 0.6834048054981771, 'min_child_weight': 2, 'gamma': 0.036074502277139216, 'reg_alpha': 0.048955823324786436, 'reg_lambda': 1.6028582620723315e-06}. Best is trial 0 with value: 0.010263655174680548.\n"
     ]
    },
    {
     "name": "stderr",
     "output_type": "stream",
     "text": [
      "Best trial: 0. Best value: 0.0102637:  15%|█▌        | 3/20 [00:01<00:07,  2.32it/s]"
     ]
    },
    {
     "name": "stdout",
     "output_type": "stream",
     "text": [
      "[I 2025-10-27 19:30:49,792] Trial 2 finished with value: 0.010622650369703111 and parameters: {'max_depth': 3, 'learning_rate': 0.019177958240280818, 'subsample': 0.8140499349284718, 'colsample_bytree': 0.6849790367389798, 'colsample_bylevel': 0.43306045785352665, 'min_child_weight': 3, 'gamma': 0.00014478191858242645, 'reg_alpha': 6.662298998795117e-08, 'reg_lambda': 2.724598082296268e-07}. Best is trial 0 with value: 0.010263655174680548.\n",
      "[I 2025-10-27 19:30:49,883] Trial 3 finished with value: 0.01092230709238153 and parameters: {'max_depth': 10, 'learning_rate': 0.02990492710862509, 'subsample': 0.44443815683198773, 'colsample_bytree': 0.7376013433131435, 'colsample_bylevel': 0.9265011030415491, 'min_child_weight': 8, 'gamma': 0.11459984504167071, 'reg_alpha': 0.009989352048322724, 'reg_lambda': 2.631247322830165e-05}. Best is trial 0 with value: 0.010263655174680548.\n"
     ]
    },
    {
     "name": "stderr",
     "output_type": "stream",
     "text": [
      "Best trial: 0. Best value: 0.0102637:  25%|██▌       | 5/20 [00:02<00:05,  2.64it/s]"
     ]
    },
    {
     "name": "stdout",
     "output_type": "stream",
     "text": [
      "[I 2025-10-27 19:30:50,472] Trial 4 finished with value: 0.01076496494182189 and parameters: {'max_depth': 8, 'learning_rate': 0.15685982294081213, 'subsample': 0.4362979071513515, 'colsample_bytree': 0.920688336400966, 'colsample_bylevel': 0.7249073899718579, 'min_child_weight': 3, 'gamma': 1.5295872802981865e-06, 'reg_alpha': 3.293937701775294e-06, 'reg_lambda': 0.18549036286441326}. Best is trial 0 with value: 0.010263655174680548.\n",
      "[I 2025-10-27 19:30:50,562] Trial 5 finished with value: 0.010921923473367245 and parameters: {'max_depth': 7, 'learning_rate': 0.15658490384121168, 'subsample': 0.7974198457741418, 'colsample_bytree': 0.6927538555897481, 'colsample_bylevel': 0.8421103936279101, 'min_child_weight': 1, 'gamma': 0.05337342356407994, 'reg_alpha': 1.0224740373658142e-06, 'reg_lambda': 2.0681472341867985e-07}. Best is trial 0 with value: 0.010263655174680548.\n"
     ]
    },
    {
     "name": "stderr",
     "output_type": "stream",
     "text": [
      "Best trial: 0. Best value: 0.0102637:  40%|████      | 8/20 [00:02<00:02,  4.20it/s]"
     ]
    },
    {
     "name": "stdout",
     "output_type": "stream",
     "text": [
      "[I 2025-10-27 19:30:50,771] Trial 6 finished with value: 0.010695635272434934 and parameters: {'max_depth': 3, 'learning_rate': 0.0762572807367598, 'subsample': 0.44139474309501653, 'colsample_bytree': 0.6423068941509565, 'colsample_bylevel': 0.7413125661395558, 'min_child_weight': 1, 'gamma': 0.001110996534428032, 'reg_alpha': 6.170981677186826e-07, 'reg_lambda': 1.768378382639758}. Best is trial 0 with value: 0.010263655174680548.\n",
      "[I 2025-10-27 19:30:50,889] Trial 7 finished with value: 0.010854183879717661 and parameters: {'max_depth': 3, 'learning_rate': 0.06021720067133122, 'subsample': 0.40153893081649544, 'colsample_bytree': 0.9710146962706637, 'colsample_bylevel': 0.8257765251967224, 'min_child_weight': 2, 'gamma': 0.0033384819930206908, 'reg_alpha': 0.005176684270390895, 'reg_lambda': 0.014757527771135046}. Best is trial 0 with value: 0.010263655174680548.\n"
     ]
    },
    {
     "name": "stderr",
     "output_type": "stream",
     "text": [
      "Best trial: 0. Best value: 0.0102637:  50%|█████     | 10/20 [00:02<00:01,  5.33it/s]"
     ]
    },
    {
     "name": "stdout",
     "output_type": "stream",
     "text": [
      "[I 2025-10-27 19:30:50,976] Trial 8 finished with value: 0.010921733829219488 and parameters: {'max_depth': 5, 'learning_rate': 0.012678372739420617, 'subsample': 0.9827730191362178, 'colsample_bytree': 0.715895272523055, 'colsample_bylevel': 0.716980942593327, 'min_child_weight': 2, 'gamma': 0.5207236429606842, 'reg_alpha': 4.829167393791742e-05, 'reg_lambda': 0.00017731158936717695}. Best is trial 0 with value: 0.010263655174680548.\n",
      "[I 2025-10-27 19:30:51,117] Trial 9 finished with value: 0.01073923453130307 and parameters: {'max_depth': 3, 'learning_rate': 0.12948239208052081, 'subsample': 0.4719808741362945, 'colsample_bytree': 0.564421353176641, 'colsample_bylevel': 0.7753544807615844, 'min_child_weight': 9, 'gamma': 8.725034364673264e-06, 'reg_alpha': 0.003037308585847534, 'reg_lambda': 4.5675357827569264e-05}. Best is trial 0 with value: 0.010263655174680548.\n"
     ]
    },
    {
     "name": "stderr",
     "output_type": "stream",
     "text": [
      "Best trial: 0. Best value: 0.0102637:  55%|█████▌    | 11/20 [00:02<00:01,  5.71it/s]"
     ]
    },
    {
     "name": "stdout",
     "output_type": "stream",
     "text": [
      "[I 2025-10-27 19:30:51,250] Trial 10 finished with value: 0.010800746486499509 and parameters: {'max_depth': 6, 'learning_rate': 0.03289507236073539, 'subsample': 0.9696578454538975, 'colsample_bytree': 0.872906806249501, 'colsample_bylevel': 0.9965432142823996, 'min_child_weight': 5, 'gamma': 7.069164155577376e-08, 'reg_alpha': 1.7905972128833036, 'reg_lambda': 0.007474630196745091}. Best is trial 0 with value: 0.010263655174680548.\n"
     ]
    },
    {
     "name": "stderr",
     "output_type": "stream",
     "text": [
      "Best trial: 0. Best value: 0.0102637:  60%|██████    | 12/20 [00:03<00:02,  3.18it/s]"
     ]
    },
    {
     "name": "stdout",
     "output_type": "stream",
     "text": [
      "[I 2025-10-27 19:30:51,996] Trial 11 finished with value: 0.010357260320772051 and parameters: {'max_depth': 5, 'learning_rate': 0.028923053074773507, 'subsample': 0.8364920879338519, 'colsample_bytree': 0.828333989268935, 'colsample_bylevel': 0.405724227926433, 'min_child_weight': 5, 'gamma': 1.0789681019378453e-08, 'reg_alpha': 2.4454966262221262e-08, 'reg_lambda': 3.627222433629437e-08}. Best is trial 0 with value: 0.010263655174680548.\n"
     ]
    },
    {
     "name": "stderr",
     "output_type": "stream",
     "text": [
      "Best trial: 0. Best value: 0.0102637:  65%|██████▌   | 13/20 [00:04<00:02,  2.51it/s]"
     ]
    },
    {
     "name": "stdout",
     "output_type": "stream",
     "text": [
      "[I 2025-10-27 19:30:52,635] Trial 12 finished with value: 0.010417529291713348 and parameters: {'max_depth': 5, 'learning_rate': 0.028216570043136022, 'subsample': 0.6685391552593735, 'colsample_bytree': 0.8557711621165356, 'colsample_bylevel': 0.4028301278433169, 'min_child_weight': 6, 'gamma': 2.048912882932823e-08, 'reg_alpha': 1.695547826089115e-08, 'reg_lambda': 1.594691048132519e-08}. Best is trial 0 with value: 0.010263655174680548.\n"
     ]
    },
    {
     "name": "stderr",
     "output_type": "stream",
     "text": [
      "Best trial: 13. Best value: 0.0100334:  70%|███████   | 14/20 [00:04<00:02,  2.18it/s]"
     ]
    },
    {
     "name": "stdout",
     "output_type": "stream",
     "text": [
      "[I 2025-10-27 19:30:53,256] Trial 13 finished with value: 0.010033399530710621 and parameters: {'max_depth': 5, 'learning_rate': 0.07933689265280788, 'subsample': 0.8913042652812334, 'colsample_bytree': 0.8117344914919157, 'colsample_bylevel': 0.5868298523715484, 'min_child_weight': 6, 'gamma': 3.803507147495835e-07, 'reg_alpha': 4.534777830614657e-05, 'reg_lambda': 0.004211086141208008}. Best is trial 13 with value: 0.010033399530710621.\n"
     ]
    },
    {
     "name": "stderr",
     "output_type": "stream",
     "text": [
      "Best trial: 13. Best value: 0.0100334:  75%|███████▌  | 15/20 [00:05<00:02,  2.35it/s]"
     ]
    },
    {
     "name": "stdout",
     "output_type": "stream",
     "text": [
      "[I 2025-10-27 19:30:53,598] Trial 14 finished with value: 0.011011868397262179 and parameters: {'max_depth': 7, 'learning_rate': 0.265031539913073, 'subsample': 0.6842902794815817, 'colsample_bytree': 0.7976505885376148, 'colsample_bylevel': 0.5420080698169559, 'min_child_weight': 7, 'gamma': 8.704639449104428e-07, 'reg_alpha': 6.503217275967672e-05, 'reg_lambda': 0.0038824754828149996}. Best is trial 13 with value: 0.010033399530710621.\n"
     ]
    },
    {
     "name": "stderr",
     "output_type": "stream",
     "text": [
      "Best trial: 13. Best value: 0.0100334:  80%|████████  | 16/20 [00:05<00:02,  1.96it/s]"
     ]
    },
    {
     "name": "stdout",
     "output_type": "stream",
     "text": [
      "[I 2025-10-27 19:30:54,324] Trial 15 finished with value: 0.010207182919904863 and parameters: {'max_depth': 6, 'learning_rate': 0.0884402890561898, 'subsample': 0.9117846578341093, 'colsample_bytree': 0.9772025644615545, 'colsample_bylevel': 0.5749423336975537, 'min_child_weight': 4, 'gamma': 2.055703887780807e-05, 'reg_alpha': 9.803336071685235e-06, 'reg_lambda': 0.0011993727351829661}. Best is trial 13 with value: 0.010033399530710621.\n"
     ]
    },
    {
     "name": "stderr",
     "output_type": "stream",
     "text": [
      "Best trial: 13. Best value: 0.0100334:  85%|████████▌ | 17/20 [00:06<00:01,  1.62it/s]"
     ]
    },
    {
     "name": "stdout",
     "output_type": "stream",
     "text": [
      "[I 2025-10-27 19:30:55,201] Trial 16 finished with value: 0.010141831568034786 and parameters: {'max_depth': 8, 'learning_rate': 0.09998781972141131, 'subsample': 0.5989009707694832, 'colsample_bytree': 0.9853167602144361, 'colsample_bylevel': 0.5821798281555711, 'min_child_weight': 7, 'gamma': 6.867214521653489e-05, 'reg_alpha': 7.92601621034049e-05, 'reg_lambda': 0.10562830430862857}. Best is trial 13 with value: 0.010033399530710621.\n",
      "[I 2025-10-27 19:30:55,300] Trial 17 finished with value: 0.010922912023579038 and parameters: {'max_depth': 9, 'learning_rate': 0.10599230316702539, 'subsample': 0.5549192692289029, 'colsample_bytree': 0.5733565867739245, 'colsample_bylevel': 0.613878929285436, 'min_child_weight': 10, 'gamma': 9.727543893814603, 'reg_alpha': 0.00046731217430960186, 'reg_lambda': 0.1459772174162853}. Best is trial 13 with value: 0.010033399530710621.\n"
     ]
    },
    {
     "name": "stderr",
     "output_type": "stream",
     "text": [
      "Best trial: 13. Best value: 0.0100334:  95%|█████████▌| 19/20 [00:07<00:00,  2.03it/s]"
     ]
    },
    {
     "name": "stdout",
     "output_type": "stream",
     "text": [
      "[I 2025-10-27 19:30:55,880] Trial 18 finished with value: 0.010704892406837224 and parameters: {'max_depth': 8, 'learning_rate': 0.20812329098725613, 'subsample': 0.5806216097133163, 'colsample_bytree': 0.7833831791388495, 'colsample_bylevel': 0.5009588942914032, 'min_child_weight': 7, 'gamma': 3.600221195586818e-07, 'reg_alpha': 0.0003739291287389318, 'reg_lambda': 4.576183682981424}. Best is trial 13 with value: 0.010033399530710621.\n"
     ]
    },
    {
     "name": "stderr",
     "output_type": "stream",
     "text": [
      "Best trial: 19. Best value: 0.00971856: 100%|██████████| 20/20 [00:09<00:00,  2.09it/s]\n"
     ]
    },
    {
     "name": "stdout",
     "output_type": "stream",
     "text": [
      "[I 2025-10-27 19:30:57,974] Trial 19 finished with value: 0.009718563234343355 and parameters: {'max_depth': 10, 'learning_rate': 0.043968093469534064, 'subsample': 0.74238983461463, 'colsample_bytree': 0.8969790923646425, 'colsample_bylevel': 0.6343922657783546, 'min_child_weight': 7, 'gamma': 7.061409496890157e-05, 'reg_alpha': 0.2530963120406954, 'reg_lambda': 0.05297717476033028}. Best is trial 19 with value: 0.009718563234343355.\n",
      "Best XGBoost score: 0.009719\n",
      "Best XGBoost params: {'max_depth': 10, 'learning_rate': 0.043968093469534064, 'subsample': 0.74238983461463, 'colsample_bytree': 0.8969790923646425, 'colsample_bylevel': 0.6343922657783546, 'min_child_weight': 7, 'gamma': 7.061409496890157e-05, 'reg_alpha': 0.2530963120406954, 'reg_lambda': 0.05297717476033028}\n",
      "\n",
      "==================================================\n",
      "Training Ensemble...\n",
      "==================================================\n",
      "\n",
      "======================================================================\n",
      "Model Evaluation Results\n",
      "======================================================================\n",
      "\n",
      "Evaluating ElasticNet...\n",
      "Signal range: [0.8346, 1.1469]\n",
      "Signal mean: 0.9746\n",
      "\n",
      "Evaluating LightGBM...\n",
      "Signal range: [0.0000, 2.0000]\n",
      "Signal mean: 1.0527\n",
      "\n",
      "Evaluating XGBoost...\n",
      "Signal range: [0.0000, 2.0000]\n",
      "Signal mean: 1.2627\n",
      "\n",
      "Evaluating Ensemble...\n",
      "Signal range: [0.5518, 2.0000]\n",
      "Signal mean: 1.2425\n",
      "\n",
      "======================================================================\n",
      "Feature Importance (LightGBM)\n",
      "======================================================================\n",
      "1. Column_87: 1.0992\n",
      "2. Column_76: 0.7253\n",
      "3. Column_84: 0.6050\n",
      "4. Column_81: 0.5406\n",
      "5. Column_77: 0.2012\n",
      "6. Column_85: 0.1863\n",
      "7. Column_71: 0.1613\n",
      "8. Column_86: 0.1252\n",
      "9. Column_5: 0.1130\n",
      "10. Column_82: 0.1118\n",
      "\n",
      "Training completed successfully!\n"
     ]
    }
   ],
   "source": [
    "if __name__ == \"__main__\":\n",
    "    results, signals, test_data = main()\n",
    "    print(\"\\nTraining completed successfully!\")"
   ]
  }
 ],
 "metadata": {
  "kernelspec": {
   "display_name": "venv",
   "language": "python",
   "name": "python3"
  },
  "language_info": {
   "codemirror_mode": {
    "name": "ipython",
    "version": 3
   },
   "file_extension": ".py",
   "mimetype": "text/x-python",
   "name": "python",
   "nbconvert_exporter": "python",
   "pygments_lexer": "ipython3",
   "version": "3.13.3"
  }
 },
 "nbformat": 4,
 "nbformat_minor": 5
}
