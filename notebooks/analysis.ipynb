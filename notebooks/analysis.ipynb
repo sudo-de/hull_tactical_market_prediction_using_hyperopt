{
 "cells": [
  {
   "cell_type": "code",
   "execution_count": 8,
   "id": "85995f4f",
   "metadata": {},
   "outputs": [
    {
     "name": "stdout",
     "output_type": "stream",
     "text": [
      "✅ Project root: /Users/sudip/hull_tactical_market_prediction_using_hyperopt\n",
      "✅ Src exists: True\n",
      "✅ Matplotlib version: 3.10.7\n"
     ]
    }
   ],
   "source": [
    "import sys\n",
    "from pathlib import Path\n",
    "\n",
    "# Add project root to path\n",
    "project_root = Path().resolve().parent  # Notebooks are in notebooks/, go up one level\n",
    "sys.path.insert(0, str(project_root))\n",
    "\n",
    "# Add venv packages\n",
    "venv_path = project_root / \"venv/lib/python3.13/site-packages\"\n",
    "if venv_path.exists():\n",
    "    sys.path.insert(0, str(venv_path))\n",
    "\n",
    "import numpy as np\n",
    "import polars as pl\n",
    "from sklearn.preprocessing import StandardScaler\n",
    "import matplotlib.pyplot as plt\n",
    "import matplotlib as mpl\n",
    "\n",
    "# Set matplotlib backend for notebook\n",
    "%matplotlib inline\n",
    "plt.style.use('seaborn-v0_8-darkgrid')\n",
    "mpl.rcParams['figure.figsize'] = (12, 6)\n",
    "\n",
    "print(f\"✅ Project root: {project_root}\")\n",
    "print(f\"✅ Src exists: {(project_root / 'src').exists()}\")\n",
    "print(f\"✅ Matplotlib version: {mpl.__version__}\")"
   ]
  },
  {
   "cell_type": "code",
   "execution_count": 9,
   "id": "d816427e",
   "metadata": {},
   "outputs": [],
   "source": [
    "# --- Import your modules ---\n",
    "from src.features import create_advanced_features, select_features\n",
    "from src.models.elastic_net import ElasticNetModel\n",
    "from src.models.lightgbm_model import LightGBMModel\n",
    "from src.models.xgboost_model import XGBoostModel\n",
    "from src.models.ensemble import EnsembleModel\n",
    "from evaluation import score"
   ]
  },
  {
   "cell_type": "code",
   "execution_count": 10,
   "id": "92ef98bf",
   "metadata": {},
   "outputs": [],
   "source": [
    "# --- Visualize Results ---\n",
    "\n",
    "def plot_model_predictions(signals_dict):\n",
    "    \"\"\"Plot predictions from all models.\"\"\"\n",
    "    fig, axes = plt.subplots(len(signals_dict), 1, figsize=(14, 4*len(signals_dict)))\n",
    "    \n",
    "    if len(signals_dict) == 1:\n",
    "        axes = [axes]\n",
    "    \n",
    "    for i, (name, signals) in enumerate(signals_dict.items()):\n",
    "        axes[i].plot(signals, marker='o', linewidth=2, label=name)\n",
    "        axes[i].set_title(f'{name} Predictions', fontsize=14, fontweight='bold')\n",
    "        axes[i].set_xlabel('Test Sample Index')\n",
    "        axes[i].set_ylabel('Signal Value')\n",
    "        axes[i].axhline(y=1.0, color='r', linestyle='--', alpha=0.5, label='Neutral')\n",
    "        axes[i].axhspan(0, 2, alpha=0.1, color='green', label='Valid Range')\n",
    "        axes[i].legend()\n",
    "        axes[i].grid(True, alpha=0.3)\n",
    "    \n",
    "    plt.tight_layout()\n",
    "    plt.savefig('artifacts/predictions_comparison.png', dpi=300, bbox_inches='tight')\n",
    "    print(\"✅ Saved predictions plot to artifacts/predictions_comparison.png\")\n",
    "    plt.show()\n",
    "\n",
    "def plot_feature_importance(feature_importance, top_n=20):\n",
    "    \"\"\"Plot feature importance.\"\"\"\n",
    "    sorted_features = sorted(feature_importance.items(), key=lambda x: x[1], reverse=True)[:top_n]\n",
    "    features, importances = zip(*sorted_features)\n",
    "    \n",
    "    plt.figure(figsize=(12, 8))\n",
    "    plt.barh(range(len(features)), importances, color='steelblue')\n",
    "    plt.yticks(range(len(features)), features)\n",
    "    plt.xlabel('Importance Score', fontsize=12)\n",
    "    plt.title(f'Top {top_n} Feature Importance (LightGBM)', fontsize=14, fontweight='bold')\n",
    "    plt.gca().invert_yaxis()\n",
    "    plt.grid(True, alpha=0.3, axis='x')\n",
    "    plt.tight_layout()\n",
    "    \n",
    "    # Ensure artifacts directory exists\n",
    "    Path('artifacts').mkdir(exist_ok=True)\n",
    "    plt.savefig('artifacts/feature_importance.png', dpi=300, bbox_inches='tight')\n",
    "    print(f\"✅ Saved feature importance plot to artifacts/feature_importance.png\")\n",
    "    plt.show()\n",
    "\n",
    "def plot_model_comparison(signals_dict):\n",
    "    \"\"\"Compare models side by side.\"\"\"\n",
    "    fig, axes = plt.subplots(1, 2, figsize=(16, 6))\n",
    "    \n",
    "    # Plot 1: Predictions comparison\n",
    "    for name, signals in signals_dict.items():\n",
    "        axes[0].plot(signals, marker='o', label=name, linewidth=2, markersize=8)\n",
    "    axes[0].set_title('Model Predictions Comparison', fontsize=14, fontweight='bold')\n",
    "    axes[0].set_xlabel('Test Sample Index')\n",
    "    axes[0].set_ylabel('Signal Value')\n",
    "    axes[0].axhline(y=1.0, color='r', linestyle='--', alpha=0.5, label='Neutral')\n",
    "    axes[0].legend()\n",
    "    axes[0].grid(True, alpha=0.3)\n",
    "    \n",
    "    # Plot 2: Signal distribution\n",
    "    for name, signals in signals_dict.items():\n",
    "        axes[1].hist(signals, alpha=0.6, label=name, bins=20)\n",
    "    axes[1].set_title('Signal Distribution', fontsize=14, fontweight='bold')\n",
    "    axes[1].set_xlabel('Signal Value')\n",
    "    axes[1].set_ylabel('Frequency')\n",
    "    axes[1].axvline(x=1.0, color='r', linestyle='--', alpha=0.5, label='Neutral')\n",
    "    axes[1].legend()\n",
    "    axes[1].grid(True, alpha=0.3)\n",
    "    \n",
    "    plt.tight_layout()\n",
    "    Path('artifacts').mkdir(exist_ok=True)\n",
    "    plt.savefig('artifacts/model_comparison.png', dpi=300, bbox_inches='tight')\n",
    "    print(\"✅ Saved comparison plot to artifacts/model_comparison.png\")\n",
    "    plt.show()\n"
   ]
  },
  {
   "cell_type": "code",
   "execution_count": 11,
   "id": "1a9f0303",
   "metadata": {},
   "outputs": [],
   "source": [
    "def load_data(data_path: Path):\n",
    "    \"\"\"Load and preprocess data.\"\"\"\n",
    "    print(\"Loading data...\")\n",
    "    \n",
    "    train = (\n",
    "        pl.read_csv(data_path / \"train.csv\")\n",
    "        .rename({'market_forward_excess_returns': 'target'})\n",
    "        .with_columns(pl.exclude('date_id').cast(pl.Float64, strict=False))\n",
    "        .head(-10)\n",
    "    )\n",
    "    \n",
    "    test = (\n",
    "        pl.read_csv(data_path / \"test.csv\")\n",
    "        .rename({'lagged_forward_returns': 'target'})\n",
    "        .with_columns(pl.exclude('date_id').cast(pl.Float64, strict=False))\n",
    "    )\n",
    "    \n",
    "    print(f\"Train shape: {train.shape}, Test shape: {test.shape}\")\n",
    "    return train, test"
   ]
  },
  {
   "cell_type": "code",
   "execution_count": 12,
   "id": "55555295",
   "metadata": {},
   "outputs": [],
   "source": [
    "def create_features(df: pl.DataFrame) -> pl.DataFrame:\n",
    "    \"\"\"Create features from raw data.\"\"\"\n",
    "    print(\"Creating features...\")\n",
    "    \n",
    "    vars_to_keep = [\"S2\", \"E2\", \"E3\", \"P9\", \"S1\", \"S5\", \"I2\", \"P8\", \"P10\", \"P12\", \"P13\"]\n",
    "    \n",
    "    # Create basic features\n",
    "    df = df.with_columns([\n",
    "        (pl.col(\"I2\") - pl.col(\"I1\")).alias(\"U1\") if all(c in df.columns for c in [\"I2\", \"I1\"]) else pl.lit(None),\n",
    "        (pl.col(\"M11\") / ((pl.col(\"I2\") + pl.col(\"I9\") + pl.col(\"I7\")) / 3)).alias(\"U2\") if all(c in df.columns for c in [\"M11\", \"I2\", \"I9\", \"I7\"]) else pl.lit(None)\n",
    "    ])\n",
    "    \n",
    "    df = df.select([\"date_id\", \"target\"] + vars_to_keep + [\"U1\", \"U2\"])\n",
    "    \n",
    "    # Fill nulls\n",
    "    feature_cols = [col for col in df.columns if col not in ['date_id', 'target']]\n",
    "    df = df.with_columns([\n",
    "        pl.col(col).fill_null(pl.col(col).ewm_mean(com=0.5))\n",
    "        for col in feature_cols\n",
    "    ])\n",
    "    \n",
    "    # Create advanced features\n",
    "    df = create_advanced_features(df, feature_cols)\n",
    "    \n",
    "    return df.drop_nulls()"
   ]
  },
  {
   "cell_type": "code",
   "execution_count": 13,
   "id": "50368d89",
   "metadata": {},
   "outputs": [],
   "source": [
    "def prepare_data(train: pl.DataFrame, test: pl.DataFrame):\n",
    "    \"\"\"Prepare train and test datasets.\"\"\"\n",
    "    print(\"Preparing data...\")\n",
    "    \n",
    "    # Join and create features\n",
    "    common_columns = [col for col in train.columns if col in test.columns]\n",
    "    df = pl.concat([train.select(common_columns), test.select(common_columns)], how=\"vertical\")\n",
    "    \n",
    "    df = create_features(df)\n",
    "    \n",
    "    # Split back\n",
    "    train_date_ids = set(train.get_column('date_id'))\n",
    "    test_date_ids = set(test.get_column('date_id'))\n",
    "    \n",
    "    train_df = df.filter(pl.col('date_id').is_in(list(train_date_ids)))\n",
    "    test_df = df.filter(pl.col('date_id').is_in(list(test_date_ids)))\n",
    "    \n",
    "    # Get features\n",
    "    feature_cols = select_features(train_df, method='all')\n",
    "    print(f\"Number of features: {len(feature_cols)}\")\n",
    "    \n",
    "    # Prepare X and y\n",
    "    X_train = train_df.select(feature_cols).to_numpy()\n",
    "    y_train = train_df.get_column('target').to_numpy()\n",
    "    \n",
    "    X_test = test_df.select(feature_cols).to_numpy()\n",
    "    y_test = test_df.get_column('target').to_numpy()\n",
    "    \n",
    "    # Scale features\n",
    "    scaler = StandardScaler()\n",
    "    X_train = scaler.fit_transform(X_train)\n",
    "    X_test = scaler.transform(X_test)\n",
    "    \n",
    "    return X_train, y_train, X_test, y_test, scaler, feature_cols, test_df"
   ]
  },
  {
   "cell_type": "code",
   "execution_count": 14,
   "id": "45d51335",
   "metadata": {},
   "outputs": [],
   "source": [
    "def evaluate_model(name: str, predictions: np.ndarray, test_data: pl.DataFrame):\n",
    "    \"\"\"Evaluate model performance.\"\"\"\n",
    "    print(f\"\\nEvaluating {name}...\")\n",
    "    \n",
    "    # Clip predictions to [0, 2] range\n",
    "    signals = np.clip(predictions * 400 + 1, 0.0, 2.0)\n",
    "    \n",
    "    print(f\"Signal range: [{signals.min():.4f}, {signals.max():.4f}]\")\n",
    "    print(f\"Signal mean: {signals.mean():.4f}\")\n",
    "    \n",
    "    return signals"
   ]
  },
  {
   "cell_type": "code",
   "execution_count": 15,
   "id": "07022d10",
   "metadata": {},
   "outputs": [],
   "source": [
    "def train_all_models(X_train, y_train, X_test, optimize=True):\n",
    "    \"\"\"Train all models and return predictions.\"\"\"\n",
    "    results = {}\n",
    "    \n",
    "    # ElasticNet\n",
    "    print(\"\\n\" + \"=\"*50)\n",
    "    print(\"Training ElasticNet...\")\n",
    "    print(\"=\"*50)\n",
    "    enet = ElasticNetModel(n_trials=20 if optimize else 0)\n",
    "    enet.fit(X_train, y_train, optimize=optimize)\n",
    "    results['ElasticNet'] = (enet, enet.predict(X_test))\n",
    "    \n",
    "    # LightGBM\n",
    "    print(\"\\n\" + \"=\"*50)\n",
    "    print(\"Training LightGBM...\")\n",
    "    print(\"=\"*50)\n",
    "    lgbm = LightGBMModel(n_trials=20 if optimize else 0)\n",
    "    lgbm.fit(X_train, y_train, optimize=optimize)\n",
    "    results['LightGBM'] = (lgbm, lgbm.predict(X_test))\n",
    "    \n",
    "    # XGBoost\n",
    "    print(\"\\n\" + \"=\"*50)\n",
    "    print(\"Training XGBoost...\")\n",
    "    print(\"=\"*50)\n",
    "    xgb_model = XGBoostModel(n_trials=20 if optimize else 0)\n",
    "    xgb_model.fit(X_train, y_train, optimize=optimize)\n",
    "    results['XGBoost'] = (xgb_model, xgb_model.predict(X_test))\n",
    "    \n",
    "    # Ensemble (simple average)\n",
    "    print(\"\\n\" + \"=\"*50)\n",
    "    print(\"Training Ensemble...\")\n",
    "    print(\"=\"*50)\n",
    "    ensemble_models = [enet, lgbm, xgb_model]\n",
    "    ensemble = EnsembleModel(ensemble_models, weights=[0.3, 0.35, 0.35])\n",
    "    ensemble.fit(X_train, y_train, optimize=False)\n",
    "    results['Ensemble'] = (ensemble, ensemble.predict(X_test))\n",
    "    \n",
    "    return results"
   ]
  },
  {
   "cell_type": "code",
   "execution_count": 16,
   "id": "df900207",
   "metadata": {},
   "outputs": [],
   "source": [
    "def main():\n",
    "    \"\"\"Main training function.\"\"\"\n",
    "    print(\"=\"*70)\n",
    "    print(\"Hull Tactical Market Prediction - Advanced Training\")\n",
    "    print(\"=\"*70)\n",
    "    \n",
    "    # Paths\n",
    "    data_path = Path('/Users/sudip/hull_tactical_market_prediction_using_hyperopt/input/hull-tactical-market-prediction/')\n",
    "    \n",
    "    # Load data\n",
    "    train, test = load_data(data_path)\n",
    "    \n",
    "    # Prepare data\n",
    "    X_train, y_train, X_test, y_test, scaler, feature_cols, test_df = prepare_data(train, test)\n",
    "    \n",
    "    print(f\"\\nData shapes:\")\n",
    "    print(f\"X_train: {X_train.shape}, y_train: {y_train.shape}\")\n",
    "    print(f\"X_test: {X_test.shape}, y_test: {y_test.shape}\")\n",
    "    \n",
    "    # Train models\n",
    "    results = train_all_models(X_train, y_train, X_test, optimize=True)\n",
    "    \n",
    "    # Evaluate models\n",
    "    print(\"\\n\" + \"=\"*70)\n",
    "    print(\"Model Evaluation Results\")\n",
    "    print(\"=\"*70)\n",
    "    \n",
    "    all_signals = {}\n",
    "    for name, (model, predictions) in results.items():\n",
    "        signals = evaluate_model(name, predictions, test_df)\n",
    "        all_signals[name] = signals\n",
    "    \n",
    "    # Feature importance\n",
    "    print(\"\\n\" + \"=\"*70)\n",
    "    print(\"Feature Importance (LightGBM)\")\n",
    "    print(\"=\"*70)\n",
    "    try:\n",
    "        lgbm_model = results['LightGBM'][0]\n",
    "        feature_importance = lgbm_model.get_feature_importance()\n",
    "        # Sort by importance\n",
    "        sorted_features = sorted(feature_importance.items(), key=lambda x: x[1], reverse=True)\n",
    "        for i, (feature, importance) in enumerate(sorted_features[:10]):\n",
    "            print(f\"{i+1}. {feature}: {importance:.4f}\")\n",
    "    except Exception as e:\n",
    "        print(f\"Could not get feature importance: {e}\")\n",
    "    \n",
    "    return results, all_signals, test_df"
   ]
  },
  {
   "cell_type": "code",
   "execution_count": 17,
   "id": "4b803e57",
   "metadata": {},
   "outputs": [
    {
     "name": "stderr",
     "output_type": "stream",
     "text": [
      "[I 2025-10-27 19:50:04,744] A new study created in memory with name: no-name-2ba7a6de-46e7-4915-8adf-6834c9644df0\n"
     ]
    },
    {
     "name": "stdout",
     "output_type": "stream",
     "text": [
      "======================================================================\n",
      "Hull Tactical Market Prediction - Advanced Training\n",
      "======================================================================\n",
      "Loading data...\n",
      "Train shape: (8980, 98), Test shape: (10, 99)\n",
      "Preparing data...\n",
      "Creating features...\n",
      "Number of features: 88\n",
      "\n",
      "Data shapes:\n",
      "X_train: (7469, 88), y_train: (7469,)\n",
      "X_test: (10, 88), y_test: (10,)\n",
      "\n",
      "==================================================\n",
      "Training ElasticNet...\n",
      "==================================================\n"
     ]
    },
    {
     "name": "stderr",
     "output_type": "stream",
     "text": [
      "Best trial: 0. Best value: 0.0109072:  25%|██▌       | 5/20 [00:00<00:00, 55.96it/s]"
     ]
    },
    {
     "name": "stdout",
     "output_type": "stream",
     "text": [
      "[I 2025-10-27 19:50:04,785] Trial 0 finished with value: 0.010907207084948136 and parameters: {'alpha': 0.0003953389548788279, 'l1_ratio': 0.61318554714667}. Best is trial 0 with value: 0.010907207084948136.\n",
      "[I 2025-10-27 19:50:04,796] Trial 1 finished with value: 0.01092168130280988 and parameters: {'alpha': 0.3768202553070682, 'l1_ratio': 0.7489830158071639}. Best is trial 0 with value: 0.010907207084948136.\n",
      "[I 2025-10-27 19:50:04,807] Trial 2 finished with value: 0.01092168130280988 and parameters: {'alpha': 0.04389262669466367, 'l1_ratio': 0.22087591331934953}. Best is trial 0 with value: 0.010907207084948136.\n",
      "[I 2025-10-27 19:50:04,816] Trial 3 finished with value: 0.010921140284348475 and parameters: {'alpha': 0.004631255456605109, 'l1_ratio': 0.20689971701343612}. Best is trial 0 with value: 0.010907207084948136.\n",
      "[I 2025-10-27 19:50:04,829] Trial 4 finished with value: 0.010912792197448885 and parameters: {'alpha': 0.0028398281576175557, 'l1_ratio': 0.1981423329768207}. Best is trial 0 with value: 0.010907207084948136.\n",
      "[I 2025-10-27 19:50:04,840] Trial 5 finished with value: 0.01092168130280988 and parameters: {'alpha': 0.6787485178559398, 'l1_ratio': 0.6305597677188705}. Best is trial 0 with value: 0.010907207084948136.\n"
     ]
    },
    {
     "name": "stderr",
     "output_type": "stream",
     "text": [
      "Best trial: 9. Best value: 0.010906:  45%|████▌     | 9/20 [00:00<00:00, 12.51it/s] "
     ]
    },
    {
     "name": "stdout",
     "output_type": "stream",
     "text": [
      "[I 2025-10-27 19:50:05,311] Trial 6 finished with value: 0.011010925965098315 and parameters: {'alpha': 0.0009407509930809627, 'l1_ratio': 0.023561873917936627}. Best is trial 0 with value: 0.010907207084948136.\n",
      "[I 2025-10-27 19:50:05,322] Trial 7 finished with value: 0.01092168130280988 and parameters: {'alpha': 0.561040298123366, 'l1_ratio': 0.40922572796544}. Best is trial 0 with value: 0.010907207084948136.\n",
      "[I 2025-10-27 19:50:05,331] Trial 8 finished with value: 0.01092168130280988 and parameters: {'alpha': 0.005382804859074191, 'l1_ratio': 0.9342578564812046}. Best is trial 0 with value: 0.010907207084948136.\n",
      "[I 2025-10-27 19:50:05,359] Trial 9 finished with value: 0.010906047675664627 and parameters: {'alpha': 0.0007330813913620789, 'l1_ratio': 0.423523022648156}. Best is trial 9 with value: 0.010906047675664627.\n"
     ]
    },
    {
     "name": "stderr",
     "output_type": "stream",
     "text": [
      "Best trial: 9. Best value: 0.010906:  75%|███████▌  | 15/20 [00:01<00:00, 12.19it/s]"
     ]
    },
    {
     "name": "stdout",
     "output_type": "stream",
     "text": [
      "[I 2025-10-27 19:50:05,681] Trial 10 finished with value: 0.010970009592292256 and parameters: {'alpha': 0.00012107363641869866, 'l1_ratio': 0.43332770929131365}. Best is trial 9 with value: 0.010906047675664627.\n",
      "[I 2025-10-27 19:50:05,804] Trial 11 finished with value: 0.010935329364103814 and parameters: {'alpha': 0.00020490398983611969, 'l1_ratio': 0.6078835001849149}. Best is trial 9 with value: 0.010906047675664627.\n",
      "[I 2025-10-27 19:50:05,823] Trial 12 finished with value: 0.010908098228011425 and parameters: {'alpha': 0.0005113494900247714, 'l1_ratio': 0.8411275635409253}. Best is trial 9 with value: 0.010906047675664627.\n",
      "[I 2025-10-27 19:50:05,837] Trial 13 finished with value: 0.010911203324536066 and parameters: {'alpha': 0.0009300966060914232, 'l1_ratio': 0.5531608572432654}. Best is trial 9 with value: 0.010906047675664627.\n",
      "[I 2025-10-27 19:50:05,848] Trial 14 finished with value: 0.01092168130280988 and parameters: {'alpha': 0.03374687151409935, 'l1_ratio': 0.3777173546226918}. Best is trial 9 with value: 0.010906047675664627.\n",
      "[I 2025-10-27 19:50:05,877] Trial 15 finished with value: 0.010907864943021926 and parameters: {'alpha': 0.0003144231002436727, 'l1_ratio': 0.7420099968793382}. Best is trial 9 with value: 0.010906047675664627.\n"
     ]
    },
    {
     "name": "stderr",
     "output_type": "stream",
     "text": [
      "Best trial: 9. Best value: 0.010906:  90%|█████████ | 18/20 [00:01<00:00, 12.19it/s]"
     ]
    },
    {
     "name": "stdout",
     "output_type": "stream",
     "text": [
      "[I 2025-10-27 19:50:05,894] Trial 16 finished with value: 0.010910339955554741 and parameters: {'alpha': 0.0015104575125372193, 'l1_ratio': 0.31972476809732775}. Best is trial 9 with value: 0.010906047675664627.\n",
      "[I 2025-10-27 19:50:05,905] Trial 17 finished with value: 0.01092168130280988 and parameters: {'alpha': 0.018157709053742206, 'l1_ratio': 0.5357306996675739}. Best is trial 9 with value: 0.010906047675664627.\n",
      "[I 2025-10-27 19:50:05,916] Trial 18 finished with value: 0.01092168130280988 and parameters: {'alpha': 0.11809016791898738, 'l1_ratio': 0.7067099106364021}. Best is trial 9 with value: 0.010906047675664627.\n"
     ]
    },
    {
     "name": "stderr",
     "output_type": "stream",
     "text": [
      "Best trial: 9. Best value: 0.010906: 100%|██████████| 20/20 [00:07<00:00,  2.56it/s]\n",
      "[I 2025-10-27 19:50:12,582] A new study created in memory with name: no-name-07e8646e-5ba4-40cb-898d-a635c909817f\n"
     ]
    },
    {
     "name": "stdout",
     "output_type": "stream",
     "text": [
      "[I 2025-10-27 19:50:12,573] Trial 19 finished with value: 0.011312346258331793 and parameters: {'alpha': 0.00010217019962199795, 'l1_ratio': 0.03806420127428739}. Best is trial 9 with value: 0.010906047675664627.\n",
      "Best ElasticNet score: 0.010906\n",
      "Best ElasticNet params: {'alpha': 0.0007330813913620789, 'l1_ratio': 0.423523022648156}\n",
      "\n",
      "==================================================\n",
      "Training LightGBM...\n",
      "==================================================\n"
     ]
    },
    {
     "name": "stderr",
     "output_type": "stream",
     "text": [
      "  0%|          | 0/20 [00:00<?, ?it/s]"
     ]
    },
    {
     "name": "stdout",
     "output_type": "stream",
     "text": [
      "Training until validation scores don't improve for 10 rounds\n",
      "Early stopping, best iteration is:\n",
      "[12]\tvalid_0's rmse: 0.011131\n",
      "Training until validation scores don't improve for 10 rounds\n",
      "Early stopping, best iteration is:\n",
      "[33]\tvalid_0's rmse: 0.0123135\n",
      "Training until validation scores don't improve for 10 rounds\n",
      "Early stopping, best iteration is:\n",
      "[13]\tvalid_0's rmse: 0.00795273\n",
      "Training until validation scores don't improve for 10 rounds\n",
      "Early stopping, best iteration is:\n",
      "[13]\tvalid_0's rmse: 0.00918215\n",
      "Training until validation scores don't improve for 10 rounds\n"
     ]
    },
    {
     "name": "stderr",
     "output_type": "stream",
     "text": [
      "Best trial: 0. Best value: 0.0099471:   5%|▌         | 1/20 [00:00<00:13,  1.41it/s]"
     ]
    },
    {
     "name": "stdout",
     "output_type": "stream",
     "text": [
      "Early stopping, best iteration is:\n",
      "[13]\tvalid_0's rmse: 0.0091561\n",
      "[I 2025-10-27 19:50:13,288] Trial 0 finished with value: 0.00994709551105656 and parameters: {'num_leaves': 159, 'learning_rate': 0.15273934355896238, 'feature_fraction': 0.5974158151564835, 'bagging_fraction': 0.9399345370716654, 'bagging_freq': 5, 'min_child_samples': 65, 'reg_alpha': 2.989384242662632e-07, 'reg_lambda': 0.057120874714474995}. Best is trial 0 with value: 0.00994709551105656.\n",
      "Training until validation scores don't improve for 10 rounds\n",
      "Early stopping, best iteration is:\n",
      "[1]\tvalid_0's rmse: 0.0115297\n",
      "Training until validation scores don't improve for 10 rounds\n",
      "Early stopping, best iteration is:\n",
      "[1]\tvalid_0's rmse: 0.0131698\n",
      "Training until validation scores don't improve for 10 rounds\n",
      "Early stopping, best iteration is:\n",
      "[1]\tvalid_0's rmse: 0.0094017\n",
      "Training until validation scores don't improve for 10 rounds\n",
      "Early stopping, best iteration is:\n",
      "[1]\tvalid_0's rmse: 0.0100652\n",
      "Training until validation scores don't improve for 10 rounds\n",
      "Early stopping, best iteration is:\n",
      "[1]\tvalid_0's rmse: 0.010442\n",
      "[I 2025-10-27 19:50:13,377] Trial 1 finished with value: 0.010921681302723592 and parameters: {'num_leaves': 74, 'learning_rate': 0.09800244119258637, 'feature_fraction': 0.4710831386308254, 'bagging_fraction': 0.9644704378553205, 'bagging_freq': 3, 'min_child_samples': 96, 'reg_alpha': 2.943734018736944, 'reg_lambda': 0.4772249074915044}. Best is trial 0 with value: 0.00994709551105656.\n",
      "Training until validation scores don't improve for 10 rounds\n",
      "Early stopping, best iteration is:\n",
      "[8]\tvalid_0's rmse: 0.0114677\n",
      "Training until validation scores don't improve for 10 rounds\n",
      "Early stopping, best iteration is:\n",
      "[72]\tvalid_0's rmse: 0.012367\n",
      "Training until validation scores don't improve for 10 rounds\n",
      "Did not meet early stopping. Best iteration is:\n",
      "[98]\tvalid_0's rmse: 0.00783404\n",
      "Training until validation scores don't improve for 10 rounds\n",
      "Early stopping, best iteration is:\n",
      "[72]\tvalid_0's rmse: 0.00891194\n",
      "Training until validation scores don't improve for 10 rounds\n"
     ]
    },
    {
     "name": "stderr",
     "output_type": "stream",
     "text": [
      "Best trial: 0. Best value: 0.0099471:  15%|█▌        | 3/20 [00:02<00:12,  1.36it/s]"
     ]
    },
    {
     "name": "stdout",
     "output_type": "stream",
     "text": [
      "Early stopping, best iteration is:\n",
      "[90]\tvalid_0's rmse: 0.00921071\n",
      "[I 2025-10-27 19:50:14,783] Trial 2 finished with value: 0.009958275847733346 and parameters: {'num_leaves': 221, 'learning_rate': 0.04820673504322629, 'feature_fraction': 0.41983066840686345, 'bagging_fraction': 0.827521625632568, 'bagging_freq': 6, 'min_child_samples': 92, 'reg_alpha': 0.006850999138215237, 'reg_lambda': 7.510261016590748e-06}. Best is trial 0 with value: 0.00994709551105656.\n",
      "Training until validation scores don't improve for 10 rounds\n",
      "Early stopping, best iteration is:\n",
      "[84]\tvalid_0's rmse: 0.0110364\n",
      "Training until validation scores don't improve for 10 rounds\n",
      "Did not meet early stopping. Best iteration is:\n",
      "[94]\tvalid_0's rmse: 0.0125382\n",
      "Training until validation scores don't improve for 10 rounds\n",
      "Did not meet early stopping. Best iteration is:\n",
      "[99]\tvalid_0's rmse: 0.00825169\n",
      "Training until validation scores don't improve for 10 rounds\n",
      "Did not meet early stopping. Best iteration is:\n",
      "[98]\tvalid_0's rmse: 0.00912869\n",
      "Training until validation scores don't improve for 10 rounds\n"
     ]
    },
    {
     "name": "stderr",
     "output_type": "stream",
     "text": [
      "Best trial: 0. Best value: 0.0099471:  25%|██▌       | 5/20 [00:04<00:11,  1.29it/s]"
     ]
    },
    {
     "name": "stdout",
     "output_type": "stream",
     "text": [
      "Did not meet early stopping. Best iteration is:\n",
      "[100]\tvalid_0's rmse: 0.00942765\n",
      "[I 2025-10-27 19:50:16,488] Trial 3 finished with value: 0.010076534517472646 and parameters: {'num_leaves': 269, 'learning_rate': 0.018875355819865935, 'feature_fraction': 0.7211777809902983, 'bagging_fraction': 0.6752199534178932, 'bagging_freq': 6, 'min_child_samples': 75, 'reg_alpha': 0.0019398307428697898, 'reg_lambda': 0.26122466491712715}. Best is trial 0 with value: 0.00994709551105656.\n",
      "Training until validation scores don't improve for 10 rounds\n",
      "Early stopping, best iteration is:\n",
      "[1]\tvalid_0's rmse: 0.0115297\n",
      "Training until validation scores don't improve for 10 rounds\n",
      "Early stopping, best iteration is:\n",
      "[1]\tvalid_0's rmse: 0.0131698\n",
      "Training until validation scores don't improve for 10 rounds\n",
      "Early stopping, best iteration is:\n",
      "[1]\tvalid_0's rmse: 0.0094017\n",
      "Training until validation scores don't improve for 10 rounds\n",
      "Early stopping, best iteration is:\n",
      "[1]\tvalid_0's rmse: 0.0100652\n",
      "Training until validation scores don't improve for 10 rounds\n",
      "Early stopping, best iteration is:\n",
      "[1]\tvalid_0's rmse: 0.010442\n",
      "[I 2025-10-27 19:50:16,661] Trial 4 finished with value: 0.010921681302723592 and parameters: {'num_leaves': 109, 'learning_rate': 0.21519383962718996, 'feature_fraction': 0.5293125335144878, 'bagging_fraction': 0.4048938902386009, 'bagging_freq': 4, 'min_child_samples': 98, 'reg_alpha': 6.2216061908190134, 'reg_lambda': 0.5972900119423998}. Best is trial 0 with value: 0.00994709551105656.\n",
      "Training until validation scores don't improve for 10 rounds\n",
      "Early stopping, best iteration is:\n",
      "[14]\tvalid_0's rmse: 0.0114207\n",
      "Training until validation scores don't improve for 10 rounds\n",
      "Early stopping, best iteration is:\n",
      "[54]\tvalid_0's rmse: 0.0129118\n",
      "Training until validation scores don't improve for 10 rounds\n",
      "Did not meet early stopping. Best iteration is:\n",
      "[98]\tvalid_0's rmse: 0.00835056\n",
      "Training until validation scores don't improve for 10 rounds\n",
      "Early stopping, best iteration is:\n",
      "[62]\tvalid_0's rmse: 0.00949849\n",
      "Training until validation scores don't improve for 10 rounds\n"
     ]
    },
    {
     "name": "stderr",
     "output_type": "stream",
     "text": [
      "Best trial: 0. Best value: 0.0099471:  30%|███       | 6/20 [00:07<00:23,  1.70s/it]"
     ]
    },
    {
     "name": "stdout",
     "output_type": "stream",
     "text": [
      "Did not meet early stopping. Best iteration is:\n",
      "[100]\tvalid_0's rmse: 0.00962895\n",
      "[I 2025-10-27 19:50:20,322] Trial 5 finished with value: 0.010362102464195281 and parameters: {'num_leaves': 178, 'learning_rate': 0.01618062260721624, 'feature_fraction': 0.4562278122019697, 'bagging_fraction': 0.49020467033629267, 'bagging_freq': 7, 'min_child_samples': 17, 'reg_alpha': 4.6819878400798606e-08, 'reg_lambda': 0.0011808104452773894}. Best is trial 0 with value: 0.00994709551105656.\n",
      "Training until validation scores don't improve for 10 rounds\n",
      "Early stopping, best iteration is:\n",
      "[8]\tvalid_0's rmse: 0.0115108\n",
      "Training until validation scores don't improve for 10 rounds\n",
      "Early stopping, best iteration is:\n",
      "[49]\tvalid_0's rmse: 0.0127085\n",
      "Training until validation scores don't improve for 10 rounds\n",
      "Early stopping, best iteration is:\n",
      "[80]\tvalid_0's rmse: 0.00820382\n",
      "Training until validation scores don't improve for 10 rounds\n",
      "Did not meet early stopping. Best iteration is:\n",
      "[100]\tvalid_0's rmse: 0.00920866\n",
      "Training until validation scores don't improve for 10 rounds\n"
     ]
    },
    {
     "name": "stderr",
     "output_type": "stream",
     "text": [
      "Best trial: 0. Best value: 0.0099471:  35%|███▌      | 7/20 [00:08<00:18,  1.45s/it]"
     ]
    },
    {
     "name": "stdout",
     "output_type": "stream",
     "text": [
      "Did not meet early stopping. Best iteration is:\n",
      "[100]\tvalid_0's rmse: 0.00945049\n",
      "[I 2025-10-27 19:50:21,238] Trial 6 finished with value: 0.010216466378303538 and parameters: {'num_leaves': 77, 'learning_rate': 0.034659185807704454, 'feature_fraction': 0.7690836964258969, 'bagging_fraction': 0.41315397999612324, 'bagging_freq': 5, 'min_child_samples': 81, 'reg_alpha': 4.6266571270597424e-05, 'reg_lambda': 3.7291433791968123}. Best is trial 0 with value: 0.00994709551105656.\n",
      "Training until validation scores don't improve for 10 rounds\n",
      "Did not meet early stopping. Best iteration is:\n",
      "[92]\tvalid_0's rmse: 0.0111834\n",
      "Training until validation scores don't improve for 10 rounds\n",
      "Did not meet early stopping. Best iteration is:\n",
      "[99]\tvalid_0's rmse: 0.0125157\n",
      "Training until validation scores don't improve for 10 rounds\n",
      "Did not meet early stopping. Best iteration is:\n",
      "[98]\tvalid_0's rmse: 0.00835713\n",
      "Training until validation scores don't improve for 10 rounds\n",
      "Did not meet early stopping. Best iteration is:\n",
      "[98]\tvalid_0's rmse: 0.00912879\n",
      "Training until validation scores don't improve for 10 rounds\n"
     ]
    },
    {
     "name": "stderr",
     "output_type": "stream",
     "text": [
      "Best trial: 0. Best value: 0.0099471:  40%|████      | 8/20 [00:11<00:23,  1.93s/it]"
     ]
    },
    {
     "name": "stdout",
     "output_type": "stream",
     "text": [
      "Did not meet early stopping. Best iteration is:\n",
      "[100]\tvalid_0's rmse: 0.00942526\n",
      "[I 2025-10-27 19:50:24,225] Trial 7 finished with value: 0.010122065047201294 and parameters: {'num_leaves': 107, 'learning_rate': 0.010862116044990487, 'feature_fraction': 0.5789180298823142, 'bagging_fraction': 0.9701569598770552, 'bagging_freq': 1, 'min_child_samples': 49, 'reg_alpha': 0.045001256296164346, 'reg_lambda': 3.239525088078981e-06}. Best is trial 0 with value: 0.00994709551105656.\n",
      "Training until validation scores don't improve for 10 rounds\n",
      "Early stopping, best iteration is:\n",
      "[18]\tvalid_0's rmse: 0.0111705\n",
      "Training until validation scores don't improve for 10 rounds\n",
      "Early stopping, best iteration is:\n",
      "[29]\tvalid_0's rmse: 0.012288\n",
      "Training until validation scores don't improve for 10 rounds\n",
      "Early stopping, best iteration is:\n",
      "[57]\tvalid_0's rmse: 0.00770438\n",
      "Training until validation scores don't improve for 10 rounds\n",
      "Early stopping, best iteration is:\n",
      "[45]\tvalid_0's rmse: 0.00910666\n",
      "Training until validation scores don't improve for 10 rounds\n"
     ]
    },
    {
     "name": "stderr",
     "output_type": "stream",
     "text": [
      "Best trial: 8. Best value: 0.00989486:  45%|████▌     | 9/20 [00:12<00:16,  1.52s/it]"
     ]
    },
    {
     "name": "stdout",
     "output_type": "stream",
     "text": [
      "Early stopping, best iteration is:\n",
      "[76]\tvalid_0's rmse: 0.00920483\n",
      "[I 2025-10-27 19:50:24,831] Trial 8 finished with value: 0.009894864776229625 and parameters: {'num_leaves': 12, 'learning_rate': 0.12423419527238186, 'feature_fraction': 0.8288825594241366, 'bagging_fraction': 0.8559373087571488, 'bagging_freq': 1, 'min_child_samples': 43, 'reg_alpha': 0.02654033450998038, 'reg_lambda': 3.2786291729585314e-08}. Best is trial 8 with value: 0.009894864776229625.\n",
      "Training until validation scores don't improve for 10 rounds\n",
      "Early stopping, best iteration is:\n",
      "[1]\tvalid_0's rmse: 0.0115297\n",
      "Training until validation scores don't improve for 10 rounds\n",
      "Early stopping, best iteration is:\n",
      "[1]\tvalid_0's rmse: 0.0131698\n",
      "Training until validation scores don't improve for 10 rounds\n",
      "Early stopping, best iteration is:\n",
      "[1]\tvalid_0's rmse: 0.0094017\n",
      "Training until validation scores don't improve for 10 rounds\n",
      "Early stopping, best iteration is:\n",
      "[1]\tvalid_0's rmse: 0.0100652\n",
      "Training until validation scores don't improve for 10 rounds\n",
      "Early stopping, best iteration is:\n",
      "[1]\tvalid_0's rmse: 0.010442\n",
      "[I 2025-10-27 19:50:24,916] Trial 9 finished with value: 0.010921681302723592 and parameters: {'num_leaves': 89, 'learning_rate': 0.025241838397114778, 'feature_fraction': 0.4776382532693696, 'bagging_fraction': 0.42420120268352535, 'bagging_freq': 2, 'min_child_samples': 42, 'reg_alpha': 1.744602189313667, 'reg_lambda': 0.0003936735109016499}. Best is trial 8 with value: 0.009894864776229625.\n",
      "Training until validation scores don't improve for 10 rounds\n",
      "Early stopping, best iteration is:\n",
      "[17]\tvalid_0's rmse: 0.0112846\n",
      "Training until validation scores don't improve for 10 rounds\n",
      "Early stopping, best iteration is:\n",
      "[26]\tvalid_0's rmse: 0.0126451\n",
      "Training until validation scores don't improve for 10 rounds\n",
      "Early stopping, best iteration is:\n",
      "[48]\tvalid_0's rmse: 0.00809337\n",
      "Training until validation scores don't improve for 10 rounds\n"
     ]
    },
    {
     "name": "stderr",
     "output_type": "stream",
     "text": [
      "Best trial: 8. Best value: 0.00989486:  55%|█████▌    | 11/20 [00:12<00:08,  1.01it/s]"
     ]
    },
    {
     "name": "stdout",
     "output_type": "stream",
     "text": [
      "Early stopping, best iteration is:\n",
      "[39]\tvalid_0's rmse: 0.0091611\n",
      "Training until validation scores don't improve for 10 rounds\n",
      "Early stopping, best iteration is:\n",
      "[36]\tvalid_0's rmse: 0.00932721\n",
      "[I 2025-10-27 19:50:25,579] Trial 10 finished with value: 0.010102283309066347 and parameters: {'num_leaves': 18, 'learning_rate': 0.07884542959648738, 'feature_fraction': 0.9634798130556034, 'bagging_fraction': 0.7500529579762695, 'bagging_freq': 1, 'min_child_samples': 26, 'reg_alpha': 3.0225272730010565e-05, 'reg_lambda': 5.900219004195669e-08}. Best is trial 8 with value: 0.009894864776229625.\n",
      "Training until validation scores don't improve for 10 rounds\n",
      "Early stopping, best iteration is:\n",
      "[8]\tvalid_0's rmse: 0.0111356\n",
      "Training until validation scores don't improve for 10 rounds\n",
      "Early stopping, best iteration is:\n",
      "[8]\tvalid_0's rmse: 0.0125207\n",
      "Training until validation scores don't improve for 10 rounds\n",
      "Early stopping, best iteration is:\n",
      "[20]\tvalid_0's rmse: 0.00771915\n",
      "Training until validation scores don't improve for 10 rounds\n",
      "Early stopping, best iteration is:\n",
      "[10]\tvalid_0's rmse: 0.00899181\n",
      "Training until validation scores don't improve for 10 rounds\n"
     ]
    },
    {
     "name": "stderr",
     "output_type": "stream",
     "text": [
      "Best trial: 8. Best value: 0.00989486:  60%|██████    | 12/20 [00:13<00:07,  1.13it/s]"
     ]
    },
    {
     "name": "stdout",
     "output_type": "stream",
     "text": [
      "Early stopping, best iteration is:\n",
      "[8]\tvalid_0's rmse: 0.00918311\n",
      "[I 2025-10-27 19:50:26,161] Trial 11 finished with value: 0.009910080547895696 and parameters: {'num_leaves': 164, 'learning_rate': 0.2090418664722884, 'feature_fraction': 0.8393383051624735, 'bagging_fraction': 0.8530259941225016, 'bagging_freq': 4, 'min_child_samples': 64, 'reg_alpha': 1.2218800440453047e-08, 'reg_lambda': 0.006746200815099885}. Best is trial 8 with value: 0.009894864776229625.\n",
      "Training until validation scores don't improve for 10 rounds\n",
      "Early stopping, best iteration is:\n",
      "[5]\tvalid_0's rmse: 0.011045\n",
      "Training until validation scores don't improve for 10 rounds\n",
      "Early stopping, best iteration is:\n",
      "[7]\tvalid_0's rmse: 0.0125089\n",
      "Training until validation scores don't improve for 10 rounds\n"
     ]
    },
    {
     "name": "stderr",
     "output_type": "stream",
     "text": [
      "Best trial: 8. Best value: 0.00989486:  65%|██████▌   | 13/20 [00:13<00:05,  1.32it/s]"
     ]
    },
    {
     "name": "stdout",
     "output_type": "stream",
     "text": [
      "Early stopping, best iteration is:\n",
      "[45]\tvalid_0's rmse: 0.00789797\n",
      "Training until validation scores don't improve for 10 rounds\n",
      "Early stopping, best iteration is:\n",
      "[8]\tvalid_0's rmse: 0.00883089\n",
      "Training until validation scores don't improve for 10 rounds\n",
      "Early stopping, best iteration is:\n",
      "[14]\tvalid_0's rmse: 0.00923008\n",
      "[I 2025-10-27 19:50:26,572] Trial 12 finished with value: 0.00990255255845376 and parameters: {'num_leaves': 18, 'learning_rate': 0.28864164681009286, 'feature_fraction': 0.8639731022534313, 'bagging_fraction': 0.8342127956113867, 'bagging_freq': 3, 'min_child_samples': 37, 'reg_alpha': 1.7075559604136224e-06, 'reg_lambda': 1.044806255365439e-08}. Best is trial 8 with value: 0.009894864776229625.\n",
      "Training until validation scores don't improve for 10 rounds\n",
      "Early stopping, best iteration is:\n",
      "[18]\tvalid_0's rmse: 0.0113738\n",
      "Training until validation scores don't improve for 10 rounds\n",
      "Early stopping, best iteration is:\n",
      "[6]\tvalid_0's rmse: 0.012667\n",
      "Training until validation scores don't improve for 10 rounds\n",
      "Early stopping, best iteration is:\n",
      "[21]\tvalid_0's rmse: 0.00821641\n",
      "Training until validation scores don't improve for 10 rounds\n",
      "Early stopping, best iteration is:\n",
      "[6]\tvalid_0's rmse: 0.00916145\n"
     ]
    },
    {
     "name": "stderr",
     "output_type": "stream",
     "text": [
      "Best trial: 8. Best value: 0.00989486:  70%|███████   | 14/20 [00:14<00:03,  1.54it/s]"
     ]
    },
    {
     "name": "stdout",
     "output_type": "stream",
     "text": [
      "Training until validation scores don't improve for 10 rounds\n",
      "Early stopping, best iteration is:\n",
      "[11]\tvalid_0's rmse: 0.00917899\n",
      "[I 2025-10-27 19:50:26,921] Trial 13 finished with value: 0.010119538748111364 and parameters: {'num_leaves': 17, 'learning_rate': 0.26381936264509037, 'feature_fraction': 0.9364175576375794, 'bagging_fraction': 0.6513542184075287, 'bagging_freq': 2, 'min_child_samples': 33, 'reg_alpha': 2.773566688365178e-06, 'reg_lambda': 1.524856213733829e-08}. Best is trial 8 with value: 0.009894864776229625.\n",
      "Training until validation scores don't improve for 10 rounds\n",
      "Early stopping, best iteration is:\n",
      "[61]\tvalid_0's rmse: 0.0107634\n",
      "Training until validation scores don't improve for 10 rounds\n",
      "Early stopping, best iteration is:\n",
      "[16]\tvalid_0's rmse: 0.0122943\n",
      "Training until validation scores don't improve for 10 rounds\n",
      "Early stopping, best iteration is:\n",
      "[74]\tvalid_0's rmse: 0.00735442\n",
      "Training until validation scores don't improve for 10 rounds\n",
      "Early stopping, best iteration is:\n",
      "[56]\tvalid_0's rmse: 0.00873459\n",
      "Training until validation scores don't improve for 10 rounds\n"
     ]
    },
    {
     "name": "stderr",
     "output_type": "stream",
     "text": [
      "Best trial: 14. Best value: 0.00962611:  75%|███████▌  | 15/20 [00:16<00:04,  1.02it/s]"
     ]
    },
    {
     "name": "stdout",
     "output_type": "stream",
     "text": [
      "Early stopping, best iteration is:\n",
      "[44]\tvalid_0's rmse: 0.00898387\n",
      "[I 2025-10-27 19:50:28,742] Trial 14 finished with value: 0.009626114758637816 and parameters: {'num_leaves': 41, 'learning_rate': 0.12213904303387088, 'feature_fraction': 0.8505462508861196, 'bagging_fraction': 0.8175729521695182, 'bagging_freq': 2, 'min_child_samples': 6, 'reg_alpha': 0.11018353125721664, 'reg_lambda': 5.436295862630846e-07}. Best is trial 14 with value: 0.009626114758637816.\n",
      "Training until validation scores don't improve for 10 rounds\n",
      "Early stopping, best iteration is:\n",
      "[14]\tvalid_0's rmse: 0.0110625\n",
      "Training until validation scores don't improve for 10 rounds\n",
      "Early stopping, best iteration is:\n",
      "[34]\tvalid_0's rmse: 0.0125353\n",
      "Training until validation scores don't improve for 10 rounds\n",
      "Early stopping, best iteration is:\n",
      "[77]\tvalid_0's rmse: 0.00766001\n",
      "Training until validation scores don't improve for 10 rounds\n",
      "Early stopping, best iteration is:\n",
      "[63]\tvalid_0's rmse: 0.00876257\n",
      "Training until validation scores don't improve for 10 rounds\n"
     ]
    },
    {
     "name": "stderr",
     "output_type": "stream",
     "text": [
      "Best trial: 14. Best value: 0.00962611:  80%|████████  | 16/20 [00:18<00:05,  1.36s/it]"
     ]
    },
    {
     "name": "stdout",
     "output_type": "stream",
     "text": [
      "Early stopping, best iteration is:\n",
      "[44]\tvalid_0's rmse: 0.00911844\n",
      "[I 2025-10-27 19:50:31,073] Trial 15 finished with value: 0.009827773953458 and parameters: {'num_leaves': 52, 'learning_rate': 0.10174209984581996, 'feature_fraction': 0.840277546448866, 'bagging_fraction': 0.7361358237534246, 'bagging_freq': 2, 'min_child_samples': 6, 'reg_alpha': 0.058983855661106976, 'reg_lambda': 6.667822954062065e-07}. Best is trial 14 with value: 0.009626114758637816.\n",
      "Training until validation scores don't improve for 10 rounds\n",
      "Early stopping, best iteration is:\n",
      "[27]\tvalid_0's rmse: 0.0113733\n",
      "Training until validation scores don't improve for 10 rounds\n",
      "Early stopping, best iteration is:\n",
      "[49]\tvalid_0's rmse: 0.0125982\n",
      "Training until validation scores don't improve for 10 rounds\n",
      "Early stopping, best iteration is:\n",
      "[76]\tvalid_0's rmse: 0.00787119\n",
      "Training until validation scores don't improve for 10 rounds\n",
      "Did not meet early stopping. Best iteration is:\n",
      "[96]\tvalid_0's rmse: 0.00879948\n",
      "Training until validation scores don't improve for 10 rounds\n"
     ]
    },
    {
     "name": "stderr",
     "output_type": "stream",
     "text": [
      "Best trial: 14. Best value: 0.00962611:  85%|████████▌ | 17/20 [00:19<00:03,  1.29s/it]"
     ]
    },
    {
     "name": "stdout",
     "output_type": "stream",
     "text": [
      "Early stopping, best iteration is:\n",
      "[48]\tvalid_0's rmse: 0.00925688\n",
      "[I 2025-10-27 19:50:32,196] Trial 16 finished with value: 0.009980457119779445 and parameters: {'num_leaves': 57, 'learning_rate': 0.06123720315935746, 'feature_fraction': 0.8998718121572944, 'bagging_fraction': 0.5856533070028216, 'bagging_freq': 2, 'min_child_samples': 8, 'reg_alpha': 0.45188445549569456, 'reg_lambda': 2.3998365842606164e-06}. Best is trial 14 with value: 0.009626114758637816.\n",
      "Training until validation scores don't improve for 10 rounds\n",
      "Early stopping, best iteration is:\n",
      "[31]\tvalid_0's rmse: 0.0107767\n",
      "Training until validation scores don't improve for 10 rounds\n",
      "Early stopping, best iteration is:\n",
      "[40]\tvalid_0's rmse: 0.0122846\n",
      "Training until validation scores don't improve for 10 rounds\n",
      "Early stopping, best iteration is:\n",
      "[51]\tvalid_0's rmse: 0.0076268\n",
      "Training until validation scores don't improve for 10 rounds\n",
      "Early stopping, best iteration is:\n",
      "[27]\tvalid_0's rmse: 0.00869395\n",
      "Training until validation scores don't improve for 10 rounds\n"
     ]
    },
    {
     "name": "stderr",
     "output_type": "stream",
     "text": [
      "Best trial: 14. Best value: 0.00962611:  90%|█████████ | 18/20 [00:21<00:02,  1.47s/it]"
     ]
    },
    {
     "name": "stdout",
     "output_type": "stream",
     "text": [
      "Early stopping, best iteration is:\n",
      "[17]\tvalid_0's rmse: 0.00910894\n",
      "[I 2025-10-27 19:50:34,082] Trial 17 finished with value: 0.00969821536553888 and parameters: {'num_leaves': 129, 'learning_rate': 0.13555444543681738, 'feature_fraction': 0.9981684146085112, 'bagging_fraction': 0.7512637139069337, 'bagging_freq': 3, 'min_child_samples': 7, 'reg_alpha': 0.17930746187648228, 'reg_lambda': 3.24050545744025e-05}. Best is trial 14 with value: 0.009626114758637816.\n",
      "Training until validation scores don't improve for 10 rounds\n",
      "Early stopping, best iteration is:\n",
      "[6]\tvalid_0's rmse: 0.0112161\n",
      "Training until validation scores don't improve for 10 rounds\n",
      "Early stopping, best iteration is:\n",
      "[14]\tvalid_0's rmse: 0.012552\n",
      "Training until validation scores don't improve for 10 rounds\n",
      "Early stopping, best iteration is:\n",
      "[15]\tvalid_0's rmse: 0.00839782\n",
      "Training until validation scores don't improve for 10 rounds\n",
      "Early stopping, best iteration is:\n",
      "[8]\tvalid_0's rmse: 0.00930885\n",
      "Training until validation scores don't improve for 10 rounds\n"
     ]
    },
    {
     "name": "stderr",
     "output_type": "stream",
     "text": [
      "Best trial: 14. Best value: 0.00962611:  95%|█████████▌| 19/20 [00:22<00:01,  1.39s/it]"
     ]
    },
    {
     "name": "stdout",
     "output_type": "stream",
     "text": [
      "Early stopping, best iteration is:\n",
      "[18]\tvalid_0's rmse: 0.00912396\n",
      "[I 2025-10-27 19:50:35,299] Trial 18 finished with value: 0.010119744847032194 and parameters: {'num_leaves': 129, 'learning_rate': 0.14925965021614224, 'feature_fraction': 0.9891962286454903, 'bagging_fraction': 0.5954682917382917, 'bagging_freq': 3, 'min_child_samples': 22, 'reg_alpha': 0.0008061653753918932, 'reg_lambda': 3.5717636832712124e-05}. Best is trial 14 with value: 0.009626114758637816.\n",
      "Training until validation scores don't improve for 10 rounds\n",
      "Early stopping, best iteration is:\n",
      "[72]\tvalid_0's rmse: 0.0107615\n",
      "Training until validation scores don't improve for 10 rounds\n",
      "Early stopping, best iteration is:\n",
      "[84]\tvalid_0's rmse: 0.0121097\n",
      "Training until validation scores don't improve for 10 rounds\n",
      "Early stopping, best iteration is:\n",
      "[84]\tvalid_0's rmse: 0.00776929\n",
      "Training until validation scores don't improve for 10 rounds\n",
      "Did not meet early stopping. Best iteration is:\n",
      "[91]\tvalid_0's rmse: 0.00860853\n",
      "Training until validation scores don't improve for 10 rounds\n"
     ]
    },
    {
     "name": "stderr",
     "output_type": "stream",
     "text": [
      "Best trial: 14. Best value: 0.00962611: 100%|██████████| 20/20 [00:24<00:00,  1.25s/it]"
     ]
    },
    {
     "name": "stdout",
     "output_type": "stream",
     "text": [
      "Early stopping, best iteration is:\n",
      "[88]\tvalid_0's rmse: 0.00904551\n",
      "[I 2025-10-27 19:50:37,508] Trial 19 finished with value: 0.009658895552657054 and parameters: {'num_leaves': 199, 'learning_rate': 0.06566935413513973, 'feature_fraction': 0.772564737314667, 'bagging_fraction': 0.7826613723848193, 'bagging_freq': 4, 'min_child_samples': 16, 'reg_alpha': 0.2858713885789496, 'reg_lambda': 2.663123338944175e-05}. Best is trial 14 with value: 0.009626114758637816.\n",
      "Best LightGBM score: 0.009626\n",
      "Best LightGBM params: {'num_leaves': 41, 'learning_rate': 0.12213904303387088, 'feature_fraction': 0.8505462508861196, 'bagging_fraction': 0.8175729521695182, 'bagging_freq': 2, 'min_child_samples': 6, 'reg_alpha': 0.11018353125721664, 'reg_lambda': 5.436295862630846e-07}\n"
     ]
    },
    {
     "name": "stderr",
     "output_type": "stream",
     "text": [
      "\n",
      "[I 2025-10-27 19:50:42,502] A new study created in memory with name: no-name-5869b88c-54e8-4a27-8a92-8f4f4dfbd3b5\n"
     ]
    },
    {
     "name": "stdout",
     "output_type": "stream",
     "text": [
      "\n",
      "==================================================\n",
      "Training XGBoost...\n",
      "==================================================\n"
     ]
    },
    {
     "name": "stderr",
     "output_type": "stream",
     "text": [
      "Best trial: 0. Best value: 0.0102732:   5%|▌         | 1/20 [00:01<00:36,  1.90s/it]"
     ]
    },
    {
     "name": "stdout",
     "output_type": "stream",
     "text": [
      "[I 2025-10-27 19:50:44,399] Trial 0 finished with value: 0.010273168069916747 and parameters: {'max_depth': 9, 'learning_rate': 0.022751232180971546, 'subsample': 0.5062506727568727, 'colsample_bytree': 0.8537245503492024, 'colsample_bylevel': 0.4296387354670528, 'min_child_weight': 4, 'gamma': 4.753207615514409e-08, 'reg_alpha': 5.493712039822397e-08, 'reg_lambda': 0.015379748586648548}. Best is trial 0 with value: 0.010273168069916747.\n"
     ]
    },
    {
     "name": "stderr",
     "output_type": "stream",
     "text": [
      "Best trial: 0. Best value: 0.0102732:  10%|█         | 2/20 [00:02<00:17,  1.05it/s]"
     ]
    },
    {
     "name": "stdout",
     "output_type": "stream",
     "text": [
      "[I 2025-10-27 19:50:44,693] Trial 1 finished with value: 0.01058464386182946 and parameters: {'max_depth': 7, 'learning_rate': 0.2765111629872227, 'subsample': 0.6479011609706367, 'colsample_bytree': 0.7383870764168048, 'colsample_bylevel': 0.9740007344612078, 'min_child_weight': 8, 'gamma': 0.00022762847822754305, 'reg_alpha': 0.002071527925321875, 'reg_lambda': 0.009589516448208468}. Best is trial 0 with value: 0.010273168069916747.\n"
     ]
    },
    {
     "name": "stderr",
     "output_type": "stream",
     "text": [
      "Best trial: 2. Best value: 0.0100688:  15%|█▌        | 3/20 [00:02<00:12,  1.33it/s]"
     ]
    },
    {
     "name": "stdout",
     "output_type": "stream",
     "text": [
      "[I 2025-10-27 19:50:45,205] Trial 2 finished with value: 0.010068772249166576 and parameters: {'max_depth': 7, 'learning_rate': 0.07037589450400904, 'subsample': 0.7751534769807279, 'colsample_bytree': 0.4470663643122457, 'colsample_bylevel': 0.5035426139165832, 'min_child_weight': 6, 'gamma': 0.0005296908804107479, 'reg_alpha': 0.07912108975328531, 'reg_lambda': 7.906398709246292e-07}. Best is trial 2 with value: 0.010068772249166576.\n"
     ]
    },
    {
     "name": "stderr",
     "output_type": "stream",
     "text": [
      "Best trial: 2. Best value: 0.0100688:  30%|███       | 6/20 [00:03<00:05,  2.74it/s]"
     ]
    },
    {
     "name": "stdout",
     "output_type": "stream",
     "text": [
      "[I 2025-10-27 19:50:45,799] Trial 3 finished with value: 0.010887295280368879 and parameters: {'max_depth': 9, 'learning_rate': 0.20291556098166438, 'subsample': 0.5786059828442315, 'colsample_bytree': 0.7542819682882398, 'colsample_bylevel': 0.6619235698022893, 'min_child_weight': 2, 'gamma': 9.513360669159967e-05, 'reg_alpha': 0.006780089502920164, 'reg_lambda': 2.3736443787568228e-07}. Best is trial 2 with value: 0.010068772249166576.\n",
      "[I 2025-10-27 19:50:45,882] Trial 4 finished with value: 0.010923143113853487 and parameters: {'max_depth': 9, 'learning_rate': 0.11483752125829787, 'subsample': 0.41876549995369444, 'colsample_bytree': 0.42336560233657017, 'colsample_bylevel': 0.988851487123077, 'min_child_weight': 4, 'gamma': 0.5050337862872192, 'reg_alpha': 3.6628387297257743e-06, 'reg_lambda': 6.637538079819521e-08}. Best is trial 2 with value: 0.010068772249166576.\n",
      "[I 2025-10-27 19:50:45,954] Trial 5 finished with value: 0.010922154032594823 and parameters: {'max_depth': 8, 'learning_rate': 0.21411729316102784, 'subsample': 0.6420183655444515, 'colsample_bytree': 0.9079391068360164, 'colsample_bylevel': 0.9558439949131327, 'min_child_weight': 8, 'gamma': 3.305870183416021, 'reg_alpha': 0.015134818433319519, 'reg_lambda': 1.500459410076777e-08}. Best is trial 2 with value: 0.010068772249166576.\n"
     ]
    },
    {
     "name": "stderr",
     "output_type": "stream",
     "text": [
      "Best trial: 2. Best value: 0.0100688:  40%|████      | 8/20 [00:04<00:03,  3.17it/s]"
     ]
    },
    {
     "name": "stdout",
     "output_type": "stream",
     "text": [
      "[I 2025-10-27 19:50:46,442] Trial 6 finished with value: 0.011140970458941264 and parameters: {'max_depth': 10, 'learning_rate': 0.11084051514093758, 'subsample': 0.43593376757567437, 'colsample_bytree': 0.5899782664708206, 'colsample_bylevel': 0.49416384112137923, 'min_child_weight': 1, 'gamma': 0.0003013386213307703, 'reg_alpha': 4.484612334039979e-07, 'reg_lambda': 0.20543078654202382}. Best is trial 2 with value: 0.010068772249166576.\n",
      "[I 2025-10-27 19:50:46,543] Trial 7 finished with value: 0.010921785395440083 and parameters: {'max_depth': 4, 'learning_rate': 0.02047944727457839, 'subsample': 0.7018738632481667, 'colsample_bytree': 0.86277241089803, 'colsample_bylevel': 0.5872360365519601, 'min_child_weight': 5, 'gamma': 0.31007016903461687, 'reg_alpha': 0.000316942645671313, 'reg_lambda': 8.384664335573985}. Best is trial 2 with value: 0.010068772249166576.\n"
     ]
    },
    {
     "name": "stderr",
     "output_type": "stream",
     "text": [
      "Best trial: 2. Best value: 0.0100688:  55%|█████▌    | 11/20 [00:04<00:02,  3.61it/s]"
     ]
    },
    {
     "name": "stdout",
     "output_type": "stream",
     "text": [
      "[I 2025-10-27 19:50:47,280] Trial 8 finished with value: 0.01048442578049571 and parameters: {'max_depth': 4, 'learning_rate': 0.036261327624222545, 'subsample': 0.471913798890483, 'colsample_bytree': 0.7131863963762204, 'colsample_bylevel': 0.9274687958070376, 'min_child_weight': 3, 'gamma': 9.133960168190079e-07, 'reg_alpha': 5.8973585873548605e-06, 'reg_lambda': 0.000565048381873324}. Best is trial 2 with value: 0.010068772249166576.\n",
      "[I 2025-10-27 19:50:47,374] Trial 9 finished with value: 0.010921634946444492 and parameters: {'max_depth': 3, 'learning_rate': 0.09355959717548264, 'subsample': 0.7913096256253966, 'colsample_bytree': 0.986415381461193, 'colsample_bylevel': 0.8937414303587758, 'min_child_weight': 8, 'gamma': 6.817083256242821, 'reg_alpha': 3.7636216641911445e-06, 'reg_lambda': 7.22828566043179e-05}. Best is trial 2 with value: 0.010068772249166576.\n",
      "[I 2025-10-27 19:50:47,445] Trial 10 finished with value: 0.010921681302651157 and parameters: {'max_depth': 6, 'learning_rate': 0.012208520704230123, 'subsample': 0.9708108851821589, 'colsample_bytree': 0.42797693081456845, 'colsample_bylevel': 0.777481962804373, 'min_child_weight': 10, 'gamma': 0.028032366722668605, 'reg_alpha': 6.540584163727444, 'reg_lambda': 5.334225018144489e-06}. Best is trial 2 with value: 0.010068772249166576.\n"
     ]
    },
    {
     "name": "stderr",
     "output_type": "stream",
     "text": [
      "Best trial: 2. Best value: 0.0100688:  60%|██████    | 12/20 [00:06<00:04,  1.78it/s]"
     ]
    },
    {
     "name": "stdout",
     "output_type": "stream",
     "text": [
      "[I 2025-10-27 19:50:48,892] Trial 11 finished with value: 0.010315889599601974 and parameters: {'max_depth': 6, 'learning_rate': 0.043095030217699275, 'subsample': 0.8292979100932161, 'colsample_bytree': 0.5625523033620766, 'colsample_bylevel': 0.4195209241778366, 'min_child_weight': 6, 'gamma': 1.3910720541391572e-08, 'reg_alpha': 3.16579648399116e-08, 'reg_lambda': 0.011043363524256791}. Best is trial 2 with value: 0.010068772249166576.\n"
     ]
    },
    {
     "name": "stderr",
     "output_type": "stream",
     "text": [
      "Best trial: 12. Best value: 0.010044:  65%|██████▌   | 13/20 [00:08<00:06,  1.05it/s]"
     ]
    },
    {
     "name": "stdout",
     "output_type": "stream",
     "text": [
      "[I 2025-10-27 19:50:50,981] Trial 12 finished with value: 0.010044010120992085 and parameters: {'max_depth': 7, 'learning_rate': 0.02337113958126865, 'subsample': 0.832386304641392, 'colsample_bytree': 0.5906604254417618, 'colsample_bylevel': 0.4070654816662057, 'min_child_weight': 6, 'gamma': 1.2276798221806954e-06, 'reg_alpha': 0.58653719349896, 'reg_lambda': 2.8893407717465145e-06}. Best is trial 12 with value: 0.010044010120992085.\n"
     ]
    },
    {
     "name": "stderr",
     "output_type": "stream",
     "text": [
      "Best trial: 12. Best value: 0.010044:  70%|███████   | 14/20 [00:09<00:05,  1.20it/s]"
     ]
    },
    {
     "name": "stdout",
     "output_type": "stream",
     "text": [
      "[I 2025-10-27 19:50:51,490] Trial 13 finished with value: 0.010311764860737522 and parameters: {'max_depth': 7, 'learning_rate': 0.06628211608059938, 'subsample': 0.8999659212871051, 'colsample_bytree': 0.5322452434675968, 'colsample_bylevel': 0.5148032022373821, 'min_child_weight': 6, 'gamma': 5.251804715484914e-06, 'reg_alpha': 0.9250315361178388, 'reg_lambda': 1.4208177681120937e-06}. Best is trial 12 with value: 0.010044010120992085.\n",
      "[I 2025-10-27 19:50:51,583] Trial 14 finished with value: 0.010921593225917575 and parameters: {'max_depth': 5, 'learning_rate': 0.02912589034006224, 'subsample': 0.7840535185694377, 'colsample_bytree': 0.6239698916994026, 'colsample_bylevel': 0.5649321377841929, 'min_child_weight': 7, 'gamma': 0.006887911863497386, 'reg_alpha': 0.18132850579547033, 'reg_lambda': 1.3150364953227008e-05}. Best is trial 12 with value: 0.010044010120992085.\n"
     ]
    },
    {
     "name": "stderr",
     "output_type": "stream",
     "text": [
      "Best trial: 15. Best value: 0.00977064:  80%|████████  | 16/20 [00:15<00:07,  1.90s/it]"
     ]
    },
    {
     "name": "stdout",
     "output_type": "stream",
     "text": [
      "[I 2025-10-27 19:50:58,055] Trial 15 finished with value: 0.009770641072798366 and parameters: {'max_depth': 8, 'learning_rate': 0.010686907825418663, 'subsample': 0.8856439127577715, 'colsample_bytree': 0.497877281233686, 'colsample_bylevel': 0.6770409490175189, 'min_child_weight': 10, 'gamma': 2.4026624091877307e-06, 'reg_alpha': 0.13161506062473075, 'reg_lambda': 9.769701731096074e-07}. Best is trial 15 with value: 0.009770641072798366.\n",
      "[I 2025-10-27 19:50:58,133] Trial 16 finished with value: 0.010921681302651157 and parameters: {'max_depth': 8, 'learning_rate': 0.010347341937171885, 'subsample': 0.9800773245105432, 'colsample_bytree': 0.4959203771413982, 'colsample_bylevel': 0.7600336465854853, 'min_child_weight': 10, 'gamma': 9.184708436054156e-07, 'reg_alpha': 6.870383143875225, 'reg_lambda': 0.00020528480688266837}. Best is trial 15 with value: 0.009770641072798366.\n"
     ]
    },
    {
     "name": "stderr",
     "output_type": "stream",
     "text": [
      "Best trial: 17. Best value: 0.00970103:  90%|█████████ | 18/20 [00:21<00:04,  2.25s/it]"
     ]
    },
    {
     "name": "stdout",
     "output_type": "stream",
     "text": [
      "[I 2025-10-27 19:51:03,704] Trial 17 finished with value: 0.009701030499688044 and parameters: {'max_depth': 8, 'learning_rate': 0.015330675671653402, 'subsample': 0.885269875181822, 'colsample_bytree': 0.6477985145166647, 'colsample_bylevel': 0.6753741278216345, 'min_child_weight': 9, 'gamma': 1.2618233510181862e-05, 'reg_alpha': 0.28115387056101465, 'reg_lambda': 1.7342540349920564e-05}. Best is trial 17 with value: 0.009701030499688044.\n"
     ]
    },
    {
     "name": "stderr",
     "output_type": "stream",
     "text": [
      "Best trial: 17. Best value: 0.00970103:  95%|█████████▌| 19/20 [00:25<00:02,  2.64s/it]"
     ]
    },
    {
     "name": "stdout",
     "output_type": "stream",
     "text": [
      "[I 2025-10-27 19:51:07,772] Trial 18 finished with value: 0.01004541075189271 and parameters: {'max_depth': 10, 'learning_rate': 0.014640901402492967, 'subsample': 0.909314232448642, 'colsample_bytree': 0.6579400841848639, 'colsample_bylevel': 0.6426160885872951, 'min_child_weight': 9, 'gamma': 1.6242720306667466e-05, 'reg_alpha': 0.0001851902793440002, 'reg_lambda': 2.2818319706598933e-05}. Best is trial 17 with value: 0.009701030499688044.\n"
     ]
    },
    {
     "name": "stderr",
     "output_type": "stream",
     "text": [
      "Best trial: 17. Best value: 0.00970103: 100%|██████████| 20/20 [00:28<00:00,  1.41s/it]\n"
     ]
    },
    {
     "name": "stdout",
     "output_type": "stream",
     "text": [
      "[I 2025-10-27 19:51:10,731] Trial 19 finished with value: 0.00996994111861836 and parameters: {'max_depth': 8, 'learning_rate': 0.016038245911343365, 'subsample': 0.9116228740119612, 'colsample_bytree': 0.49541449159042805, 'colsample_bylevel': 0.7565365804364317, 'min_child_weight': 9, 'gamma': 1.5346791636862368e-07, 'reg_alpha': 0.03772486026804628, 'reg_lambda': 0.001022024144451998}. Best is trial 17 with value: 0.009701030499688044.\n",
      "Best XGBoost score: 0.009701\n",
      "Best XGBoost params: {'max_depth': 8, 'learning_rate': 0.015330675671653402, 'subsample': 0.885269875181822, 'colsample_bytree': 0.6477985145166647, 'colsample_bylevel': 0.6753741278216345, 'min_child_weight': 9, 'gamma': 1.2618233510181862e-05, 'reg_alpha': 0.28115387056101465, 'reg_lambda': 1.7342540349920564e-05}\n",
      "\n",
      "==================================================\n",
      "Training Ensemble...\n",
      "==================================================\n",
      "\n",
      "======================================================================\n",
      "Model Evaluation Results\n",
      "======================================================================\n",
      "\n",
      "Evaluating ElasticNet...\n",
      "Signal range: [0.8733, 1.1569]\n",
      "Signal mean: 0.9953\n",
      "\n",
      "Evaluating LightGBM...\n",
      "Signal range: [0.0000, 2.0000]\n",
      "Signal mean: 1.0465\n",
      "\n",
      "Evaluating XGBoost...\n",
      "Signal range: [0.0000, 2.0000]\n",
      "Signal mean: 1.1922\n",
      "\n",
      "Evaluating Ensemble...\n",
      "Signal range: [0.5518, 2.0000]\n",
      "Signal mean: 1.2425\n",
      "\n",
      "======================================================================\n",
      "Feature Importance (LightGBM)\n",
      "======================================================================\n",
      "1. Column_87: 1.0992\n",
      "2. Column_76: 0.7253\n",
      "3. Column_84: 0.6050\n",
      "4. Column_81: 0.5406\n",
      "5. Column_77: 0.2012\n",
      "6. Column_85: 0.1863\n",
      "7. Column_71: 0.1613\n",
      "8. Column_86: 0.1252\n",
      "9. Column_5: 0.1130\n",
      "10. Column_82: 0.1118\n",
      "\n",
      "Training completed successfully!\n"
     ]
    }
   ],
   "source": [
    "if __name__ == \"__main__\":\n",
    "    results, signals, test_data = main()\n",
    "    print(\"\\nTraining completed successfully!\")"
   ]
  }
 ],
 "metadata": {
  "kernelspec": {
   "display_name": "venv",
   "language": "python",
   "name": "python3"
  },
  "language_info": {
   "codemirror_mode": {
    "name": "ipython",
    "version": 3
   },
   "file_extension": ".py",
   "mimetype": "text/x-python",
   "name": "python",
   "nbconvert_exporter": "python",
   "pygments_lexer": "ipython3",
   "version": "3.13.3"
  }
 },
 "nbformat": 4,
 "nbformat_minor": 5
}
