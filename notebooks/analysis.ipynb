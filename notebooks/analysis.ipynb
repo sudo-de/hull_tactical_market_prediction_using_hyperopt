{
 "cells": [
  {
   "cell_type": "code",
   "execution_count": 3,
   "id": "85995f4f",
   "metadata": {},
   "outputs": [
    {
     "name": "stdout",
     "output_type": "stream",
     "text": [
      "✅ Project root: /Users/sudip/hull_tactical_market_prediction_using_hyperopt\n",
      "✅ Src exists: True\n",
      "✅ Matplotlib version: 3.10.7\n"
     ]
    }
   ],
   "source": [
    "import sys\n",
    "from pathlib import Path\n",
    "\n",
    "# Add project root to path\n",
    "project_root = Path().resolve().parent  # Notebooks are in notebooks/, go up one level\n",
    "sys.path.insert(0, str(project_root))\n",
    "\n",
    "# Add venv packages\n",
    "venv_path = project_root / \"venv/lib/python3.13/site-packages\"\n",
    "if venv_path.exists():\n",
    "    sys.path.insert(0, str(venv_path))\n",
    "\n",
    "import numpy as np\n",
    "import polars as pl\n",
    "from sklearn.preprocessing import StandardScaler\n",
    "import matplotlib.pyplot as plt\n",
    "import matplotlib as mpl\n",
    "\n",
    "# Set matplotlib backend for notebook\n",
    "%matplotlib inline\n",
    "plt.style.use('seaborn-v0_8-darkgrid')\n",
    "mpl.rcParams['figure.figsize'] = (12, 6)\n",
    "\n",
    "print(f\"✅ Project root: {project_root}\")\n",
    "print(f\"✅ Src exists: {(project_root / 'src').exists()}\")\n",
    "print(f\"✅ Matplotlib version: {mpl.__version__}\")\n",
    "\n"
   ]
  },
  {
   "cell_type": "code",
   "execution_count": 4,
   "id": "d816427e",
   "metadata": {},
   "outputs": [
    {
     "name": "stdout",
     "output_type": "stream",
     "text": [
      "✅ Successful the Import\n"
     ]
    },
    {
     "name": "stderr",
     "output_type": "stream",
     "text": [
      "/Users/sudip/hull_tactical_market_prediction_using_hyperopt/venv/lib/python3.13/site-packages/tqdm/auto.py:21: TqdmWarning: IProgress not found. Please update jupyter and ipywidgets. See https://ipywidgets.readthedocs.io/en/stable/user_install.html\n",
      "  from .autonotebook import tqdm as notebook_tqdm\n"
     ]
    }
   ],
   "source": [
    "# --- Import your modules ---\n",
    "from src.features import create_advanced_features, select_features\n",
    "from src.models.elastic_net import ElasticNetModel\n",
    "from src.models.lightgbm_model import LightGBMModel\n",
    "from src.models.xgboost_model import XGBoostModel\n",
    "from src.models.ensemble import EnsembleModel\n",
    "from evaluation import score\n",
    "print(f\"✅ Successful the Import\")"
   ]
  },
  {
   "cell_type": "code",
   "execution_count": 5,
   "id": "1a9f0303",
   "metadata": {},
   "outputs": [],
   "source": [
    "def load_data(data_path: Path):\n",
    "    \"\"\"Load and preprocess data.\"\"\"\n",
    "    print(\"Loading data...\")\n",
    "    \n",
    "    train = (\n",
    "        pl.read_csv(data_path / \"train.csv\")\n",
    "        .rename({'market_forward_excess_returns': 'target'})\n",
    "        .with_columns(pl.exclude('date_id').cast(pl.Float64, strict=False))\n",
    "        .head(-10)\n",
    "    )\n",
    "    \n",
    "    test = (\n",
    "        pl.read_csv(data_path / \"test.csv\")\n",
    "        .rename({'lagged_forward_returns': 'target'})\n",
    "        .with_columns(pl.exclude('date_id').cast(pl.Float64, strict=False))\n",
    "    )\n",
    "    \n",
    "    print(f\"Train shape: {train.shape}, Test shape: {test.shape}\")\n",
    "    return train, test"
   ]
  },
  {
   "cell_type": "code",
   "execution_count": 6,
   "id": "55555295",
   "metadata": {},
   "outputs": [],
   "source": [
    "def create_features(df: pl.DataFrame) -> pl.DataFrame:\n",
    "    \"\"\"Create features from raw data.\"\"\"\n",
    "    print(\"Creating features...\")\n",
    "    \n",
    "    vars_to_keep = [\"S2\", \"E2\", \"E3\", \"P9\", \"S1\", \"S5\", \"I2\", \"P8\", \"P10\", \"P12\", \"P13\"]\n",
    "    \n",
    "    # Create basic features\n",
    "    df = df.with_columns([\n",
    "        (pl.col(\"I2\") - pl.col(\"I1\")).alias(\"U1\") if all(c in df.columns for c in [\"I2\", \"I1\"]) else pl.lit(None),\n",
    "        (pl.col(\"M11\") / ((pl.col(\"I2\") + pl.col(\"I9\") + pl.col(\"I7\")) / 3)).alias(\"U2\") if all(c in df.columns for c in [\"M11\", \"I2\", \"I9\", \"I7\"]) else pl.lit(None)\n",
    "    ])\n",
    "    \n",
    "    df = df.select([\"date_id\", \"target\"] + vars_to_keep + [\"U1\", \"U2\"])\n",
    "    \n",
    "    # Fill nulls\n",
    "    feature_cols = [col for col in df.columns if col not in ['date_id', 'target']]\n",
    "    df = df.with_columns([\n",
    "        pl.col(col).fill_null(pl.col(col).ewm_mean(com=0.5))\n",
    "        for col in feature_cols\n",
    "    ])\n",
    "    \n",
    "    # Create advanced features\n",
    "    df = create_advanced_features(df, feature_cols)\n",
    "    \n",
    "    return df.drop_nulls()"
   ]
  },
  {
   "cell_type": "code",
   "execution_count": 7,
   "id": "50368d89",
   "metadata": {},
   "outputs": [],
   "source": [
    "def prepare_data(train: pl.DataFrame, test: pl.DataFrame):\n",
    "    \"\"\"Prepare train and test datasets.\"\"\"\n",
    "    print(\"Preparing data...\")\n",
    "    \n",
    "    # Join and create features\n",
    "    common_columns = [col for col in train.columns if col in test.columns]\n",
    "    df = pl.concat([train.select(common_columns), test.select(common_columns)], how=\"vertical\")\n",
    "    \n",
    "    df = create_features(df)\n",
    "    \n",
    "    # Split back\n",
    "    train_date_ids = set(train.get_column('date_id'))\n",
    "    test_date_ids = set(test.get_column('date_id'))\n",
    "    \n",
    "    train_df = df.filter(pl.col('date_id').is_in(list(train_date_ids)))\n",
    "    test_df = df.filter(pl.col('date_id').is_in(list(test_date_ids)))\n",
    "    \n",
    "    # Get features\n",
    "    feature_cols = select_features(train_df, method='all')\n",
    "    print(f\"Number of features: {len(feature_cols)}\")\n",
    "    \n",
    "    # Prepare X and y\n",
    "    X_train = train_df.select(feature_cols).to_numpy()\n",
    "    y_train = train_df.get_column('target').to_numpy()\n",
    "    \n",
    "    X_test = test_df.select(feature_cols).to_numpy()\n",
    "    y_test = test_df.get_column('target').to_numpy()\n",
    "    \n",
    "    # Scale features\n",
    "    scaler = StandardScaler()\n",
    "    X_train = scaler.fit_transform(X_train)\n",
    "    X_test = scaler.transform(X_test)\n",
    "    \n",
    "    return X_train, y_train, X_test, y_test, scaler, feature_cols, test_df\n"
   ]
  },
  {
   "cell_type": "code",
   "execution_count": 8,
   "id": "45d51335",
   "metadata": {},
   "outputs": [],
   "source": [
    "def evaluate_model(name: str, predictions: np.ndarray, test_data: pl.DataFrame):\n",
    "    \"\"\"Evaluate model performance.\"\"\"\n",
    "    print(f\"\\nEvaluating {name}...\")\n",
    "    \n",
    "    # Clip predictions to [0, 2] range\n",
    "    signals = np.clip(predictions * 400 + 1, 0.0, 2.0)\n",
    "    \n",
    "    print(f\"Signal range: [{signals.min():.4f}, {signals.max():.4f}]\")\n",
    "    print(f\"Signal mean: {signals.mean():.4f}\")\n",
    "    \n",
    "    return signals"
   ]
  },
  {
   "cell_type": "code",
   "execution_count": 9,
   "id": "07022d10",
   "metadata": {},
   "outputs": [],
   "source": [
    "def train_all_models(X_train, y_train, X_test, optimize=True):\n",
    "    \"\"\"Train all models and return predictions.\"\"\"\n",
    "    results = {}\n",
    "    \n",
    "    # ElasticNet\n",
    "    print(\"\\n\" + \"=\"*50)\n",
    "    print(\"Training ElasticNet...\")\n",
    "    print(\"=\"*50)\n",
    "    enet = ElasticNetModel(n_trials=20 if optimize else 0)\n",
    "    enet.fit(X_train, y_train, optimize=optimize)\n",
    "    results['ElasticNet'] = (enet, enet.predict(X_test))\n",
    "    \n",
    "    # LightGBM\n",
    "    print(\"\\n\" + \"=\"*50)\n",
    "    print(\"Training LightGBM...\")\n",
    "    print(\"=\"*50)\n",
    "    lgbm = LightGBMModel(n_trials=20 if optimize else 0)\n",
    "    lgbm.fit(X_train, y_train, optimize=optimize)\n",
    "    results['LightGBM'] = (lgbm, lgbm.predict(X_test))\n",
    "    \n",
    "    # XGBoost\n",
    "    print(\"\\n\" + \"=\"*50)\n",
    "    print(\"Training XGBoost...\")\n",
    "    print(\"=\"*50)\n",
    "    xgb_model = XGBoostModel(n_trials=20 if optimize else 0)\n",
    "    xgb_model.fit(X_train, y_train, optimize=optimize)\n",
    "    results['XGBoost'] = (xgb_model, xgb_model.predict(X_test))\n",
    "    \n",
    "    # Ensemble (simple average)\n",
    "    print(\"\\n\" + \"=\"*50)\n",
    "    print(\"Training Ensemble...\")\n",
    "    print(\"=\"*50)\n",
    "    ensemble_models = [enet, lgbm, xgb_model]\n",
    "    ensemble = EnsembleModel(ensemble_models, weights=[0.3, 0.35, 0.35])\n",
    "    ensemble.fit(X_train, y_train, optimize=False)\n",
    "    results['Ensemble'] = (ensemble, ensemble.predict(X_test))\n",
    "    \n",
    "    return results"
   ]
  },
  {
   "cell_type": "code",
   "execution_count": 10,
   "id": "df900207",
   "metadata": {},
   "outputs": [],
   "source": [
    "def main():\n",
    "    \"\"\"Main training function.\"\"\"\n",
    "    print(\"=\"*70)\n",
    "    print(\"Hull Tactical Market Prediction - Advanced Training\")\n",
    "    print(\"=\"*70)\n",
    "    \n",
    "    # Paths\n",
    "    data_path = Path('/Users/sudip/hull_tactical_market_prediction_using_hyperopt/input/hull-tactical-market-prediction/')\n",
    "    \n",
    "    # Load data\n",
    "    train, test = load_data(data_path)\n",
    "    \n",
    "    # Prepare data\n",
    "    X_train, y_train, X_test, y_test, scaler, feature_cols, test_df = prepare_data(train, test)\n",
    "    \n",
    "    print(f\"\\nData shapes:\")\n",
    "    print(f\"X_train: {X_train.shape}, y_train: {y_train.shape}\")\n",
    "    print(f\"X_test: {X_test.shape}, y_test: {y_test.shape}\")\n",
    "    \n",
    "    # Train models\n",
    "    results = train_all_models(X_train, y_train, X_test, optimize=True)\n",
    "    \n",
    "    # Evaluate models\n",
    "    print(\"\\n\" + \"=\"*70)\n",
    "    print(\"Model Evaluation Results\")\n",
    "    print(\"=\"*70)\n",
    "    \n",
    "    all_signals = {}\n",
    "    for name, (model, predictions) in results.items():\n",
    "        signals = evaluate_model(name, predictions, test_df)\n",
    "        all_signals[name] = signals\n",
    "    \n",
    "    # Feature importance\n",
    "    print(\"\\n\" + \"=\"*70)\n",
    "    print(\"Feature Importance (LightGBM)\")\n",
    "    print(\"=\"*70)\n",
    "    try:\n",
    "        lgbm_model = results['LightGBM'][0]\n",
    "        feature_importance = lgbm_model.get_feature_importance()\n",
    "        # Sort by importance\n",
    "        sorted_features = sorted(feature_importance.items(), key=lambda x: x[1], reverse=True)\n",
    "        for i, (feature, importance) in enumerate(sorted_features[:10]):\n",
    "            print(f\"{i+1}. {feature}: {importance:.4f}\")\n",
    "    except Exception as e:\n",
    "        print(f\"Could not get feature importance: {e}\")\n",
    "    \n",
    "    return results, all_signals, test_df"
   ]
  },
  {
   "cell_type": "code",
   "execution_count": 11,
   "id": "de1f8ff8",
   "metadata": {},
   "outputs": [],
   "source": [
    "def plot_training_results(all_signals: dict, test_df: pl.DataFrame, save_dir: Path = Path('artifacts')):\n",
    "    \"\"\"Plot training results using matplotlib.\"\"\"\n",
    "    save_dir.mkdir(exist_ok=True)\n",
    "    \n",
    "    # Plot 1: Prediction comparison\n",
    "    fig, axes = plt.subplots(2, 2, figsize=(15, 10))\n",
    "    axes = axes.flatten()\n",
    "    \n",
    "    for idx, (model_name, signals) in enumerate(all_signals.items()):\n",
    "        if idx < 4:\n",
    "            ax = axes[idx]\n",
    "            ax.plot(signals, marker='o', linestyle='-', markersize=6, linewidth=2)\n",
    "            ax.set_title(f'{model_name} Predictions', fontsize=14, fontweight='bold')\n",
    "            ax.set_xlabel('Sample Index', fontsize=12)\n",
    "            ax.set_ylabel('Signal Value', fontsize=12)\n",
    "            ax.grid(True, alpha=0.3)\n",
    "            ax.axhline(y=1.0, color='r', linestyle='--', alpha=0.5, label='Neutral')\n",
    "            ax.legend()\n",
    "    \n",
    "    plt.tight_layout()\n",
    "    plt.savefig(save_dir / 'predictions_comparison.png', dpi=300, bbox_inches='tight')\n",
    "    print(f\"\\n✅ Saved predictions plot to {save_dir / 'predictions_comparison.png'}\")\n",
    "    plt.close()\n",
    "\n",
    "    # Plot 2: Signal distribution\n",
    "    fig, ax = plt.subplots(figsize=(12, 6))\n",
    "    \n",
    "    x_pos = np.arange(len(all_signals))\n",
    "    widths = 0.8 / len(all_signals)\n",
    "    \n",
    "    for idx, (model_name, signals) in enumerate(all_signals.items()):\n",
    "        ax.hist(signals, bins=20, alpha=0.6, label=model_name, \n",
    "                density=True, edgecolor='black', linewidth=0.5)\n",
    "    \n",
    "    ax.set_xlabel('Signal Value', fontsize=12)\n",
    "    ax.set_ylabel('Density', fontsize=12)\n",
    "    ax.set_title('Signal Distribution by Model', fontsize=14, fontweight='bold')\n",
    "    ax.legend()\n",
    "    ax.grid(True, alpha=0.3, axis='y')\n",
    "    \n",
    "    plt.tight_layout()\n",
    "    plt.savefig(save_dir / 'signal_distribution.png', dpi=300, bbox_inches='tight')\n",
    "    print(f\"✅ Saved distribution plot to {save_dir / 'signal_distribution.png'}\")\n",
    "    plt.close()\n",
    "    \n",
    "    # Plot 3: Summary statistics bar chart\n",
    "    fig, ax = plt.subplots(figsize=(12, 6))\n",
    "    \n",
    "    models = list(all_signals.keys())\n",
    "    means = [np.mean(all_signals[m]) for m in models]\n",
    "    stds = [np.std(all_signals[m]) for m in models]\n",
    "    mins = [np.min(all_signals[m]) for m in models]\n",
    "    maxs = [np.max(all_signals[m]) for m in models]\n",
    "    \n",
    "    x = np.arange(len(models))\n",
    "    width = 0.2\n",
    "    \n",
    "    ax.bar(x - 1.5*width, means, width, label='Mean', alpha=0.8)\n",
    "    ax.bar(x - 0.5*width, stds, width, label='Std', alpha=0.8)\n",
    "    ax.bar(x + 0.5*width, mins, width, label='Min', alpha=0.8)\n",
    "    ax.bar(x + 1.5*width, maxs, width, label='Max', alpha=0.8)\n",
    "    \n",
    "    ax.set_ylabel('Signal Value', fontsize=12)\n",
    "    ax.set_title('Model Signal Statistics', fontsize=14, fontweight='bold')\n",
    "    ax.set_xticks(x)\n",
    "    ax.set_xticklabels(models, rotation=45, ha='right')\n",
    "    ax.legend()\n",
    "    ax.grid(True, alpha=0.3, axis='y')\n",
    "    \n",
    "    plt.tight_layout()\n",
    "    plt.savefig(save_dir / 'signal_statistics.png', dpi=300, bbox_inches='tight')\n",
    "    print(f\"✅ Saved statistics plot to {save_dir / 'signal_statistics.png'}\")\n",
    "    plt.close()"
   ]
  },
  {
   "cell_type": "code",
   "execution_count": 12,
   "id": "4b803e57",
   "metadata": {},
   "outputs": [
    {
     "name": "stderr",
     "output_type": "stream",
     "text": [
      "[I 2025-10-27 21:07:05,023] A new study created in memory with name: no-name-ee426b9c-fd80-4d7f-9cb1-f5e4d57c13ed\n"
     ]
    },
    {
     "name": "stdout",
     "output_type": "stream",
     "text": [
      "======================================================================\n",
      "Hull Tactical Market Prediction - Advanced Training\n",
      "======================================================================\n",
      "Loading data...\n",
      "Train shape: (8980, 98), Test shape: (10, 99)\n",
      "Preparing data...\n",
      "Creating features...\n",
      "Number of features: 88\n",
      "\n",
      "Data shapes:\n",
      "X_train: (7469, 88), y_train: (7469,)\n",
      "X_test: (10, 88), y_test: (10,)\n",
      "\n",
      "==================================================\n",
      "Training ElasticNet...\n",
      "==================================================\n"
     ]
    },
    {
     "name": "stderr",
     "output_type": "stream",
     "text": [
      "Best trial: 1. Best value: 0.0109217:  15%|█▌        | 3/20 [00:00<00:00, 28.58it/s]"
     ]
    },
    {
     "name": "stdout",
     "output_type": "stream",
     "text": [
      "[I 2025-10-27 21:07:05,115] Trial 0 finished with value: 0.010964943472772038 and parameters: {'alpha': 0.00011737148857236177, 'l1_ratio': 0.6674162266160242}. Best is trial 0 with value: 0.010964943472772038.\n",
      "[I 2025-10-27 21:07:05,127] Trial 1 finished with value: 0.01092168130280988 and parameters: {'alpha': 0.023191362738087837, 'l1_ratio': 0.3878732797205532}. Best is trial 1 with value: 0.01092168130280988.\n",
      "[I 2025-10-27 21:07:05,137] Trial 2 finished with value: 0.01092168130280988 and parameters: {'alpha': 0.0065046225264292394, 'l1_ratio': 0.6724588830114097}. Best is trial 1 with value: 0.01092168130280988.\n"
     ]
    },
    {
     "name": "stderr",
     "output_type": "stream",
     "text": [
      "Best trial: 4. Best value: 0.0109069:  30%|███       | 6/20 [00:00<00:00, 25.79it/s]"
     ]
    },
    {
     "name": "stdout",
     "output_type": "stream",
     "text": [
      "[I 2025-10-27 21:07:05,149] Trial 3 finished with value: 0.010917584345526896 and parameters: {'alpha': 0.0018327021125182283, 'l1_ratio': 0.36362661397368345}. Best is trial 3 with value: 0.010917584345526896.\n",
      "[I 2025-10-27 21:07:05,178] Trial 4 finished with value: 0.01090694310373953 and parameters: {'alpha': 0.0003072298988341006, 'l1_ratio': 0.8030703685234178}. Best is trial 4 with value: 0.01090694310373953.\n",
      "[I 2025-10-27 21:07:05,260] Trial 5 finished with value: 0.01092168130280988 and parameters: {'alpha': 0.00309447945098359, 'l1_ratio': 0.45595013525610717}. Best is trial 4 with value: 0.01090694310373953.\n",
      "[I 2025-10-27 21:07:05,286] Trial 6 finished with value: 0.01092168130280988 and parameters: {'alpha': 0.005025208741631242, 'l1_ratio': 0.4128456528401283}. Best is trial 4 with value: 0.01090694310373953.\n"
     ]
    },
    {
     "name": "stderr",
     "output_type": "stream",
     "text": [
      "Best trial: 4. Best value: 0.0109069:  35%|███▌      | 7/20 [00:00<00:00, 25.79it/s]"
     ]
    },
    {
     "name": "stdout",
     "output_type": "stream",
     "text": [
      "[I 2025-10-27 21:07:05,345] Trial 7 finished with value: 0.010955081787778539 and parameters: {'alpha': 0.0007169476460639289, 'l1_ratio': 0.12843730719927093}. Best is trial 4 with value: 0.01090694310373953.\n"
     ]
    },
    {
     "name": "stderr",
     "output_type": "stream",
     "text": [
      "Best trial: 4. Best value: 0.0109069:  50%|█████     | 10/20 [00:00<00:00, 29.03it/s]"
     ]
    },
    {
     "name": "stdout",
     "output_type": "stream",
     "text": [
      "[I 2025-10-27 21:07:05,356] Trial 8 finished with value: 0.01092168130280988 and parameters: {'alpha': 0.059762415111670596, 'l1_ratio': 0.3832609762161897}. Best is trial 4 with value: 0.01090694310373953.\n",
      "[I 2025-10-27 21:07:05,383] Trial 9 finished with value: 0.010908461815461195 and parameters: {'alpha': 0.0033452081531321538, 'l1_ratio': 0.13266306802976569}. Best is trial 4 with value: 0.01090694310373953.\n",
      "[I 2025-10-27 21:07:05,396] Trial 10 finished with value: 0.01092168130280988 and parameters: {'alpha': 0.5318699184189728, 'l1_ratio': 0.9742204147331972}. Best is trial 4 with value: 0.01090694310373953.\n"
     ]
    },
    {
     "name": "stderr",
     "output_type": "stream",
     "text": [
      "Best trial: 16. Best value: 0.010906: 100%|██████████| 20/20 [00:01<00:00, 16.47it/s]\n",
      "[I 2025-10-27 21:07:06,256] A new study created in memory with name: no-name-ce5f304d-66d9-49a9-bbd7-919f3a99d070\n"
     ]
    },
    {
     "name": "stdout",
     "output_type": "stream",
     "text": [
      "[I 2025-10-27 21:07:06,073] Trial 11 finished with value: 0.011035241732894581 and parameters: {'alpha': 0.00016893780796743663, 'l1_ratio': 0.09242161325323767}. Best is trial 4 with value: 0.01090694310373953.\n",
      "[I 2025-10-27 21:07:06,090] Trial 12 finished with value: 0.010911754225643298 and parameters: {'alpha': 0.0005385560176805935, 'l1_ratio': 0.9876895715160916}. Best is trial 4 with value: 0.01090694310373953.\n",
      "[I 2025-10-27 21:07:06,106] Trial 13 finished with value: 0.010913381490668124 and parameters: {'alpha': 0.0007481616959894034, 'l1_ratio': 0.7732109138200562}. Best is trial 4 with value: 0.01090694310373953.\n",
      "[I 2025-10-27 21:07:06,118] Trial 14 finished with value: 0.01092168130280988 and parameters: {'alpha': 0.02955112057067198, 'l1_ratio': 0.23236537961245496}. Best is trial 4 with value: 0.01090694310373953.\n",
      "[I 2025-10-27 21:07:06,132] Trial 15 finished with value: 0.01092168130280988 and parameters: {'alpha': 0.19953969452822248, 'l1_ratio': 0.013267742190765777}. Best is trial 4 with value: 0.01090694310373953.\n",
      "[I 2025-10-27 21:07:06,166] Trial 16 finished with value: 0.010906033112517149 and parameters: {'alpha': 0.000344207569289908, 'l1_ratio': 0.8289126727927366}. Best is trial 16 with value: 0.010906033112517149.\n",
      "[I 2025-10-27 21:07:06,200] Trial 17 finished with value: 0.010906126514832987 and parameters: {'alpha': 0.0003371809549393657, 'l1_ratio': 0.8291102560676867}. Best is trial 16 with value: 0.010906033112517149.\n",
      "[I 2025-10-27 21:07:06,214] Trial 18 finished with value: 0.010920285440007336 and parameters: {'alpha': 0.0013489582462946528, 'l1_ratio': 0.598648503723551}. Best is trial 16 with value: 0.010906033112517149.\n",
      "[I 2025-10-27 21:07:06,246] Trial 19 finished with value: 0.010908362735199463 and parameters: {'alpha': 0.0002652528401445315, 'l1_ratio': 0.8590572715268439}. Best is trial 16 with value: 0.010906033112517149.\n",
      "Best ElasticNet score: 0.010906\n",
      "Best ElasticNet params: {'alpha': 0.000344207569289908, 'l1_ratio': 0.8289126727927366}\n",
      "\n",
      "==================================================\n",
      "Training LightGBM...\n",
      "==================================================\n"
     ]
    },
    {
     "name": "stderr",
     "output_type": "stream",
     "text": [
      "  0%|          | 0/20 [00:00<?, ?it/s]"
     ]
    },
    {
     "name": "stdout",
     "output_type": "stream",
     "text": [
      "Training until validation scores don't improve for 10 rounds\n",
      "Early stopping, best iteration is:\n",
      "[1]\tvalid_0's rmse: 0.0115333\n",
      "Training until validation scores don't improve for 10 rounds\n",
      "Did not meet early stopping. Best iteration is:\n",
      "[100]\tvalid_0's rmse: 0.0127268\n",
      "Training until validation scores don't improve for 10 rounds\n",
      "Did not meet early stopping. Best iteration is:\n",
      "[99]\tvalid_0's rmse: 0.00843879\n",
      "Training until validation scores don't improve for 10 rounds\n",
      "Did not meet early stopping. Best iteration is:\n",
      "[98]\tvalid_0's rmse: 0.00935422\n",
      "Training until validation scores don't improve for 10 rounds\n"
     ]
    },
    {
     "name": "stderr",
     "output_type": "stream",
     "text": [
      "Best trial: 0. Best value: 0.0103173:   5%|▌         | 1/20 [00:04<01:33,  4.91s/it]"
     ]
    },
    {
     "name": "stdout",
     "output_type": "stream",
     "text": [
      "Did not meet early stopping. Best iteration is:\n",
      "[100]\tvalid_0's rmse: 0.00953359\n",
      "[I 2025-10-27 21:07:11,167] Trial 0 finished with value: 0.010317333771410293 and parameters: {'num_leaves': 182, 'learning_rate': 0.011989468144213243, 'feature_fraction': 0.5166788612756331, 'bagging_fraction': 0.6845006354909532, 'bagging_freq': 4, 'min_child_samples': 21, 'reg_alpha': 2.2497117616493482e-07, 'reg_lambda': 3.298694918658942e-07}. Best is trial 0 with value: 0.010317333771410293.\n",
      "Training until validation scores don't improve for 10 rounds\n",
      "Early stopping, best iteration is:\n",
      "[24]\tvalid_0's rmse: 0.0114362\n",
      "Training until validation scores don't improve for 10 rounds\n",
      "Did not meet early stopping. Best iteration is:\n",
      "[98]\tvalid_0's rmse: 0.0123127\n",
      "Training until validation scores don't improve for 10 rounds\n",
      "Did not meet early stopping. Best iteration is:\n",
      "[100]\tvalid_0's rmse: 0.0080472\n",
      "Training until validation scores don't improve for 10 rounds\n",
      "Did not meet early stopping. Best iteration is:\n",
      "[98]\tvalid_0's rmse: 0.00893433\n",
      "Training until validation scores don't improve for 10 rounds\n"
     ]
    },
    {
     "name": "stderr",
     "output_type": "stream",
     "text": [
      "Best trial: 1. Best value: 0.0100061:  10%|█         | 2/20 [00:06<00:49,  2.77s/it]"
     ]
    },
    {
     "name": "stdout",
     "output_type": "stream",
     "text": [
      "Did not meet early stopping. Best iteration is:\n",
      "[99]\tvalid_0's rmse: 0.00929996\n",
      "[I 2025-10-27 21:07:12,444] Trial 1 finished with value: 0.01000607591335927 and parameters: {'num_leaves': 24, 'learning_rate': 0.024899245377047238, 'feature_fraction': 0.4346091747715626, 'bagging_fraction': 0.9056824987564571, 'bagging_freq': 3, 'min_child_samples': 84, 'reg_alpha': 0.02304032837590041, 'reg_lambda': 7.290338180817299e-05}. Best is trial 1 with value: 0.01000607591335927.\n",
      "Training until validation scores don't improve for 10 rounds\n",
      "Early stopping, best iteration is:\n",
      "[77]\tvalid_0's rmse: 0.0109247\n",
      "Training until validation scores don't improve for 10 rounds\n",
      "Did not meet early stopping. Best iteration is:\n",
      "[98]\tvalid_0's rmse: 0.012469\n",
      "Training until validation scores don't improve for 10 rounds\n",
      "Did not meet early stopping. Best iteration is:\n",
      "[99]\tvalid_0's rmse: 0.00818384\n",
      "Training until validation scores don't improve for 10 rounds\n",
      "Early stopping, best iteration is:\n",
      "[70]\tvalid_0's rmse: 0.00898191\n",
      "Training until validation scores don't improve for 10 rounds\n"
     ]
    },
    {
     "name": "stderr",
     "output_type": "stream",
     "text": [
      "Best trial: 2. Best value: 0.00998275:  15%|█▌        | 3/20 [00:07<00:38,  2.25s/it]"
     ]
    },
    {
     "name": "stdout",
     "output_type": "stream",
     "text": [
      "Did not meet early stopping. Best iteration is:\n",
      "[100]\tvalid_0's rmse: 0.0093543\n",
      "[I 2025-10-27 21:07:14,064] Trial 2 finished with value: 0.009982752290979186 and parameters: {'num_leaves': 186, 'learning_rate': 0.021556149565961573, 'feature_fraction': 0.8645818686255713, 'bagging_fraction': 0.6584145609776676, 'bagging_freq': 7, 'min_child_samples': 72, 'reg_alpha': 4.2339393732442725e-07, 'reg_lambda': 0.00016459815415726604}. Best is trial 2 with value: 0.009982752290979186.\n",
      "Training until validation scores don't improve for 10 rounds\n",
      "Did not meet early stopping. Best iteration is:\n",
      "[100]\tvalid_0's rmse: 0.0111736\n",
      "Training until validation scores don't improve for 10 rounds\n",
      "Did not meet early stopping. Best iteration is:\n",
      "[99]\tvalid_0's rmse: 0.0125123\n",
      "Training until validation scores don't improve for 10 rounds\n",
      "Did not meet early stopping. Best iteration is:\n",
      "[100]\tvalid_0's rmse: 0.00820625\n",
      "Training until validation scores don't improve for 10 rounds\n",
      "Did not meet early stopping. Best iteration is:\n",
      "[100]\tvalid_0's rmse: 0.00891169\n",
      "Training until validation scores don't improve for 10 rounds\n"
     ]
    },
    {
     "name": "stderr",
     "output_type": "stream",
     "text": [
      "Best trial: 2. Best value: 0.00998275:  20%|██        | 4/20 [00:08<00:28,  1.77s/it]"
     ]
    },
    {
     "name": "stdout",
     "output_type": "stream",
     "text": [
      "Did not meet early stopping. Best iteration is:\n",
      "[99]\tvalid_0's rmse: 0.00932407\n",
      "[I 2025-10-27 21:07:15,107] Trial 3 finished with value: 0.010025580160160285 and parameters: {'num_leaves': 289, 'learning_rate': 0.020413345931927916, 'feature_fraction': 0.9968028714958677, 'bagging_fraction': 0.9691772873074029, 'bagging_freq': 1, 'min_child_samples': 99, 'reg_alpha': 0.5159773997967159, 'reg_lambda': 6.4406855300874275}. Best is trial 2 with value: 0.009982752290979186.\n",
      "Training until validation scores don't improve for 10 rounds\n",
      "Early stopping, best iteration is:\n",
      "[16]\tvalid_0's rmse: 0.0113591\n",
      "Training until validation scores don't improve for 10 rounds\n",
      "Early stopping, best iteration is:\n",
      "[76]\tvalid_0's rmse: 0.0125412\n",
      "Training until validation scores don't improve for 10 rounds\n",
      "Did not meet early stopping. Best iteration is:\n",
      "[100]\tvalid_0's rmse: 0.00795088\n",
      "Training until validation scores don't improve for 10 rounds\n",
      "Early stopping, best iteration is:\n",
      "[84]\tvalid_0's rmse: 0.00896949\n",
      "Training until validation scores don't improve for 10 rounds\n"
     ]
    },
    {
     "name": "stderr",
     "output_type": "stream",
     "text": [
      "Best trial: 4. Best value: 0.00996425:  25%|██▌       | 5/20 [00:16<01:00,  4.02s/it]"
     ]
    },
    {
     "name": "stdout",
     "output_type": "stream",
     "text": [
      "Did not meet early stopping. Best iteration is:\n",
      "[99]\tvalid_0's rmse: 0.00900065\n",
      "[I 2025-10-27 21:07:23,116] Trial 4 finished with value: 0.009964251781424368 and parameters: {'num_leaves': 196, 'learning_rate': 0.013700929245369798, 'feature_fraction': 0.9764620059945809, 'bagging_fraction': 0.9911468596789007, 'bagging_freq': 4, 'min_child_samples': 18, 'reg_alpha': 6.374230746348105e-06, 'reg_lambda': 5.9347189575132955e-05}. Best is trial 4 with value: 0.009964251781424368.\n",
      "Training until validation scores don't improve for 10 rounds\n",
      "Did not meet early stopping. Best iteration is:\n",
      "[98]\tvalid_0's rmse: 0.0112328\n",
      "Training until validation scores don't improve for 10 rounds\n",
      "Did not meet early stopping. Best iteration is:\n",
      "[100]\tvalid_0's rmse: 0.0124015\n",
      "Training until validation scores don't improve for 10 rounds\n",
      "Did not meet early stopping. Best iteration is:\n",
      "[99]\tvalid_0's rmse: 0.00814726\n",
      "Training until validation scores don't improve for 10 rounds\n",
      "Did not meet early stopping. Best iteration is:\n",
      "[100]\tvalid_0's rmse: 0.00898019\n",
      "Training until validation scores don't improve for 10 rounds\n"
     ]
    },
    {
     "name": "stderr",
     "output_type": "stream",
     "text": [
      "Best trial: 4. Best value: 0.00996425:  30%|███       | 6/20 [00:19<00:51,  3.67s/it]"
     ]
    },
    {
     "name": "stdout",
     "output_type": "stream",
     "text": [
      "Did not meet early stopping. Best iteration is:\n",
      "[100]\tvalid_0's rmse: 0.00918881\n",
      "[I 2025-10-27 21:07:26,105] Trial 5 finished with value: 0.009990098011228302 and parameters: {'num_leaves': 105, 'learning_rate': 0.013022108982590866, 'feature_fraction': 0.9139616880604177, 'bagging_fraction': 0.9193878298707104, 'bagging_freq': 2, 'min_child_samples': 62, 'reg_alpha': 0.0012250989711104071, 'reg_lambda': 0.0006669432154998984}. Best is trial 4 with value: 0.009964251781424368.\n",
      "Training until validation scores don't improve for 10 rounds\n",
      "Early stopping, best iteration is:\n",
      "[1]\tvalid_0's rmse: 0.0115297\n",
      "Training until validation scores don't improve for 10 rounds\n",
      "Early stopping, best iteration is:\n",
      "[1]\tvalid_0's rmse: 0.0131698\n",
      "Training until validation scores don't improve for 10 rounds\n",
      "Did not meet early stopping. Best iteration is:\n",
      "[100]\tvalid_0's rmse: 0.00936125\n",
      "Training until validation scores don't improve for 10 rounds\n",
      "Did not meet early stopping. Best iteration is:\n",
      "[98]\tvalid_0's rmse: 0.00985936\n"
     ]
    },
    {
     "name": "stderr",
     "output_type": "stream",
     "text": [
      "Best trial: 4. Best value: 0.00996425:  35%|███▌      | 7/20 [00:20<00:33,  2.56s/it]"
     ]
    },
    {
     "name": "stdout",
     "output_type": "stream",
     "text": [
      "Training until validation scores don't improve for 10 rounds\n",
      "Did not meet early stopping. Best iteration is:\n",
      "[100]\tvalid_0's rmse: 0.0100923\n",
      "[I 2025-10-27 21:07:26,383] Trial 6 finished with value: 0.010802484404401163 and parameters: {'num_leaves': 274, 'learning_rate': 0.018833099116448683, 'feature_fraction': 0.9728360297161419, 'bagging_fraction': 0.6215065786759937, 'bagging_freq': 1, 'min_child_samples': 84, 'reg_alpha': 1.3173748717419642, 'reg_lambda': 0.0006285749952263888}. Best is trial 4 with value: 0.009964251781424368.\n",
      "Training until validation scores don't improve for 10 rounds\n",
      "Did not meet early stopping. Best iteration is:\n",
      "[98]\tvalid_0's rmse: 0.0111014\n",
      "Training until validation scores don't improve for 10 rounds\n",
      "Early stopping, best iteration is:\n",
      "[72]\tvalid_0's rmse: 0.0126321\n",
      "Training until validation scores don't improve for 10 rounds\n",
      "Did not meet early stopping. Best iteration is:\n",
      "[100]\tvalid_0's rmse: 0.00826642\n",
      "Training until validation scores don't improve for 10 rounds\n",
      "Did not meet early stopping. Best iteration is:\n",
      "[98]\tvalid_0's rmse: 0.00903517\n",
      "Training until validation scores don't improve for 10 rounds\n"
     ]
    },
    {
     "name": "stderr",
     "output_type": "stream",
     "text": [
      "Best trial: 4. Best value: 0.00996425:  40%|████      | 8/20 [00:22<00:28,  2.37s/it]"
     ]
    },
    {
     "name": "stdout",
     "output_type": "stream",
     "text": [
      "Did not meet early stopping. Best iteration is:\n",
      "[98]\tvalid_0's rmse: 0.0093247\n",
      "[I 2025-10-27 21:07:28,348] Trial 7 finished with value: 0.010071959488428575 and parameters: {'num_leaves': 188, 'learning_rate': 0.016889122861506567, 'feature_fraction': 0.4868239751446447, 'bagging_fraction': 0.8603868740116393, 'bagging_freq': 6, 'min_child_samples': 80, 'reg_alpha': 0.0003180576584152502, 'reg_lambda': 1.0705671728744344e-08}. Best is trial 4 with value: 0.009964251781424368.\n",
      "Training until validation scores don't improve for 10 rounds\n",
      "Early stopping, best iteration is:\n",
      "[18]\tvalid_0's rmse: 0.0113446\n",
      "Training until validation scores don't improve for 10 rounds\n",
      "Early stopping, best iteration is:\n",
      "[39]\tvalid_0's rmse: 0.012578\n",
      "Training until validation scores don't improve for 10 rounds\n",
      "Did not meet early stopping. Best iteration is:\n",
      "[99]\tvalid_0's rmse: 0.00799453\n",
      "Training until validation scores don't improve for 10 rounds\n",
      "Early stopping, best iteration is:\n",
      "[60]\tvalid_0's rmse: 0.00910925\n",
      "Training until validation scores don't improve for 10 rounds\n"
     ]
    },
    {
     "name": "stderr",
     "output_type": "stream",
     "text": [
      "Best trial: 4. Best value: 0.00996425:  45%|████▌     | 9/20 [00:23<00:23,  2.16s/it]"
     ]
    },
    {
     "name": "stdout",
     "output_type": "stream",
     "text": [
      "Early stopping, best iteration is:\n",
      "[39]\tvalid_0's rmse: 0.00940835\n",
      "[I 2025-10-27 21:07:30,033] Trial 8 finished with value: 0.010086944740703598 and parameters: {'num_leaves': 85, 'learning_rate': 0.034851883492078066, 'feature_fraction': 0.8354057842687469, 'bagging_fraction': 0.5815829596338197, 'bagging_freq': 4, 'min_child_samples': 51, 'reg_alpha': 0.00905673317706846, 'reg_lambda': 2.0568659808507403}. Best is trial 4 with value: 0.009964251781424368.\n",
      "Training until validation scores don't improve for 10 rounds\n",
      "Early stopping, best iteration is:\n",
      "[12]\tvalid_0's rmse: 0.0111821\n",
      "Training until validation scores don't improve for 10 rounds\n",
      "Early stopping, best iteration is:\n",
      "[22]\tvalid_0's rmse: 0.0124646\n",
      "Training until validation scores don't improve for 10 rounds\n",
      "Early stopping, best iteration is:\n",
      "[89]\tvalid_0's rmse: 0.00767376\n",
      "Training until validation scores don't improve for 10 rounds\n",
      "Early stopping, best iteration is:\n",
      "[41]\tvalid_0's rmse: 0.0090588\n",
      "Training until validation scores don't improve for 10 rounds\n"
     ]
    },
    {
     "name": "stderr",
     "output_type": "stream",
     "text": [
      "Best trial: 9. Best value: 0.00985452:  50%|█████     | 10/20 [00:29<00:32,  3.26s/it]"
     ]
    },
    {
     "name": "stdout",
     "output_type": "stream",
     "text": [
      "Early stopping, best iteration is:\n",
      "[76]\tvalid_0's rmse: 0.00889328\n",
      "[I 2025-10-27 21:07:35,772] Trial 9 finished with value: 0.009854515470846304 and parameters: {'num_leaves': 151, 'learning_rate': 0.062091263846222024, 'feature_fraction': 0.9331912473216238, 'bagging_fraction': 0.88432406991036, 'bagging_freq': 5, 'min_child_samples': 5, 'reg_alpha': 0.029517985457053707, 'reg_lambda': 0.0010522971387497155}. Best is trial 9 with value: 0.009854515470846304.\n",
      "Training until validation scores don't improve for 10 rounds\n",
      "Early stopping, best iteration is:\n",
      "[1]\tvalid_0's rmse: 0.0115297\n",
      "Training until validation scores don't improve for 10 rounds\n",
      "Early stopping, best iteration is:\n",
      "[1]\tvalid_0's rmse: 0.0131698\n",
      "Training until validation scores don't improve for 10 rounds\n",
      "Early stopping, best iteration is:\n",
      "[1]\tvalid_0's rmse: 0.0094017\n",
      "Training until validation scores don't improve for 10 rounds\n",
      "Early stopping, best iteration is:\n",
      "[1]\tvalid_0's rmse: 0.0100652\n",
      "Training until validation scores don't improve for 10 rounds\n",
      "Early stopping, best iteration is:\n",
      "[1]\tvalid_0's rmse: 0.010442\n",
      "[I 2025-10-27 21:07:35,867] Trial 10 finished with value: 0.010921681302723592 and parameters: {'num_leaves': 115, 'learning_rate': 0.13052200950223947, 'feature_fraction': 0.700847548668257, 'bagging_fraction': 0.45931453103789505, 'bagging_freq': 6, 'min_child_samples': 5, 'reg_alpha': 4.8797933761158365, 'reg_lambda': 0.03508583965392121}. Best is trial 9 with value: 0.009854515470846304.\n",
      "Training until validation scores don't improve for 10 rounds\n",
      "Early stopping, best iteration is:\n",
      "[1]\tvalid_0's rmse: 0.0115706\n",
      "Training until validation scores don't improve for 10 rounds\n",
      "Early stopping, best iteration is:\n",
      "[24]\tvalid_0's rmse: 0.0123274\n",
      "Training until validation scores don't improve for 10 rounds\n",
      "Early stopping, best iteration is:\n",
      "[41]\tvalid_0's rmse: 0.00791745\n",
      "Training until validation scores don't improve for 10 rounds\n",
      "Early stopping, best iteration is:\n",
      "[15]\tvalid_0's rmse: 0.0091629\n",
      "Training until validation scores don't improve for 10 rounds\n"
     ]
    },
    {
     "name": "stderr",
     "output_type": "stream",
     "text": [
      "Best trial: 9. Best value: 0.00985452:  60%|██████    | 12/20 [00:31<00:17,  2.19s/it]"
     ]
    },
    {
     "name": "stdout",
     "output_type": "stream",
     "text": [
      "Early stopping, best iteration is:\n",
      "[50]\tvalid_0's rmse: 0.00911406\n",
      "[I 2025-10-27 21:07:37,725] Trial 11 finished with value: 0.010018485105448604 and parameters: {'num_leaves': 239, 'learning_rate': 0.0810528237161831, 'feature_fraction': 0.7231504659099071, 'bagging_fraction': 0.7851080357226696, 'bagging_freq': 5, 'min_child_samples': 33, 'reg_alpha': 1.3875742249078634e-05, 'reg_lambda': 1.7646549784768962e-06}. Best is trial 9 with value: 0.009854515470846304.\n",
      "Training until validation scores don't improve for 10 rounds\n",
      "Early stopping, best iteration is:\n",
      "[1]\tvalid_0's rmse: 0.0118558\n",
      "Training until validation scores don't improve for 10 rounds\n",
      "Early stopping, best iteration is:\n",
      "[1]\tvalid_0's rmse: 0.0128575\n",
      "Training until validation scores don't improve for 10 rounds\n",
      "Early stopping, best iteration is:\n",
      "[3]\tvalid_0's rmse: 0.00881927\n",
      "Training until validation scores don't improve for 10 rounds\n",
      "Early stopping, best iteration is:\n",
      "[3]\tvalid_0's rmse: 0.00927238\n",
      "Training until validation scores don't improve for 10 rounds\n"
     ]
    },
    {
     "name": "stderr",
     "output_type": "stream",
     "text": [
      "Best trial: 9. Best value: 0.00985452:  65%|██████▌   | 13/20 [00:33<00:14,  2.03s/it]"
     ]
    },
    {
     "name": "stdout",
     "output_type": "stream",
     "text": [
      "Early stopping, best iteration is:\n",
      "[6]\tvalid_0's rmse: 0.00950204\n",
      "[I 2025-10-27 21:07:39,283] Trial 12 finished with value: 0.010461401718812102 and parameters: {'num_leaves': 228, 'learning_rate': 0.2489768322480393, 'feature_fraction': 0.7890719110687274, 'bagging_fraction': 0.7982857523823703, 'bagging_freq': 5, 'min_child_samples': 9, 'reg_alpha': 2.7831601581870742e-05, 'reg_lambda': 0.014063192302809967}. Best is trial 9 with value: 0.009854515470846304.\n",
      "Training until validation scores don't improve for 10 rounds\n",
      "Early stopping, best iteration is:\n",
      "[1]\tvalid_0's rmse: 0.01154\n",
      "Training until validation scores don't improve for 10 rounds\n",
      "Early stopping, best iteration is:\n",
      "[51]\tvalid_0's rmse: 0.0124417\n",
      "Training until validation scores don't improve for 10 rounds\n",
      "Early stopping, best iteration is:\n",
      "[62]\tvalid_0's rmse: 0.00772601\n",
      "Training until validation scores don't improve for 10 rounds\n",
      "Early stopping, best iteration is:\n",
      "[44]\tvalid_0's rmse: 0.00910314\n",
      "Training until validation scores don't improve for 10 rounds\n"
     ]
    },
    {
     "name": "stderr",
     "output_type": "stream",
     "text": [
      "Best trial: 9. Best value: 0.00985452:  70%|███████   | 14/20 [00:36<00:13,  2.32s/it]"
     ]
    },
    {
     "name": "stdout",
     "output_type": "stream",
     "text": [
      "Early stopping, best iteration is:\n",
      "[78]\tvalid_0's rmse: 0.00894067\n",
      "[I 2025-10-27 21:07:42,406] Trial 13 finished with value: 0.009950296738149466 and parameters: {'num_leaves': 141, 'learning_rate': 0.05262245526958876, 'feature_fraction': 0.5932101974988274, 'bagging_fraction': 0.9647426828150628, 'bagging_freq': 3, 'min_child_samples': 36, 'reg_alpha': 7.26664537043772e-06, 'reg_lambda': 1.366857809615682e-05}. Best is trial 9 with value: 0.009854515470846304.\n",
      "Training until validation scores don't improve for 10 rounds\n",
      "Early stopping, best iteration is:\n",
      "[8]\tvalid_0's rmse: 0.0115044\n",
      "Training until validation scores don't improve for 10 rounds\n",
      "Early stopping, best iteration is:\n",
      "[75]\tvalid_0's rmse: 0.0123205\n",
      "Training until validation scores don't improve for 10 rounds\n",
      "Early stopping, best iteration is:\n",
      "[75]\tvalid_0's rmse: 0.00788655\n",
      "Training until validation scores don't improve for 10 rounds\n",
      "Early stopping, best iteration is:\n",
      "[42]\tvalid_0's rmse: 0.00900886\n",
      "Training until validation scores don't improve for 10 rounds\n"
     ]
    },
    {
     "name": "stderr",
     "output_type": "stream",
     "text": [
      "Best trial: 9. Best value: 0.00985452:  75%|███████▌  | 15/20 [00:38<00:11,  2.29s/it]"
     ]
    },
    {
     "name": "stdout",
     "output_type": "stream",
     "text": [
      "Early stopping, best iteration is:\n",
      "[62]\tvalid_0's rmse: 0.00913562\n",
      "[I 2025-10-27 21:07:44,615] Trial 14 finished with value: 0.009971171400192488 and parameters: {'num_leaves': 144, 'learning_rate': 0.05430163781796421, 'feature_fraction': 0.6075433895592366, 'bagging_fraction': 0.7992405936958611, 'bagging_freq': 3, 'min_child_samples': 42, 'reg_alpha': 1.0776860141673046e-08, 'reg_lambda': 3.404834829534955e-06}. Best is trial 9 with value: 0.009854515470846304.\n",
      "Training until validation scores don't improve for 10 rounds\n",
      "Early stopping, best iteration is:\n",
      "[20]\tvalid_0's rmse: 0.0113727\n",
      "Training until validation scores don't improve for 10 rounds\n",
      "Early stopping, best iteration is:\n",
      "[13]\tvalid_0's rmse: 0.0126677\n",
      "Training until validation scores don't improve for 10 rounds\n",
      "Did not meet early stopping. Best iteration is:\n",
      "[92]\tvalid_0's rmse: 0.00763158\n",
      "Training until validation scores don't improve for 10 rounds\n",
      "Early stopping, best iteration is:\n",
      "[61]\tvalid_0's rmse: 0.00906001\n",
      "Training until validation scores don't improve for 10 rounds\n"
     ]
    },
    {
     "name": "stderr",
     "output_type": "stream",
     "text": [
      "Best trial: 9. Best value: 0.00985452:  80%|████████  | 16/20 [00:39<00:08,  2.05s/it]"
     ]
    },
    {
     "name": "stdout",
     "output_type": "stream",
     "text": [
      "Early stopping, best iteration is:\n",
      "[73]\tvalid_0's rmse: 0.0090582\n",
      "[I 2025-10-27 21:07:46,040] Trial 15 finished with value: 0.009958040711759878 and parameters: {'num_leaves': 34, 'learning_rate': 0.056187629520748725, 'feature_fraction': 0.6054200159896481, 'bagging_fraction': 0.880170215042875, 'bagging_freq': 3, 'min_child_samples': 31, 'reg_alpha': 0.0239355894768899, 'reg_lambda': 0.014925629433326097}. Best is trial 9 with value: 0.009854515470846304.\n",
      "Training until validation scores don't improve for 10 rounds\n",
      "Early stopping, best iteration is:\n",
      "[40]\tvalid_0's rmse: 0.0107502\n",
      "Training until validation scores don't improve for 10 rounds\n",
      "Early stopping, best iteration is:\n",
      "[40]\tvalid_0's rmse: 0.0121663\n",
      "Training until validation scores don't improve for 10 rounds\n",
      "Early stopping, best iteration is:\n",
      "[88]\tvalid_0's rmse: 0.00753552\n",
      "Training until validation scores don't improve for 10 rounds\n",
      "Early stopping, best iteration is:\n",
      "[62]\tvalid_0's rmse: 0.00881407\n",
      "Training until validation scores don't improve for 10 rounds\n"
     ]
    },
    {
     "name": "stderr",
     "output_type": "stream",
     "text": [
      "Best trial: 16. Best value: 0.00966258:  85%|████████▌ | 17/20 [00:41<00:05,  1.94s/it]"
     ]
    },
    {
     "name": "stdout",
     "output_type": "stream",
     "text": [
      "Early stopping, best iteration is:\n",
      "[90]\tvalid_0's rmse: 0.00904679\n",
      "[I 2025-10-27 21:07:47,706] Trial 16 finished with value: 0.009662577306382997 and parameters: {'num_leaves': 66, 'learning_rate': 0.10336931199323877, 'feature_fraction': 0.6095208916350494, 'bagging_fraction': 0.7524691865540094, 'bagging_freq': 5, 'min_child_samples': 46, 'reg_alpha': 0.14299657417436742, 'reg_lambda': 0.21440001138004935}. Best is trial 16 with value: 0.009662577306382997.\n",
      "Training until validation scores don't improve for 10 rounds\n",
      "Early stopping, best iteration is:\n",
      "[39]\tvalid_0's rmse: 0.010898\n",
      "Training until validation scores don't improve for 10 rounds\n",
      "Early stopping, best iteration is:\n",
      "[25]\tvalid_0's rmse: 0.0120839\n",
      "Training until validation scores don't improve for 10 rounds\n",
      "Early stopping, best iteration is:\n",
      "[51]\tvalid_0's rmse: 0.00783605\n",
      "Training until validation scores don't improve for 10 rounds\n"
     ]
    },
    {
     "name": "stderr",
     "output_type": "stream",
     "text": [
      "Best trial: 16. Best value: 0.00966258:  90%|█████████ | 18/20 [00:42<00:03,  1.60s/it]"
     ]
    },
    {
     "name": "stdout",
     "output_type": "stream",
     "text": [
      "Early stopping, best iteration is:\n",
      "[38]\tvalid_0's rmse: 0.00882189\n",
      "Training until validation scores don't improve for 10 rounds\n",
      "Early stopping, best iteration is:\n",
      "[26]\tvalid_0's rmse: 0.00929258\n",
      "[I 2025-10-27 21:07:48,486] Trial 17 finished with value: 0.0097864748535006 and parameters: {'num_leaves': 54, 'learning_rate': 0.12069425242871601, 'feature_fraction': 0.7721129067000647, 'bagging_fraction': 0.7370549465029786, 'bagging_freq': 5, 'min_child_samples': 55, 'reg_alpha': 0.19344062348274338, 'reg_lambda': 0.2703811942636592}. Best is trial 16 with value: 0.009662577306382997.\n",
      "Training until validation scores don't improve for 10 rounds\n",
      "Early stopping, best iteration is:\n",
      "[13]\tvalid_0's rmse: 0.0111146\n",
      "Training until validation scores don't improve for 10 rounds\n",
      "Early stopping, best iteration is:\n",
      "[40]\tvalid_0's rmse: 0.0119959\n",
      "Training until validation scores don't improve for 10 rounds\n",
      "Early stopping, best iteration is:\n",
      "[39]\tvalid_0's rmse: 0.00785043\n",
      "Training until validation scores don't improve for 10 rounds\n",
      "Early stopping, best iteration is:\n",
      "[40]\tvalid_0's rmse: 0.00874669\n",
      "Training until validation scores don't improve for 10 rounds\n"
     ]
    },
    {
     "name": "stderr",
     "output_type": "stream",
     "text": [
      "Best trial: 16. Best value: 0.00966258:  95%|█████████▌| 19/20 [00:42<00:01,  1.33s/it]"
     ]
    },
    {
     "name": "stdout",
     "output_type": "stream",
     "text": [
      "Early stopping, best iteration is:\n",
      "[61]\tvalid_0's rmse: 0.00911039\n",
      "[I 2025-10-27 21:07:49,170] Trial 18 finished with value: 0.009763604456238846 and parameters: {'num_leaves': 56, 'learning_rate': 0.13943122641605374, 'feature_fraction': 0.7356612627827925, 'bagging_fraction': 0.5412728323271425, 'bagging_freq': 7, 'min_child_samples': 55, 'reg_alpha': 0.20977994339820363, 'reg_lambda': 0.3669934781027391}. Best is trial 16 with value: 0.009662577306382997.\n",
      "Training until validation scores don't improve for 10 rounds\n",
      "Early stopping, best iteration is:\n",
      "[26]\tvalid_0's rmse: 0.0108833\n",
      "Training until validation scores don't improve for 10 rounds\n",
      "Early stopping, best iteration is:\n",
      "[3]\tvalid_0's rmse: 0.0127001\n",
      "Training until validation scores don't improve for 10 rounds\n",
      "Early stopping, best iteration is:\n",
      "[13]\tvalid_0's rmse: 0.00807922\n",
      "Training until validation scores don't improve for 10 rounds\n",
      "Early stopping, best iteration is:\n",
      "[12]\tvalid_0's rmse: 0.00929193\n",
      "Training until validation scores don't improve for 10 rounds\n"
     ]
    },
    {
     "name": "stderr",
     "output_type": "stream",
     "text": [
      "Best trial: 16. Best value: 0.00966258: 100%|██████████| 20/20 [00:43<00:00,  2.17s/it]"
     ]
    },
    {
     "name": "stdout",
     "output_type": "stream",
     "text": [
      "Early stopping, best iteration is:\n",
      "[10]\tvalid_0's rmse: 0.00949743\n",
      "[I 2025-10-27 21:07:49,656] Trial 19 finished with value: 0.01009037937626461 and parameters: {'num_leaves': 72, 'learning_rate': 0.29490698595745096, 'feature_fraction': 0.6475707439242452, 'bagging_fraction': 0.5232470448682311, 'bagging_freq': 7, 'min_child_samples': 47, 'reg_alpha': 0.0020104215464171998, 'reg_lambda': 0.5400244750393348}. Best is trial 16 with value: 0.009662577306382997.\n",
      "Best LightGBM score: 0.009663\n",
      "Best LightGBM params: {'num_leaves': 66, 'learning_rate': 0.10336931199323877, 'feature_fraction': 0.6095208916350494, 'bagging_fraction': 0.7524691865540094, 'bagging_freq': 5, 'min_child_samples': 46, 'reg_alpha': 0.14299657417436742, 'reg_lambda': 0.21440001138004935}\n"
     ]
    },
    {
     "name": "stderr",
     "output_type": "stream",
     "text": [
      "\n",
      "[I 2025-10-27 21:07:53,908] A new study created in memory with name: no-name-e39eac07-925a-443c-a6f2-a62e18815136\n"
     ]
    },
    {
     "name": "stdout",
     "output_type": "stream",
     "text": [
      "\n",
      "==================================================\n",
      "Training XGBoost...\n",
      "==================================================\n"
     ]
    },
    {
     "name": "stderr",
     "output_type": "stream",
     "text": [
      "Best trial: 1. Best value: 0.010921:  10%|█         | 2/20 [00:00<00:01, 11.07it/s] "
     ]
    },
    {
     "name": "stdout",
     "output_type": "stream",
     "text": [
      "[I 2025-10-27 21:07:54,005] Trial 0 finished with value: 0.010921860267262462 and parameters: {'max_depth': 9, 'learning_rate': 0.029445750482003027, 'subsample': 0.9134074973033997, 'colsample_bytree': 0.43378797914154843, 'colsample_bylevel': 0.8963052716315498, 'min_child_weight': 3, 'gamma': 0.14870926479046023, 'reg_alpha': 0.0327974150212498, 'reg_lambda': 2.2651213746185055e-05}. Best is trial 0 with value: 0.010921860267262462.\n",
      "[I 2025-10-27 21:07:54,089] Trial 1 finished with value: 0.010920984013961292 and parameters: {'max_depth': 7, 'learning_rate': 0.19523612215283573, 'subsample': 0.796806808786382, 'colsample_bytree': 0.4937100591848922, 'colsample_bylevel': 0.8844510728573783, 'min_child_weight': 10, 'gamma': 0.8855580372495433, 'reg_alpha': 0.00015088443165285308, 'reg_lambda': 5.155954623903598e-08}. Best is trial 1 with value: 0.010920984013961292.\n"
     ]
    },
    {
     "name": "stderr",
     "output_type": "stream",
     "text": [
      "Best trial: 1. Best value: 0.010921:  10%|█         | 2/20 [00:00<00:01, 11.07it/s]"
     ]
    },
    {
     "name": "stdout",
     "output_type": "stream",
     "text": [
      "[I 2025-10-27 21:07:54,182] Trial 2 finished with value: 0.010923178693729956 and parameters: {'max_depth': 3, 'learning_rate': 0.13444602925099677, 'subsample': 0.545696128693081, 'colsample_bytree': 0.9589715461542572, 'colsample_bylevel': 0.5976122340952547, 'min_child_weight': 6, 'gamma': 2.5237649791803847, 'reg_alpha': 0.0003131046418754683, 'reg_lambda': 5.381253621563023e-05}. Best is trial 1 with value: 0.010920984013961292.\n"
     ]
    },
    {
     "name": "stderr",
     "output_type": "stream",
     "text": [
      "Best trial: 3. Best value: 0.0105148:  20%|██        | 4/20 [00:00<00:04,  3.75it/s]"
     ]
    },
    {
     "name": "stdout",
     "output_type": "stream",
     "text": [
      "[I 2025-10-27 21:07:54,870] Trial 3 finished with value: 0.01051481214741427 and parameters: {'max_depth': 3, 'learning_rate': 0.02009810862115837, 'subsample': 0.7153647434796049, 'colsample_bytree': 0.9679880609621907, 'colsample_bylevel': 0.9460129594847002, 'min_child_weight': 8, 'gamma': 4.207809724444253e-08, 'reg_alpha': 9.396665579877557e-06, 'reg_lambda': 3.488915104639766e-06}. Best is trial 3 with value: 0.01051481214741427.\n"
     ]
    },
    {
     "name": "stderr",
     "output_type": "stream",
     "text": [
      "Best trial: 4. Best value: 0.0100873:  25%|██▌       | 5/20 [00:03<00:14,  1.07it/s]"
     ]
    },
    {
     "name": "stdout",
     "output_type": "stream",
     "text": [
      "[I 2025-10-27 21:07:57,400] Trial 4 finished with value: 0.01008730791253518 and parameters: {'max_depth': 9, 'learning_rate': 0.02985594551161754, 'subsample': 0.7691152666914873, 'colsample_bytree': 0.5739046179308998, 'colsample_bylevel': 0.9845179257894582, 'min_child_weight': 1, 'gamma': 0.0001949221342843045, 'reg_alpha': 1.0585570905977498e-08, 'reg_lambda': 0.0002450462895239347}. Best is trial 4 with value: 0.01008730791253518.\n"
     ]
    },
    {
     "name": "stderr",
     "output_type": "stream",
     "text": [
      "Best trial: 4. Best value: 0.0100873:  30%|███       | 6/20 [00:03<00:10,  1.29it/s]"
     ]
    },
    {
     "name": "stdout",
     "output_type": "stream",
     "text": [
      "[I 2025-10-27 21:07:57,791] Trial 5 finished with value: 0.010886159975124206 and parameters: {'max_depth': 6, 'learning_rate': 0.22345915777469133, 'subsample': 0.7829488054519496, 'colsample_bytree': 0.6249921808182346, 'colsample_bylevel': 0.7476965755213728, 'min_child_weight': 2, 'gamma': 1.4318570678001792e-05, 'reg_alpha': 3.106967676090219e-08, 'reg_lambda': 0.00011422403099102208}. Best is trial 4 with value: 0.01008730791253518.\n"
     ]
    },
    {
     "name": "stderr",
     "output_type": "stream",
     "text": [
      "Best trial: 4. Best value: 0.0100873:  35%|███▌      | 7/20 [00:04<00:08,  1.55it/s]"
     ]
    },
    {
     "name": "stdout",
     "output_type": "stream",
     "text": [
      "[I 2025-10-27 21:07:58,133] Trial 6 finished with value: 0.011342299541725996 and parameters: {'max_depth': 6, 'learning_rate': 0.25328378762003945, 'subsample': 0.5689380968197167, 'colsample_bytree': 0.8255566602665544, 'colsample_bylevel': 0.7480440048074082, 'min_child_weight': 5, 'gamma': 3.1810206270438566e-08, 'reg_alpha': 0.0029986277305434723, 'reg_lambda': 0.0017963893647451078}. Best is trial 4 with value: 0.01008730791253518.\n"
     ]
    },
    {
     "name": "stderr",
     "output_type": "stream",
     "text": [
      "Best trial: 4. Best value: 0.0100873:  45%|████▌     | 9/20 [00:06<00:08,  1.23it/s]"
     ]
    },
    {
     "name": "stdout",
     "output_type": "stream",
     "text": [
      "[I 2025-10-27 21:08:00,342] Trial 7 finished with value: 0.010123840657048917 and parameters: {'max_depth': 7, 'learning_rate': 0.02258224203791274, 'subsample': 0.720702228109337, 'colsample_bytree': 0.5732663846059214, 'colsample_bylevel': 0.8574303815582761, 'min_child_weight': 3, 'gamma': 2.5020753341419287e-05, 'reg_alpha': 1.1278082719611064e-05, 'reg_lambda': 0.06348167269882496}. Best is trial 4 with value: 0.01008730791253518.\n",
      "[I 2025-10-27 21:08:00,446] Trial 8 finished with value: 0.010921703247086103 and parameters: {'max_depth': 10, 'learning_rate': 0.01067577557993075, 'subsample': 0.5375709973228253, 'colsample_bytree': 0.7272233336906216, 'colsample_bylevel': 0.9207085896975205, 'min_child_weight': 4, 'gamma': 0.06816082346319605, 'reg_alpha': 0.0001017319630537427, 'reg_lambda': 0.08277068725243363}. Best is trial 4 with value: 0.01008730791253518.\n",
      "[I 2025-10-27 21:08:00,529] Trial 9 finished with value: 0.01092268604165773 and parameters: {'max_depth': 8, 'learning_rate': 0.07809887943303792, 'subsample': 0.4210204351308363, 'colsample_bytree': 0.6047168604775491, 'colsample_bylevel': 0.9032405327639544, 'min_child_weight': 6, 'gamma': 0.015670435971595516, 'reg_alpha': 1.9803899621467212e-05, 'reg_lambda': 1.5847533649632385e-07}. Best is trial 4 with value: 0.01008730791253518.\n"
     ]
    },
    {
     "name": "stderr",
     "output_type": "stream",
     "text": [
      "Best trial: 4. Best value: 0.0100873:  55%|█████▌    | 11/20 [00:07<00:04,  1.88it/s]"
     ]
    },
    {
     "name": "stdout",
     "output_type": "stream",
     "text": [
      "[I 2025-10-27 21:08:00,862] Trial 10 finished with value: 0.010483721854865541 and parameters: {'max_depth': 10, 'learning_rate': 0.056598056813088035, 'subsample': 0.950124829219568, 'colsample_bytree': 0.7244136508046097, 'colsample_bylevel': 0.4444551106054204, 'min_child_weight': 1, 'gamma': 0.0013676785456136242, 'reg_alpha': 1.3358842670910998e-08, 'reg_lambda': 4.768600674334706}. Best is trial 4 with value: 0.01008730791253518.\n",
      "[I 2025-10-27 21:08:00,936] Trial 11 finished with value: 0.010921681302651157 and parameters: {'max_depth': 8, 'learning_rate': 0.0266873632145543, 'subsample': 0.8457512572675632, 'colsample_bytree': 0.5503559739129702, 'colsample_bylevel': 0.9967676996223234, 'min_child_weight': 1, 'gamma': 1.2222755278565988e-05, 'reg_alpha': 3.015643021586608, 'reg_lambda': 0.01189761131342233}. Best is trial 4 with value: 0.01008730791253518.\n"
     ]
    },
    {
     "name": "stderr",
     "output_type": "stream",
     "text": [
      "Best trial: 4. Best value: 0.0100873:  65%|██████▌   | 13/20 [00:08<00:04,  1.53it/s]"
     ]
    },
    {
     "name": "stdout",
     "output_type": "stream",
     "text": [
      "[I 2025-10-27 21:08:02,546] Trial 12 finished with value: 0.010316668809493054 and parameters: {'max_depth': 5, 'learning_rate': 0.012430600732813686, 'subsample': 0.6673431615295191, 'colsample_bytree': 0.4122573589942945, 'colsample_bylevel': 0.8078046827485437, 'min_child_weight': 3, 'gamma': 3.709883572146193e-05, 'reg_alpha': 6.51708670117418e-07, 'reg_lambda': 0.5382958267549728}. Best is trial 4 with value: 0.01008730791253518.\n"
     ]
    },
    {
     "name": "stderr",
     "output_type": "stream",
     "text": [
      "Best trial: 4. Best value: 0.0100873:  70%|███████   | 14/20 [00:10<00:05,  1.19it/s]"
     ]
    },
    {
     "name": "stdout",
     "output_type": "stream",
     "text": [
      "[I 2025-10-27 21:08:04,049] Trial 13 finished with value: 0.010261935220302073 and parameters: {'max_depth': 8, 'learning_rate': 0.0374131269527652, 'subsample': 0.652900283253441, 'colsample_bytree': 0.625642132048471, 'colsample_bylevel': 0.6209252003458974, 'min_child_weight': 3, 'gamma': 5.896892965418989e-07, 'reg_alpha': 5.652147508142406e-07, 'reg_lambda': 0.001341917730497484}. Best is trial 4 with value: 0.01008730791253518.\n"
     ]
    },
    {
     "name": "stderr",
     "output_type": "stream",
     "text": [
      "Best trial: 4. Best value: 0.0100873:  75%|███████▌  | 15/20 [00:11<00:04,  1.12it/s]"
     ]
    },
    {
     "name": "stdout",
     "output_type": "stream",
     "text": [
      "[I 2025-10-27 21:08:05,089] Trial 14 finished with value: 0.010310513106154422 and parameters: {'max_depth': 5, 'learning_rate': 0.017501521995233863, 'subsample': 0.7519055290547593, 'colsample_bytree': 0.5223308442919208, 'colsample_bylevel': 0.8217540778533405, 'min_child_weight': 1, 'gamma': 0.0007603587299276446, 'reg_alpha': 3.125684742448323e-07, 'reg_lambda': 0.03664195445349148}. Best is trial 4 with value: 0.01008730791253518.\n"
     ]
    },
    {
     "name": "stderr",
     "output_type": "stream",
     "text": [
      "Best trial: 15. Best value: 0.00970812:  80%|████████  | 16/20 [00:15<00:07,  1.80s/it]"
     ]
    },
    {
     "name": "stdout",
     "output_type": "stream",
     "text": [
      "[I 2025-10-27 21:08:09,561] Trial 15 finished with value: 0.009708119772382612 and parameters: {'max_depth': 9, 'learning_rate': 0.04729761306978388, 'subsample': 0.8575568621935157, 'colsample_bytree': 0.8203308902398182, 'colsample_bylevel': 0.9898729028743142, 'min_child_weight': 4, 'gamma': 1.0192522017783403e-06, 'reg_alpha': 0.04904139675641598, 'reg_lambda': 7.959479956249849}. Best is trial 15 with value: 0.009708119772382612.\n"
     ]
    },
    {
     "name": "stderr",
     "output_type": "stream",
     "text": [
      "Best trial: 16. Best value: 0.00958903:  85%|████████▌ | 17/20 [00:19<00:06,  2.29s/it]"
     ]
    },
    {
     "name": "stdout",
     "output_type": "stream",
     "text": [
      "[I 2025-10-27 21:08:13,187] Trial 16 finished with value: 0.009589030787123021 and parameters: {'max_depth': 9, 'learning_rate': 0.04910756799148575, 'subsample': 0.8971566210804196, 'colsample_bytree': 0.8442498581770036, 'colsample_bylevel': 0.9797599198067773, 'min_child_weight': 8, 'gamma': 9.58918649930699e-07, 'reg_alpha': 0.16469407486363916, 'reg_lambda': 3.6585462085422558e-06}. Best is trial 16 with value: 0.009589030787123021.\n"
     ]
    },
    {
     "name": "stderr",
     "output_type": "stream",
     "text": [
      "Best trial: 16. Best value: 0.00958903:  90%|█████████ | 18/20 [00:20<00:03,  1.97s/it]"
     ]
    },
    {
     "name": "stdout",
     "output_type": "stream",
     "text": [
      "[I 2025-10-27 21:08:14,303] Trial 17 finished with value: 0.00978517285282469 and parameters: {'max_depth': 9, 'learning_rate': 0.09196281614466127, 'subsample': 0.8778448961856651, 'colsample_bytree': 0.8591726379389331, 'colsample_bylevel': 0.4275548045447421, 'min_child_weight': 8, 'gamma': 8.880468232258856e-07, 'reg_alpha': 0.4885934222431843, 'reg_lambda': 1.2026201123439263e-06}. Best is trial 16 with value: 0.009589030787123021.\n"
     ]
    },
    {
     "name": "stderr",
     "output_type": "stream",
     "text": [
      "Best trial: 16. Best value: 0.00958903:  95%|█████████▌| 19/20 [00:23<00:02,  2.25s/it]"
     ]
    },
    {
     "name": "stdout",
     "output_type": "stream",
     "text": [
      "[I 2025-10-27 21:08:17,263] Trial 18 finished with value: 0.009780055910216242 and parameters: {'max_depth': 10, 'learning_rate': 0.045224465130199974, 'subsample': 0.9875754830780648, 'colsample_bytree': 0.8228119761511579, 'colsample_bylevel': 0.6498831701661338, 'min_child_weight': 8, 'gamma': 6.727782794717348e-07, 'reg_alpha': 0.04014835425115586, 'reg_lambda': 8.19980636963776}. Best is trial 16 with value: 0.009589030787123021.\n"
     ]
    },
    {
     "name": "stderr",
     "output_type": "stream",
     "text": [
      "Best trial: 16. Best value: 0.00958903: 100%|██████████| 20/20 [00:25<00:00,  1.25s/it]\n"
     ]
    },
    {
     "name": "stdout",
     "output_type": "stream",
     "text": [
      "[I 2025-10-27 21:08:18,929] Trial 19 finished with value: 0.010018366024944323 and parameters: {'max_depth': 9, 'learning_rate': 0.07832888432882341, 'subsample': 0.8429524410510553, 'colsample_bytree': 0.8953787916957179, 'colsample_bylevel': 0.547981404637044, 'min_child_weight': 7, 'gamma': 1.3207866960335259e-08, 'reg_alpha': 0.008151488851670764, 'reg_lambda': 4.435316855863864e-06}. Best is trial 16 with value: 0.009589030787123021.\n",
      "Best XGBoost score: 0.009589\n",
      "Best XGBoost params: {'max_depth': 9, 'learning_rate': 0.04910756799148575, 'subsample': 0.8971566210804196, 'colsample_bytree': 0.8442498581770036, 'colsample_bylevel': 0.9797599198067773, 'min_child_weight': 8, 'gamma': 9.58918649930699e-07, 'reg_alpha': 0.16469407486363916, 'reg_lambda': 3.6585462085422558e-06}\n",
      "\n",
      "==================================================\n",
      "Training Ensemble...\n",
      "==================================================\n",
      "\n",
      "======================================================================\n",
      "Model Evaluation Results\n",
      "======================================================================\n",
      "\n",
      "Evaluating ElasticNet...\n",
      "Signal range: [0.8390, 1.1481]\n",
      "Signal mean: 0.9770\n",
      "\n",
      "Evaluating LightGBM...\n",
      "Signal range: [0.3462, 2.0000]\n",
      "Signal mean: 1.2446\n",
      "\n",
      "Evaluating XGBoost...\n",
      "Signal range: [0.0000, 2.0000]\n",
      "Signal mean: 1.0453\n",
      "\n",
      "Evaluating Ensemble...\n",
      "Signal range: [0.5518, 2.0000]\n",
      "Signal mean: 1.2425\n",
      "\n",
      "======================================================================\n",
      "Feature Importance (LightGBM)\n",
      "======================================================================\n",
      "1. Column_87: 1.0992\n",
      "2. Column_76: 0.7253\n",
      "3. Column_84: 0.6050\n",
      "4. Column_81: 0.5406\n",
      "5. Column_77: 0.2012\n",
      "6. Column_85: 0.1863\n",
      "7. Column_71: 0.1613\n",
      "8. Column_86: 0.1252\n",
      "9. Column_5: 0.1130\n",
      "10. Column_82: 0.1118\n",
      "\n",
      "======================================================================\n",
      "Generating Visualizations\n",
      "======================================================================\n",
      "\n",
      "✅ Saved predictions plot to artifacts/predictions_comparison.png\n",
      "✅ Saved distribution plot to artifacts/signal_distribution.png\n",
      "✅ Saved statistics plot to artifacts/signal_statistics.png\n",
      "\n",
      "Training completed successfully!\n"
     ]
    }
   ],
   "source": [
    "if __name__ == \"__main__\":\n",
    "    results, signals, test_data = main()\n",
    "    \n",
    "    # Plot results\n",
    "    print(\"\\n\" + \"=\"*70)\n",
    "    print(\"Generating Visualizations\")\n",
    "    print(\"=\"*70)\n",
    "    plot_training_results(signals, test_data)\n",
    "    \n",
    "    print(\"\\nTraining completed successfully!\")"
   ]
  }
 ],
 "metadata": {
  "kernelspec": {
   "display_name": "venv",
   "language": "python",
   "name": "python3"
  },
  "language_info": {
   "codemirror_mode": {
    "name": "ipython",
    "version": 3
   },
   "file_extension": ".py",
   "mimetype": "text/x-python",
   "name": "python",
   "nbconvert_exporter": "python",
   "pygments_lexer": "ipython3",
   "version": "3.13.3"
  }
 },
 "nbformat": 4,
 "nbformat_minor": 5
}
